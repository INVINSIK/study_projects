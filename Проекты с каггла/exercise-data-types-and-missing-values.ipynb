{
 "cells": [
  {
   "cell_type": "markdown",
   "id": "b46519c5",
   "metadata": {
    "papermill": {
     "duration": 0.006755,
     "end_time": "2024-09-23T10:32:18.179603",
     "exception": false,
     "start_time": "2024-09-23T10:32:18.172848",
     "status": "completed"
    },
    "tags": []
   },
   "source": [
    "**This notebook is an exercise in the [Pandas](https://www.kaggle.com/learn/pandas) course.  You can reference the tutorial at [this link](https://www.kaggle.com/residentmario/data-types-and-missing-values).**\n",
    "\n",
    "---\n"
   ]
  },
  {
   "cell_type": "markdown",
   "id": "698e8715",
   "metadata": {
    "papermill": {
     "duration": 0.005806,
     "end_time": "2024-09-23T10:32:18.191723",
     "exception": false,
     "start_time": "2024-09-23T10:32:18.185917",
     "status": "completed"
    },
    "tags": []
   },
   "source": [
    "# Introduction\n",
    "\n",
    "Run the following cell to load your data and some utility functions."
   ]
  },
  {
   "cell_type": "code",
   "execution_count": 1,
   "id": "ff61bb10",
   "metadata": {
    "execution": {
     "iopub.execute_input": "2024-09-23T10:32:18.206117Z",
     "iopub.status.busy": "2024-09-23T10:32:18.205572Z",
     "iopub.status.idle": "2024-09-23T10:32:21.930791Z",
     "shell.execute_reply": "2024-09-23T10:32:21.929406Z"
    },
    "papermill": {
     "duration": 3.735923,
     "end_time": "2024-09-23T10:32:21.933733",
     "exception": false,
     "start_time": "2024-09-23T10:32:18.197810",
     "status": "completed"
    },
    "tags": []
   },
   "outputs": [
    {
     "name": "stdout",
     "output_type": "stream",
     "text": [
      "Setup complete.\n"
     ]
    }
   ],
   "source": [
    "import pandas as pd\n",
    "\n",
    "reviews = pd.read_csv(\"../input/wine-reviews/winemag-data-130k-v2.csv\", index_col=0)\n",
    "\n",
    "from learntools.core import binder; binder.bind(globals())\n",
    "from learntools.pandas.data_types_and_missing_data import *\n",
    "print(\"Setup complete.\")"
   ]
  },
  {
   "cell_type": "markdown",
   "id": "3617fd6f",
   "metadata": {
    "papermill": {
     "duration": 0.006207,
     "end_time": "2024-09-23T10:32:21.946459",
     "exception": false,
     "start_time": "2024-09-23T10:32:21.940252",
     "status": "completed"
    },
    "tags": []
   },
   "source": [
    "# Exercises"
   ]
  },
  {
   "cell_type": "markdown",
   "id": "78f0ef73",
   "metadata": {
    "papermill": {
     "duration": 0.006083,
     "end_time": "2024-09-23T10:32:21.958831",
     "exception": false,
     "start_time": "2024-09-23T10:32:21.952748",
     "status": "completed"
    },
    "tags": []
   },
   "source": [
    "## 1. \n",
    "What is the data type of the `points` column in the dataset?"
   ]
  },
  {
   "cell_type": "code",
   "execution_count": 2,
   "id": "e307349d",
   "metadata": {
    "execution": {
     "iopub.execute_input": "2024-09-23T10:32:21.973672Z",
     "iopub.status.busy": "2024-09-23T10:32:21.973198Z",
     "iopub.status.idle": "2024-09-23T10:32:21.985378Z",
     "shell.execute_reply": "2024-09-23T10:32:21.984227Z"
    },
    "papermill": {
     "duration": 0.022471,
     "end_time": "2024-09-23T10:32:21.987752",
     "exception": false,
     "start_time": "2024-09-23T10:32:21.965281",
     "status": "completed"
    },
    "tags": []
   },
   "outputs": [
    {
     "data": {
      "application/javascript": [
       "parent.postMessage({\"jupyterEvent\": \"custom.exercise_interaction\", \"data\": {\"outcomeType\": 1, \"valueTowardsCompletion\": 0.25, \"interactionType\": 1, \"questionType\": 1, \"questionId\": \"1_PointsDtype\", \"learnToolsVersion\": \"0.3.4\", \"failureMessage\": \"\", \"exceptionClass\": \"\", \"trace\": \"\"}}, \"*\")"
      ],
      "text/plain": [
       "<IPython.core.display.Javascript object>"
      ]
     },
     "metadata": {},
     "output_type": "display_data"
    },
    {
     "data": {
      "text/markdown": [
       "<span style=\"color:#33cc33\">Correct</span>"
      ],
      "text/plain": [
       "Correct"
      ]
     },
     "metadata": {},
     "output_type": "display_data"
    }
   ],
   "source": [
    "# Your code here\n",
    "dtype = reviews.points.dtype\n",
    "\n",
    "# Check your answer\n",
    "q1.check()"
   ]
  },
  {
   "cell_type": "code",
   "execution_count": 3,
   "id": "dd8cc2c8",
   "metadata": {
    "execution": {
     "iopub.execute_input": "2024-09-23T10:32:22.003484Z",
     "iopub.status.busy": "2024-09-23T10:32:22.002407Z",
     "iopub.status.idle": "2024-09-23T10:32:22.007399Z",
     "shell.execute_reply": "2024-09-23T10:32:22.006202Z"
    },
    "papermill": {
     "duration": 0.01538,
     "end_time": "2024-09-23T10:32:22.009791",
     "exception": false,
     "start_time": "2024-09-23T10:32:21.994411",
     "status": "completed"
    },
    "tags": []
   },
   "outputs": [],
   "source": [
    "#q1.hint()\n",
    "#q1.solution()"
   ]
  },
  {
   "cell_type": "markdown",
   "id": "40f45b22",
   "metadata": {
    "papermill": {
     "duration": 0.006349,
     "end_time": "2024-09-23T10:32:22.022951",
     "exception": false,
     "start_time": "2024-09-23T10:32:22.016602",
     "status": "completed"
    },
    "tags": []
   },
   "source": [
    "## 2. \n",
    "Create a Series from entries in the `points` column, but convert the entries to strings. Hint: strings are `str` in native Python."
   ]
  },
  {
   "cell_type": "code",
   "execution_count": 4,
   "id": "30a5a106",
   "metadata": {
    "execution": {
     "iopub.execute_input": "2024-09-23T10:32:22.038322Z",
     "iopub.status.busy": "2024-09-23T10:32:22.037865Z",
     "iopub.status.idle": "2024-09-23T10:32:22.110879Z",
     "shell.execute_reply": "2024-09-23T10:32:22.109666Z"
    },
    "papermill": {
     "duration": 0.08347,
     "end_time": "2024-09-23T10:32:22.113083",
     "exception": false,
     "start_time": "2024-09-23T10:32:22.029613",
     "status": "completed"
    },
    "tags": []
   },
   "outputs": [
    {
     "data": {
      "application/javascript": [
       "parent.postMessage({\"jupyterEvent\": \"custom.exercise_interaction\", \"data\": {\"outcomeType\": 1, \"valueTowardsCompletion\": 0.25, \"interactionType\": 1, \"questionType\": 1, \"questionId\": \"2_StrPoints\", \"learnToolsVersion\": \"0.3.4\", \"failureMessage\": \"\", \"exceptionClass\": \"\", \"trace\": \"\"}}, \"*\")"
      ],
      "text/plain": [
       "<IPython.core.display.Javascript object>"
      ]
     },
     "metadata": {},
     "output_type": "display_data"
    },
    {
     "data": {
      "text/markdown": [
       "<span style=\"color:#33cc33\">Correct</span>"
      ],
      "text/plain": [
       "Correct"
      ]
     },
     "metadata": {},
     "output_type": "display_data"
    }
   ],
   "source": [
    "point_strings = reviews.points.astype('str')\n",
    "\n",
    "# Check your answer\n",
    "q2.check()"
   ]
  },
  {
   "cell_type": "code",
   "execution_count": 5,
   "id": "9434bbb7",
   "metadata": {
    "execution": {
     "iopub.execute_input": "2024-09-23T10:32:22.129470Z",
     "iopub.status.busy": "2024-09-23T10:32:22.129023Z",
     "iopub.status.idle": "2024-09-23T10:32:22.133568Z",
     "shell.execute_reply": "2024-09-23T10:32:22.132552Z"
    },
    "papermill": {
     "duration": 0.015641,
     "end_time": "2024-09-23T10:32:22.135931",
     "exception": false,
     "start_time": "2024-09-23T10:32:22.120290",
     "status": "completed"
    },
    "tags": []
   },
   "outputs": [],
   "source": [
    "#q2.hint()\n",
    "#q2.solution()"
   ]
  },
  {
   "cell_type": "markdown",
   "id": "f1489ddb",
   "metadata": {
    "papermill": {
     "duration": 0.006917,
     "end_time": "2024-09-23T10:32:22.150008",
     "exception": false,
     "start_time": "2024-09-23T10:32:22.143091",
     "status": "completed"
    },
    "tags": []
   },
   "source": [
    "## 3.\n",
    "Sometimes the price column is null. How many reviews in the dataset are missing a price?"
   ]
  },
  {
   "cell_type": "code",
   "execution_count": 6,
   "id": "daa9d290",
   "metadata": {
    "execution": {
     "iopub.execute_input": "2024-09-23T10:32:22.165788Z",
     "iopub.status.busy": "2024-09-23T10:32:22.165378Z",
     "iopub.status.idle": "2024-09-23T10:32:22.178899Z",
     "shell.execute_reply": "2024-09-23T10:32:22.177699Z"
    },
    "papermill": {
     "duration": 0.024406,
     "end_time": "2024-09-23T10:32:22.181430",
     "exception": false,
     "start_time": "2024-09-23T10:32:22.157024",
     "status": "completed"
    },
    "tags": []
   },
   "outputs": [
    {
     "data": {
      "application/javascript": [
       "parent.postMessage({\"jupyterEvent\": \"custom.exercise_interaction\", \"data\": {\"outcomeType\": 1, \"valueTowardsCompletion\": 0.25, \"interactionType\": 1, \"questionType\": 1, \"questionId\": \"3_CountMissingPrices\", \"learnToolsVersion\": \"0.3.4\", \"failureMessage\": \"\", \"exceptionClass\": \"\", \"trace\": \"\"}}, \"*\")"
      ],
      "text/plain": [
       "<IPython.core.display.Javascript object>"
      ]
     },
     "metadata": {},
     "output_type": "display_data"
    },
    {
     "data": {
      "text/markdown": [
       "<span style=\"color:#33cc33\">Correct</span>"
      ],
      "text/plain": [
       "Correct"
      ]
     },
     "metadata": {},
     "output_type": "display_data"
    },
    {
     "data": {
      "text/plain": [
       "8996"
      ]
     },
     "execution_count": 6,
     "metadata": {},
     "output_type": "execute_result"
    }
   ],
   "source": [
    "n_missing_prices = reviews.price.isnull().sum()\n",
    "\n",
    "# Check your answer\n",
    "q3.check()\n",
    "n_missing_prices"
   ]
  },
  {
   "cell_type": "code",
   "execution_count": 7,
   "id": "b0cde3e7",
   "metadata": {
    "execution": {
     "iopub.execute_input": "2024-09-23T10:32:22.199179Z",
     "iopub.status.busy": "2024-09-23T10:32:22.198737Z",
     "iopub.status.idle": "2024-09-23T10:32:22.212779Z",
     "shell.execute_reply": "2024-09-23T10:32:22.211479Z"
    },
    "papermill": {
     "duration": 0.025803,
     "end_time": "2024-09-23T10:32:22.215250",
     "exception": false,
     "start_time": "2024-09-23T10:32:22.189447",
     "status": "completed"
    },
    "tags": []
   },
   "outputs": [
    {
     "data": {
      "application/javascript": [
       "parent.postMessage({\"jupyterEvent\": \"custom.exercise_interaction\", \"data\": {\"interactionType\": 2, \"questionType\": 1, \"questionId\": \"3_CountMissingPrices\", \"learnToolsVersion\": \"0.3.4\", \"valueTowardsCompletion\": 0.0, \"failureMessage\": \"\", \"exceptionClass\": \"\", \"trace\": \"\", \"outcomeType\": 4}}, \"*\")"
      ],
      "text/plain": [
       "<IPython.core.display.Javascript object>"
      ]
     },
     "metadata": {},
     "output_type": "display_data"
    },
    {
     "data": {
      "text/markdown": [
       "<span style=\"color:#3366cc\">Hint:</span> Use `pd.isnull()`."
      ],
      "text/plain": [
       "Hint: Use `pd.isnull()`."
      ]
     },
     "metadata": {},
     "output_type": "display_data"
    },
    {
     "data": {
      "application/javascript": [
       "parent.postMessage({\"jupyterEvent\": \"custom.exercise_interaction\", \"data\": {\"interactionType\": 3, \"questionType\": 1, \"questionId\": \"3_CountMissingPrices\", \"learnToolsVersion\": \"0.3.4\", \"valueTowardsCompletion\": 0.0, \"failureMessage\": \"\", \"exceptionClass\": \"\", \"trace\": \"\", \"outcomeType\": 4}}, \"*\")"
      ],
      "text/plain": [
       "<IPython.core.display.Javascript object>"
      ]
     },
     "metadata": {},
     "output_type": "display_data"
    },
    {
     "data": {
      "text/markdown": [
       "<span style=\"color:#33cc99\">Solution:</span> \n",
       "```python\n",
       "missing_price_reviews = reviews[reviews.price.isnull()]\n",
       "n_missing_prices = len(missing_price_reviews)\n",
       "# Cute alternative solution: if we sum a boolean series, True is treated as 1 and False as 0\n",
       "n_missing_prices = reviews.price.isnull().sum()\n",
       "# or equivalently:\n",
       "n_missing_prices = pd.isnull(reviews.price).sum()\n",
       "\n",
       "```"
      ],
      "text/plain": [
       "Solution: \n",
       "```python\n",
       "missing_price_reviews = reviews[reviews.price.isnull()]\n",
       "n_missing_prices = len(missing_price_reviews)\n",
       "# Cute alternative solution: if we sum a boolean series, True is treated as 1 and False as 0\n",
       "n_missing_prices = reviews.price.isnull().sum()\n",
       "# or equivalently:\n",
       "n_missing_prices = pd.isnull(reviews.price).sum()\n",
       "\n",
       "```"
      ]
     },
     "metadata": {},
     "output_type": "display_data"
    }
   ],
   "source": [
    "q3.hint()\n",
    "q3.solution()"
   ]
  },
  {
   "cell_type": "markdown",
   "id": "671cff72",
   "metadata": {
    "papermill": {
     "duration": 0.007976,
     "end_time": "2024-09-23T10:32:22.231569",
     "exception": false,
     "start_time": "2024-09-23T10:32:22.223593",
     "status": "completed"
    },
    "tags": []
   },
   "source": [
    "## 4.\n",
    "What are the most common wine-producing regions? Create a Series counting the number of times each value occurs in the `region_1` field. This field is often missing data, so replace missing values with `Unknown`. Sort in descending order.  Your output should look something like this:\n",
    "\n",
    "```\n",
    "Unknown                    21247\n",
    "Napa Valley                 4480\n",
    "                           ...  \n",
    "Bardolino Superiore            1\n",
    "Primitivo del Tarantino        1\n",
    "Name: region_1, Length: 1230, dtype: int64\n",
    "```"
   ]
  },
  {
   "cell_type": "code",
   "execution_count": 8,
   "id": "17f4e8ce",
   "metadata": {
    "execution": {
     "iopub.execute_input": "2024-09-23T10:32:22.250339Z",
     "iopub.status.busy": "2024-09-23T10:32:22.249345Z",
     "iopub.status.idle": "2024-09-23T10:32:22.274465Z",
     "shell.execute_reply": "2024-09-23T10:32:22.273471Z"
    },
    "papermill": {
     "duration": 0.037196,
     "end_time": "2024-09-23T10:32:22.277073",
     "exception": false,
     "start_time": "2024-09-23T10:32:22.239877",
     "status": "completed"
    },
    "tags": []
   },
   "outputs": [],
   "source": [
    "reviews.region_1 = reviews.region_1.fillna(\"Unknown\")"
   ]
  },
  {
   "cell_type": "code",
   "execution_count": 9,
   "id": "a871d0f2",
   "metadata": {
    "execution": {
     "iopub.execute_input": "2024-09-23T10:32:22.296442Z",
     "iopub.status.busy": "2024-09-23T10:32:22.295554Z",
     "iopub.status.idle": "2024-09-23T10:32:22.371695Z",
     "shell.execute_reply": "2024-09-23T10:32:22.370597Z"
    },
    "papermill": {
     "duration": 0.088442,
     "end_time": "2024-09-23T10:32:22.374094",
     "exception": false,
     "start_time": "2024-09-23T10:32:22.285652",
     "status": "completed"
    },
    "tags": []
   },
   "outputs": [
    {
     "data": {
      "application/javascript": [
       "parent.postMessage({\"jupyterEvent\": \"custom.exercise_interaction\", \"data\": {\"outcomeType\": 1, \"valueTowardsCompletion\": 0.25, \"interactionType\": 1, \"questionType\": 2, \"questionId\": \"4_ReviewsPerRegion\", \"learnToolsVersion\": \"0.3.4\", \"failureMessage\": \"\", \"exceptionClass\": \"\", \"trace\": \"\"}}, \"*\")"
      ],
      "text/plain": [
       "<IPython.core.display.Javascript object>"
      ]
     },
     "metadata": {},
     "output_type": "display_data"
    },
    {
     "data": {
      "text/markdown": [
       "<span style=\"color:#33cc33\">Correct</span>"
      ],
      "text/plain": [
       "Correct"
      ]
     },
     "metadata": {},
     "output_type": "display_data"
    },
    {
     "data": {
      "text/plain": [
       "region_1\n",
       "Unknown                           21247\n",
       "Napa Valley                        4480\n",
       "Columbia Valley (WA)               4124\n",
       "Russian River Valley               3091\n",
       "California                         2629\n",
       "                                  ...  \n",
       "Saint-Chinian-Roquebrun               1\n",
       "Paso Robles Highlands District        1\n",
       "Trentino Superiore                    1\n",
       "Frascati                              1\n",
       "Dolcetto d'Alba Superiore             1\n",
       "Length: 1230, dtype: int64"
      ]
     },
     "execution_count": 9,
     "metadata": {},
     "output_type": "execute_result"
    }
   ],
   "source": [
    "reviews_per_region = reviews.groupby(['region_1']).size().sort_values(ascending = False)\n",
    "\n",
    "# Check your answer\n",
    "q4.check()\n",
    "reviews_per_region"
   ]
  },
  {
   "cell_type": "code",
   "execution_count": 10,
   "id": "aee3f0cb",
   "metadata": {
    "execution": {
     "iopub.execute_input": "2024-09-23T10:32:22.395100Z",
     "iopub.status.busy": "2024-09-23T10:32:22.394084Z",
     "iopub.status.idle": "2024-09-23T10:32:22.399026Z",
     "shell.execute_reply": "2024-09-23T10:32:22.397910Z"
    },
    "papermill": {
     "duration": 0.017852,
     "end_time": "2024-09-23T10:32:22.401439",
     "exception": false,
     "start_time": "2024-09-23T10:32:22.383587",
     "status": "completed"
    },
    "tags": []
   },
   "outputs": [],
   "source": [
    "#q4.hint()\n",
    "#q4.solution()"
   ]
  },
  {
   "cell_type": "markdown",
   "id": "cc2b322b",
   "metadata": {
    "papermill": {
     "duration": 0.008708,
     "end_time": "2024-09-23T10:32:22.419079",
     "exception": false,
     "start_time": "2024-09-23T10:32:22.410371",
     "status": "completed"
    },
    "tags": []
   },
   "source": [
    "# Keep going\n",
    "\n",
    "Move on to **[renaming and combining](https://www.kaggle.com/residentmario/renaming-and-combining)**."
   ]
  },
  {
   "cell_type": "markdown",
   "id": "23951991",
   "metadata": {
    "papermill": {
     "duration": 0.00855,
     "end_time": "2024-09-23T10:32:22.436493",
     "exception": false,
     "start_time": "2024-09-23T10:32:22.427943",
     "status": "completed"
    },
    "tags": []
   },
   "source": [
    "---\n",
    "\n",
    "\n",
    "\n",
    "\n",
    "*Have questions or comments? Visit the [course discussion forum](https://www.kaggle.com/learn/pandas/discussion) to chat with other learners.*"
   ]
  }
 ],
 "metadata": {
  "kaggle": {
   "accelerator": "none",
   "dataSources": [
    {
     "datasetId": 655,
     "sourceId": 1252,
     "sourceType": "datasetVersion"
    },
    {
     "datasetId": 2321,
     "sourceId": 3919,
     "sourceType": "datasetVersion"
    },
    {
     "datasetId": 2894,
     "sourceId": 4877,
     "sourceType": "datasetVersion"
    },
    {
     "datasetId": 3491,
     "sourceId": 5624,
     "sourceType": "datasetVersion"
    },
    {
     "datasetId": 1442,
     "sourceId": 8172,
     "sourceType": "datasetVersion"
    },
    {
     "datasetId": 9366,
     "sourceId": 13206,
     "sourceType": "datasetVersion"
    },
    {
     "datasetId": 179555,
     "sourceId": 403916,
     "sourceType": "datasetVersion"
    },
    {
     "datasetId": 4549,
     "sourceId": 466349,
     "sourceType": "datasetVersion"
    },
    {
     "datasetId": 2478,
     "sourceId": 1151655,
     "sourceType": "datasetVersion"
    },
    {
     "datasetId": 10128,
     "sourceId": 5438389,
     "sourceType": "datasetVersion"
    }
   ],
   "isGpuEnabled": false,
   "isInternetEnabled": false,
   "language": "python",
   "sourceType": "notebook"
  },
  "kernelspec": {
   "display_name": "Python 3",
   "language": "python",
   "name": "python3"
  },
  "language_info": {
   "codemirror_mode": {
    "name": "ipython",
    "version": 3
   },
   "file_extension": ".py",
   "mimetype": "text/x-python",
   "name": "python",
   "nbconvert_exporter": "python",
   "pygments_lexer": "ipython3",
   "version": "3.10.14"
  },
  "papermill": {
   "default_parameters": {},
   "duration": 7.907942,
   "end_time": "2024-09-23T10:32:23.067595",
   "environment_variables": {},
   "exception": null,
   "input_path": "__notebook__.ipynb",
   "output_path": "__notebook__.ipynb",
   "parameters": {},
   "start_time": "2024-09-23T10:32:15.159653",
   "version": "2.6.0"
  }
 },
 "nbformat": 4,
 "nbformat_minor": 5
}
