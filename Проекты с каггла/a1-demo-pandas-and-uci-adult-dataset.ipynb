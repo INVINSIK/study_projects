{
 "cells": [
  {
   "cell_type": "markdown",
   "metadata": {
    "_uuid": "570fb89bb4f7838b1d0fdff70b2935790e5dbdbe"
   },
   "source": [
    "<center>\n",
    "<img src=\"https://habrastorage.org/files/fd4/502/43d/fd450243dd604b81b9713213a247aa20.jpg\">\n",
    "    \n",
    "## [mlcourse.ai](mlcourse.ai) – Open Machine Learning Course \n",
    "\n",
    "<center>Author: [Yury Kashnitskiy](http://yorko.github.io) <br>\n",
    "Translated and edited by [Sergey Isaev](https://www.linkedin.com/in/isvforall/), [Artem Trunov](https://www.linkedin.com/in/datamove/), [Anastasia Manokhina](https://www.linkedin.com/in/anastasiamanokhina/), and [Yuanyuan Pao](https://www.linkedin.com/in/yuanyuanpao/) <br>All content is distributed under the [Creative Commons CC BY-NC-SA 4.0](https://creativecommons.org/licenses/by-nc-sa/4.0/) license."
   ]
  },
  {
   "cell_type": "markdown",
   "metadata": {
    "_uuid": "998fc5f76227ab1df9460a7b05c508304b14b3a6"
   },
   "source": [
    "# <center> Assignment #1 (demo)\n",
    "## <center>  Exploratory data analysis with Pandas\n"
   ]
  },
  {
   "cell_type": "markdown",
   "metadata": {
    "_uuid": "89ef93231815456f4e0bc5dcc00b094aee800993"
   },
   "source": [
    "**In this task you should use Pandas to answer a few questions about the [Adult](https://archive.ics.uci.edu/ml/datasets/Adult) dataset. (You don't have to download the data – it's already here). Choose the answers in the [web-form](https://docs.google.com/forms/d/1uY7MpI2trKx6FLWZte0uVh3ULV4Cm_tDud0VDFGCOKg). This is a demo version of an assignment, so by submitting the form, you'll see a link to the solution .ipynb file.**"
   ]
  },
  {
   "cell_type": "markdown",
   "metadata": {
    "_uuid": "c322301ac858c748f8f80e63cf6f734fc70dde30"
   },
   "source": [
    "Unique values of all features (for more information, please see the links above):\n",
    "- `age`: continuous.\n",
    "- `workclass`: Private, Self-emp-not-inc, Self-emp-inc, Federal-gov, Local-gov, State-gov, Without-pay, Never-worked.\n",
    "- `fnlwgt`: continuous.\n",
    "- `education`: Bachelors, Some-college, 11th, HS-grad, Prof-school, Assoc-acdm, Assoc-voc, 9th, 7th-8th, 12th, Masters, 1st-4th, 10th, Doctorate, 5th-6th, Preschool.\n",
    "- `education-num`: continuous.\n",
    "- `marital-status`: Married-civ-spouse, Divorced, Never-married, Separated, Widowed, Married-spouse-absent, Married-AF-spouse.\n",
    "- `occupation`: Tech-support, Craft-repair, Other-service, Sales, Exec-managerial, Prof-specialty, Handlers-cleaners, Machine-op-inspct, Adm-clerical, Farming-fishing, Transport-moving, Priv-house-serv, Protective-serv, Armed-Forces.\n",
    "- `relationship`: Wife, Own-child, Husband, Not-in-family, Other-relative, Unmarried.\n",
    "- `race`: White, Asian-Pac-Islander, Amer-Indian-Eskimo, Other, Black.\n",
    "- `sex`: Female, Male.\n",
    "- `capital-gain`: continuous.\n",
    "- `capital-loss`: continuous.\n",
    "- `hours-per-week`: continuous.\n",
    "- `native-country`: United-States, Cambodia, England, Puerto-Rico, Canada, Germany, Outlying-US(Guam-USVI-etc), India, Japan, Greece, South, China, Cuba, Iran, Honduras, Philippines, Italy, Poland, Jamaica, Vietnam, Mexico, Portugal, Ireland, France, Dominican-Republic, Laos, Ecuador, Taiwan, Haiti, Columbia, Hungary, Guatemala, Nicaragua, Scotland, Thailand, Yugoslavia, El-Salvador, Trinadad&Tobago, Peru, Hong, Holand-Netherlands.   \n",
    "- `salary`: >50K,<=50K"
   ]
  },
  {
   "cell_type": "code",
   "execution_count": 1,
   "metadata": {
    "_uuid": "d3eb2411e23b7db11e4cbbb498a42752442a6f4c",
    "execution": {
     "iopub.execute_input": "2024-09-19T05:56:40.002494Z",
     "iopub.status.busy": "2024-09-19T05:56:40.002204Z",
     "iopub.status.idle": "2024-09-19T05:56:40.006343Z",
     "shell.execute_reply": "2024-09-19T05:56:40.005507Z",
     "shell.execute_reply.started": "2024-09-19T05:56:40.002446Z"
    }
   },
   "outputs": [],
   "source": [
    "import pandas as pd\n",
    "import numpy as np"
   ]
  },
  {
   "cell_type": "code",
   "execution_count": 2,
   "metadata": {
    "_uuid": "c5119d1b8151029b4ff57735c4279b795ae492a2",
    "execution": {
     "iopub.execute_input": "2024-09-19T05:16:13.781598Z",
     "iopub.status.busy": "2024-09-19T05:16:13.781310Z",
     "iopub.status.idle": "2024-09-19T05:16:13.971414Z",
     "shell.execute_reply": "2024-09-19T05:16:13.970481Z",
     "shell.execute_reply.started": "2024-09-19T05:16:13.781546Z"
    }
   },
   "outputs": [
    {
     "data": {
      "text/html": [
       "<div>\n",
       "<style scoped>\n",
       "    .dataframe tbody tr th:only-of-type {\n",
       "        vertical-align: middle;\n",
       "    }\n",
       "\n",
       "    .dataframe tbody tr th {\n",
       "        vertical-align: top;\n",
       "    }\n",
       "\n",
       "    .dataframe thead th {\n",
       "        text-align: right;\n",
       "    }\n",
       "</style>\n",
       "<table border=\"1\" class=\"dataframe\">\n",
       "  <thead>\n",
       "    <tr style=\"text-align: right;\">\n",
       "      <th></th>\n",
       "      <th>age</th>\n",
       "      <th>workclass</th>\n",
       "      <th>fnlwgt</th>\n",
       "      <th>education</th>\n",
       "      <th>education-num</th>\n",
       "      <th>marital-status</th>\n",
       "      <th>occupation</th>\n",
       "      <th>relationship</th>\n",
       "      <th>race</th>\n",
       "      <th>sex</th>\n",
       "      <th>capital-gain</th>\n",
       "      <th>capital-loss</th>\n",
       "      <th>hours-per-week</th>\n",
       "      <th>native-country</th>\n",
       "      <th>salary</th>\n",
       "    </tr>\n",
       "  </thead>\n",
       "  <tbody>\n",
       "    <tr>\n",
       "      <th>0</th>\n",
       "      <td>39</td>\n",
       "      <td>State-gov</td>\n",
       "      <td>77516</td>\n",
       "      <td>Bachelors</td>\n",
       "      <td>13</td>\n",
       "      <td>Never-married</td>\n",
       "      <td>Adm-clerical</td>\n",
       "      <td>Not-in-family</td>\n",
       "      <td>White</td>\n",
       "      <td>Male</td>\n",
       "      <td>2174</td>\n",
       "      <td>0</td>\n",
       "      <td>40</td>\n",
       "      <td>United-States</td>\n",
       "      <td>&lt;=50K</td>\n",
       "    </tr>\n",
       "    <tr>\n",
       "      <th>1</th>\n",
       "      <td>50</td>\n",
       "      <td>Self-emp-not-inc</td>\n",
       "      <td>83311</td>\n",
       "      <td>Bachelors</td>\n",
       "      <td>13</td>\n",
       "      <td>Married-civ-spouse</td>\n",
       "      <td>Exec-managerial</td>\n",
       "      <td>Husband</td>\n",
       "      <td>White</td>\n",
       "      <td>Male</td>\n",
       "      <td>0</td>\n",
       "      <td>0</td>\n",
       "      <td>13</td>\n",
       "      <td>United-States</td>\n",
       "      <td>&lt;=50K</td>\n",
       "    </tr>\n",
       "    <tr>\n",
       "      <th>2</th>\n",
       "      <td>38</td>\n",
       "      <td>Private</td>\n",
       "      <td>215646</td>\n",
       "      <td>HS-grad</td>\n",
       "      <td>9</td>\n",
       "      <td>Divorced</td>\n",
       "      <td>Handlers-cleaners</td>\n",
       "      <td>Not-in-family</td>\n",
       "      <td>White</td>\n",
       "      <td>Male</td>\n",
       "      <td>0</td>\n",
       "      <td>0</td>\n",
       "      <td>40</td>\n",
       "      <td>United-States</td>\n",
       "      <td>&lt;=50K</td>\n",
       "    </tr>\n",
       "    <tr>\n",
       "      <th>3</th>\n",
       "      <td>53</td>\n",
       "      <td>Private</td>\n",
       "      <td>234721</td>\n",
       "      <td>11th</td>\n",
       "      <td>7</td>\n",
       "      <td>Married-civ-spouse</td>\n",
       "      <td>Handlers-cleaners</td>\n",
       "      <td>Husband</td>\n",
       "      <td>Black</td>\n",
       "      <td>Male</td>\n",
       "      <td>0</td>\n",
       "      <td>0</td>\n",
       "      <td>40</td>\n",
       "      <td>United-States</td>\n",
       "      <td>&lt;=50K</td>\n",
       "    </tr>\n",
       "    <tr>\n",
       "      <th>4</th>\n",
       "      <td>28</td>\n",
       "      <td>Private</td>\n",
       "      <td>338409</td>\n",
       "      <td>Bachelors</td>\n",
       "      <td>13</td>\n",
       "      <td>Married-civ-spouse</td>\n",
       "      <td>Prof-specialty</td>\n",
       "      <td>Wife</td>\n",
       "      <td>Black</td>\n",
       "      <td>Female</td>\n",
       "      <td>0</td>\n",
       "      <td>0</td>\n",
       "      <td>40</td>\n",
       "      <td>Cuba</td>\n",
       "      <td>&lt;=50K</td>\n",
       "    </tr>\n",
       "  </tbody>\n",
       "</table>\n",
       "</div>"
      ],
      "text/plain": [
       "   age         workclass  fnlwgt  ...   hours-per-week  native-country salary\n",
       "0   39         State-gov   77516  ...               40   United-States  <=50K\n",
       "1   50  Self-emp-not-inc   83311  ...               13   United-States  <=50K\n",
       "2   38           Private  215646  ...               40   United-States  <=50K\n",
       "3   53           Private  234721  ...               40   United-States  <=50K\n",
       "4   28           Private  338409  ...               40            Cuba  <=50K\n",
       "\n",
       "[5 rows x 15 columns]"
      ]
     },
     "execution_count": 2,
     "metadata": {},
     "output_type": "execute_result"
    }
   ],
   "source": [
    "data = pd.read_csv('../input/adult.data.csv')\n",
    "data.head()"
   ]
  },
  {
   "cell_type": "markdown",
   "metadata": {
    "_uuid": "6b19853f936853d40971b56f4d298ab55ee78cac"
   },
   "source": [
    "**1. How many men and women (*sex* feature) are represented in this dataset?** "
   ]
  },
  {
   "cell_type": "code",
   "execution_count": 3,
   "metadata": {
    "_uuid": "d32cafcbe966dbdfa40c3017d16d6f8c96bfb3e2",
    "execution": {
     "iopub.execute_input": "2024-09-19T05:16:13.973352Z",
     "iopub.status.busy": "2024-09-19T05:16:13.973070Z",
     "iopub.status.idle": "2024-09-19T05:16:13.985313Z",
     "shell.execute_reply": "2024-09-19T05:16:13.984341Z",
     "shell.execute_reply.started": "2024-09-19T05:16:13.973295Z"
    }
   },
   "outputs": [
    {
     "data": {
      "text/plain": [
       "Male      21790\n",
       "Female    10771\n",
       "Name: sex, dtype: int64"
      ]
     },
     "execution_count": 3,
     "metadata": {},
     "output_type": "execute_result"
    }
   ],
   "source": [
    "data['sex'].value_counts()"
   ]
  },
  {
   "cell_type": "markdown",
   "metadata": {
    "_uuid": "4748793234a5d325ea60d13331ecf93e29774523"
   },
   "source": [
    "**2. What is the average age (*age* feature) of women?**"
   ]
  },
  {
   "cell_type": "code",
   "execution_count": 4,
   "metadata": {
    "_uuid": "64f60d928855107d8980875656dcdf3587d91646",
    "execution": {
     "iopub.execute_input": "2024-09-19T05:16:13.987478Z",
     "iopub.status.busy": "2024-09-19T05:16:13.986985Z",
     "iopub.status.idle": "2024-09-19T05:16:14.006079Z",
     "shell.execute_reply": "2024-09-19T05:16:14.004819Z",
     "shell.execute_reply.started": "2024-09-19T05:16:13.987232Z"
    }
   },
   "outputs": [
    {
     "data": {
      "text/plain": [
       "36.85823043357163"
      ]
     },
     "execution_count": 4,
     "metadata": {},
     "output_type": "execute_result"
    }
   ],
   "source": [
    "data[data['sex'] == 'Female']['age'].mean()"
   ]
  },
  {
   "cell_type": "markdown",
   "metadata": {
    "_uuid": "80e87c421c348067e88769c64e554206c51727d1"
   },
   "source": [
    "**3. What is the percentage of German citizens (*native-country* feature)?**"
   ]
  },
  {
   "cell_type": "code",
   "execution_count": 5,
   "metadata": {
    "execution": {
     "iopub.execute_input": "2024-09-19T05:16:14.008017Z",
     "iopub.status.busy": "2024-09-19T05:16:14.007631Z",
     "iopub.status.idle": "2024-09-19T05:16:14.023323Z",
     "shell.execute_reply": "2024-09-19T05:16:14.022321Z",
     "shell.execute_reply.started": "2024-09-19T05:16:14.007943Z"
    }
   },
   "outputs": [
    {
     "data": {
      "text/plain": [
       "United-States                 29170\n",
       "Mexico                          643\n",
       "?                               583\n",
       "Philippines                     198\n",
       "Germany                         137\n",
       "Canada                          121\n",
       "Puerto-Rico                     114\n",
       "El-Salvador                     106\n",
       "India                           100\n",
       "Cuba                             95\n",
       "England                          90\n",
       "Jamaica                          81\n",
       "South                            80\n",
       "China                            75\n",
       "Italy                            73\n",
       "Dominican-Republic               70\n",
       "Vietnam                          67\n",
       "Guatemala                        64\n",
       "Japan                            62\n",
       "Poland                           60\n",
       "Columbia                         59\n",
       "Taiwan                           51\n",
       "Haiti                            44\n",
       "Iran                             43\n",
       "Portugal                         37\n",
       "Nicaragua                        34\n",
       "Peru                             31\n",
       "France                           29\n",
       "Greece                           29\n",
       "Ecuador                          28\n",
       "Ireland                          24\n",
       "Hong                             20\n",
       "Cambodia                         19\n",
       "Trinadad&Tobago                  19\n",
       "Laos                             18\n",
       "Thailand                         18\n",
       "Yugoslavia                       16\n",
       "Outlying-US(Guam-USVI-etc)       14\n",
       "Hungary                          13\n",
       "Honduras                         13\n",
       "Scotland                         12\n",
       "Holand-Netherlands                1\n",
       "Name: native-country, dtype: int64"
      ]
     },
     "execution_count": 5,
     "metadata": {},
     "output_type": "execute_result"
    }
   ],
   "source": [
    "data[\"native-country\"].value_counts()"
   ]
  },
  {
   "cell_type": "code",
   "execution_count": 6,
   "metadata": {
    "_uuid": "ca9807509692638bd945671ed7d8b4a5ad1f3626",
    "execution": {
     "iopub.execute_input": "2024-09-19T05:16:14.025581Z",
     "iopub.status.busy": "2024-09-19T05:16:14.025274Z",
     "iopub.status.idle": "2024-09-19T05:16:14.040182Z",
     "shell.execute_reply": "2024-09-19T05:16:14.039261Z",
     "shell.execute_reply.started": "2024-09-19T05:16:14.025521Z"
    }
   },
   "outputs": [
    {
     "data": {
      "text/plain": [
       "0.004207487485028101"
      ]
     },
     "execution_count": 6,
     "metadata": {},
     "output_type": "execute_result"
    }
   ],
   "source": [
    "data[data['native-country'] == 'Germany']['native-country'].count() / len(data)"
   ]
  },
  {
   "cell_type": "markdown",
   "metadata": {
    "_uuid": "be9911cf525df4fca2c1d14b8720bc8a82f462e7"
   },
   "source": [
    "**4-5. What are the mean and standard deviation of age for those who earn more than 50K per year (*salary* feature) and those who earn less than 50K per year? **"
   ]
  },
  {
   "cell_type": "code",
   "execution_count": 7,
   "metadata": {
    "_uuid": "97948f0115f949913d211627151b5605bcd204fd",
    "execution": {
     "iopub.execute_input": "2024-09-19T05:16:14.041962Z",
     "iopub.status.busy": "2024-09-19T05:16:14.041608Z",
     "iopub.status.idle": "2024-09-19T05:16:14.059011Z",
     "shell.execute_reply": "2024-09-19T05:16:14.058027Z",
     "shell.execute_reply.started": "2024-09-19T05:16:14.041851Z"
    }
   },
   "outputs": [
    {
     "data": {
      "text/plain": [
       "salary\n",
       "<=50K    36.783738\n",
       ">50K     44.249841\n",
       "Name: age, dtype: float64"
      ]
     },
     "execution_count": 7,
     "metadata": {},
     "output_type": "execute_result"
    }
   ],
   "source": [
    "data.groupby('salary')['age'].mean()"
   ]
  },
  {
   "cell_type": "code",
   "execution_count": 8,
   "metadata": {
    "execution": {
     "iopub.execute_input": "2024-09-19T05:16:14.060791Z",
     "iopub.status.busy": "2024-09-19T05:16:14.060429Z",
     "iopub.status.idle": "2024-09-19T05:16:14.071334Z",
     "shell.execute_reply": "2024-09-19T05:16:14.070220Z",
     "shell.execute_reply.started": "2024-09-19T05:16:14.060730Z"
    }
   },
   "outputs": [
    {
     "data": {
      "text/plain": [
       "salary\n",
       "<=50K    14.020088\n",
       ">50K     10.519028\n",
       "Name: age, dtype: float64"
      ]
     },
     "execution_count": 8,
     "metadata": {},
     "output_type": "execute_result"
    }
   ],
   "source": [
    "data.groupby('salary')['age'].std()"
   ]
  },
  {
   "cell_type": "markdown",
   "metadata": {
    "_uuid": "180c3fe6f8b250b877c1d86866067b80acabdb64"
   },
   "source": [
    "**6. Is it true that people who earn more than 50K have at least high school education? (*education – Bachelors, Prof-school, Assoc-acdm, Assoc-voc, Masters* or *Doctorate* feature)**"
   ]
  },
  {
   "cell_type": "code",
   "execution_count": 9,
   "metadata": {
    "_uuid": "58f38ebfa2b0e1418a6a1a680d0743697f9876a2",
    "execution": {
     "iopub.execute_input": "2024-09-19T05:16:14.072846Z",
     "iopub.status.busy": "2024-09-19T05:16:14.072562Z",
     "iopub.status.idle": "2024-09-19T05:16:14.096515Z",
     "shell.execute_reply": "2024-09-19T05:16:14.095735Z",
     "shell.execute_reply.started": "2024-09-19T05:16:14.072794Z"
    }
   },
   "outputs": [
    {
     "data": {
      "text/plain": [
       "0.4312476226702168"
      ]
     },
     "execution_count": 9,
     "metadata": {},
     "output_type": "execute_result"
    }
   ],
   "source": [
    "h = ['Bachelors', 'Prof-school', 'Assoc-acdm', 'Assoc-voc', 'Masters', 'Doctorate']\n",
    "data[(data['education'].isin(h)) & (data['salary'] == '>50K')]['salary'].count() / data[data['education'].isin(h)]['salary'].count()"
   ]
  },
  {
   "cell_type": "code",
   "execution_count": 10,
   "metadata": {
    "execution": {
     "iopub.execute_input": "2024-09-19T05:16:14.098273Z",
     "iopub.status.busy": "2024-09-19T05:16:14.097987Z",
     "iopub.status.idle": "2024-09-19T05:16:14.121697Z",
     "shell.execute_reply": "2024-09-19T05:16:14.120555Z",
     "shell.execute_reply.started": "2024-09-19T05:16:14.098220Z"
    }
   },
   "outputs": [
    {
     "data": {
      "text/plain": [
       "0.14996597867997277"
      ]
     },
     "execution_count": 10,
     "metadata": {},
     "output_type": "execute_result"
    }
   ],
   "source": [
    "data[(~data['education'].isin(h)) & ( (data['salary'] == '>50K'))]['salary'].count() / data[~data['education'].isin(h)]['salary'].count()"
   ]
  },
  {
   "cell_type": "markdown",
   "metadata": {
    "_uuid": "87d6bc9ec1c230e66416ce94533ea250368009cc"
   },
   "source": [
    "**7. Display age statistics for each race (*race* feature) and each gender (*sex* feature). Use *groupby()* and *describe()*. Find the maximum age of men of *Amer-Indian-Eskimo* race.**"
   ]
  },
  {
   "cell_type": "code",
   "execution_count": 11,
   "metadata": {
    "_uuid": "a4567b72200b583f7f2ee1583405d636c12169db",
    "execution": {
     "iopub.execute_input": "2024-09-19T05:16:14.123913Z",
     "iopub.status.busy": "2024-09-19T05:16:14.123494Z",
     "iopub.status.idle": "2024-09-19T05:16:14.191302Z",
     "shell.execute_reply": "2024-09-19T05:16:14.190364Z",
     "shell.execute_reply.started": "2024-09-19T05:16:14.123822Z"
    }
   },
   "outputs": [
    {
     "data": {
      "text/html": [
       "<div>\n",
       "<style scoped>\n",
       "    .dataframe tbody tr th:only-of-type {\n",
       "        vertical-align: middle;\n",
       "    }\n",
       "\n",
       "    .dataframe tbody tr th {\n",
       "        vertical-align: top;\n",
       "    }\n",
       "\n",
       "    .dataframe thead th {\n",
       "        text-align: right;\n",
       "    }\n",
       "</style>\n",
       "<table border=\"1\" class=\"dataframe\">\n",
       "  <thead>\n",
       "    <tr style=\"text-align: right;\">\n",
       "      <th></th>\n",
       "      <th></th>\n",
       "      <th>count</th>\n",
       "      <th>mean</th>\n",
       "      <th>std</th>\n",
       "      <th>min</th>\n",
       "      <th>25%</th>\n",
       "      <th>50%</th>\n",
       "      <th>75%</th>\n",
       "      <th>max</th>\n",
       "    </tr>\n",
       "    <tr>\n",
       "      <th>race</th>\n",
       "      <th>sex</th>\n",
       "      <th></th>\n",
       "      <th></th>\n",
       "      <th></th>\n",
       "      <th></th>\n",
       "      <th></th>\n",
       "      <th></th>\n",
       "      <th></th>\n",
       "      <th></th>\n",
       "    </tr>\n",
       "  </thead>\n",
       "  <tbody>\n",
       "    <tr>\n",
       "      <th rowspan=\"2\" valign=\"top\">Amer-Indian-Eskimo</th>\n",
       "      <th>Female</th>\n",
       "      <td>119.0</td>\n",
       "      <td>37.117647</td>\n",
       "      <td>13.114991</td>\n",
       "      <td>17.0</td>\n",
       "      <td>27.0</td>\n",
       "      <td>36.0</td>\n",
       "      <td>46.00</td>\n",
       "      <td>80.0</td>\n",
       "    </tr>\n",
       "    <tr>\n",
       "      <th>Male</th>\n",
       "      <td>192.0</td>\n",
       "      <td>37.208333</td>\n",
       "      <td>12.049563</td>\n",
       "      <td>17.0</td>\n",
       "      <td>28.0</td>\n",
       "      <td>35.0</td>\n",
       "      <td>45.00</td>\n",
       "      <td>82.0</td>\n",
       "    </tr>\n",
       "    <tr>\n",
       "      <th rowspan=\"2\" valign=\"top\">Asian-Pac-Islander</th>\n",
       "      <th>Female</th>\n",
       "      <td>346.0</td>\n",
       "      <td>35.089595</td>\n",
       "      <td>12.300845</td>\n",
       "      <td>17.0</td>\n",
       "      <td>25.0</td>\n",
       "      <td>33.0</td>\n",
       "      <td>43.75</td>\n",
       "      <td>75.0</td>\n",
       "    </tr>\n",
       "    <tr>\n",
       "      <th>Male</th>\n",
       "      <td>693.0</td>\n",
       "      <td>39.073593</td>\n",
       "      <td>12.883944</td>\n",
       "      <td>18.0</td>\n",
       "      <td>29.0</td>\n",
       "      <td>37.0</td>\n",
       "      <td>46.00</td>\n",
       "      <td>90.0</td>\n",
       "    </tr>\n",
       "    <tr>\n",
       "      <th rowspan=\"2\" valign=\"top\">Black</th>\n",
       "      <th>Female</th>\n",
       "      <td>1555.0</td>\n",
       "      <td>37.854019</td>\n",
       "      <td>12.637197</td>\n",
       "      <td>17.0</td>\n",
       "      <td>28.0</td>\n",
       "      <td>37.0</td>\n",
       "      <td>46.00</td>\n",
       "      <td>90.0</td>\n",
       "    </tr>\n",
       "    <tr>\n",
       "      <th>Male</th>\n",
       "      <td>1569.0</td>\n",
       "      <td>37.682600</td>\n",
       "      <td>12.882612</td>\n",
       "      <td>17.0</td>\n",
       "      <td>27.0</td>\n",
       "      <td>36.0</td>\n",
       "      <td>46.00</td>\n",
       "      <td>90.0</td>\n",
       "    </tr>\n",
       "    <tr>\n",
       "      <th rowspan=\"2\" valign=\"top\">Other</th>\n",
       "      <th>Female</th>\n",
       "      <td>109.0</td>\n",
       "      <td>31.678899</td>\n",
       "      <td>11.631599</td>\n",
       "      <td>17.0</td>\n",
       "      <td>23.0</td>\n",
       "      <td>29.0</td>\n",
       "      <td>39.00</td>\n",
       "      <td>74.0</td>\n",
       "    </tr>\n",
       "    <tr>\n",
       "      <th>Male</th>\n",
       "      <td>162.0</td>\n",
       "      <td>34.654321</td>\n",
       "      <td>11.355531</td>\n",
       "      <td>17.0</td>\n",
       "      <td>26.0</td>\n",
       "      <td>32.0</td>\n",
       "      <td>42.00</td>\n",
       "      <td>77.0</td>\n",
       "    </tr>\n",
       "    <tr>\n",
       "      <th rowspan=\"2\" valign=\"top\">White</th>\n",
       "      <th>Female</th>\n",
       "      <td>8642.0</td>\n",
       "      <td>36.811618</td>\n",
       "      <td>14.329093</td>\n",
       "      <td>17.0</td>\n",
       "      <td>25.0</td>\n",
       "      <td>35.0</td>\n",
       "      <td>46.00</td>\n",
       "      <td>90.0</td>\n",
       "    </tr>\n",
       "    <tr>\n",
       "      <th>Male</th>\n",
       "      <td>19174.0</td>\n",
       "      <td>39.652498</td>\n",
       "      <td>13.436029</td>\n",
       "      <td>17.0</td>\n",
       "      <td>29.0</td>\n",
       "      <td>38.0</td>\n",
       "      <td>49.00</td>\n",
       "      <td>90.0</td>\n",
       "    </tr>\n",
       "  </tbody>\n",
       "</table>\n",
       "</div>"
      ],
      "text/plain": [
       "                             count       mean  ...     75%   max\n",
       "race               sex                         ...              \n",
       "Amer-Indian-Eskimo Female    119.0  37.117647  ...   46.00  80.0\n",
       "                   Male      192.0  37.208333  ...   45.00  82.0\n",
       "Asian-Pac-Islander Female    346.0  35.089595  ...   43.75  75.0\n",
       "                   Male      693.0  39.073593  ...   46.00  90.0\n",
       "Black              Female   1555.0  37.854019  ...   46.00  90.0\n",
       "                   Male     1569.0  37.682600  ...   46.00  90.0\n",
       "Other              Female    109.0  31.678899  ...   39.00  74.0\n",
       "                   Male      162.0  34.654321  ...   42.00  77.0\n",
       "White              Female   8642.0  36.811618  ...   46.00  90.0\n",
       "                   Male    19174.0  39.652498  ...   49.00  90.0\n",
       "\n",
       "[10 rows x 8 columns]"
      ]
     },
     "execution_count": 11,
     "metadata": {},
     "output_type": "execute_result"
    }
   ],
   "source": [
    "data.groupby(['race' , 'sex'])['age'].describe() "
   ]
  },
  {
   "cell_type": "markdown",
   "metadata": {
    "_uuid": "19411d604b0d4337a4a048a2f0e898541f39ab76"
   },
   "source": [
    "**8. Among whom is the proportion of those who earn a lot (>50K) greater: married or single men (*marital-status* feature)? Consider as married those who have a *marital-status* starting with *Married* (Married-civ-spouse, Married-spouse-absent or Married-AF-spouse), the rest are considered bachelors.**"
   ]
  },
  {
   "cell_type": "code",
   "execution_count": 12,
   "metadata": {
    "execution": {
     "iopub.execute_input": "2024-09-19T06:34:58.383228Z",
     "iopub.status.busy": "2024-09-19T06:34:58.382930Z",
     "iopub.status.idle": "2024-09-19T06:34:58.399520Z",
     "shell.execute_reply": "2024-09-19T06:34:58.398648Z",
     "shell.execute_reply.started": "2024-09-19T06:34:58.383180Z"
    }
   },
   "outputs": [
    {
     "data": {
      "text/plain": [
       "<=50K    7552\n",
       ">50K      697\n",
       "Name: salary, dtype: int64"
      ]
     },
     "execution_count": 12,
     "metadata": {},
     "output_type": "execute_result"
    }
   ],
   "source": [
    "data.loc[(data['sex'] == 'Male') & (~data['marital-status'].isin(['Married-AF-spouse', 'Married-civ-spouse', 'Married-spouse-absent'])), 'salary'].value_counts()"
   ]
  },
  {
   "cell_type": "code",
   "execution_count": 13,
   "metadata": {
    "execution": {
     "iopub.execute_input": "2024-09-19T06:32:44.387977Z",
     "iopub.status.busy": "2024-09-19T06:32:44.387657Z",
     "iopub.status.idle": "2024-09-19T06:32:44.451803Z",
     "shell.execute_reply": "2024-09-19T06:32:44.450540Z",
     "shell.execute_reply.started": "2024-09-19T06:32:44.387924Z"
    }
   },
   "outputs": [
    {
     "data": {
      "text/html": [
       "<div>\n",
       "<style scoped>\n",
       "    .dataframe tbody tr th:only-of-type {\n",
       "        vertical-align: middle;\n",
       "    }\n",
       "\n",
       "    .dataframe tbody tr th {\n",
       "        vertical-align: top;\n",
       "    }\n",
       "\n",
       "    .dataframe thead th {\n",
       "        text-align: right;\n",
       "    }\n",
       "</style>\n",
       "<table border=\"1\" class=\"dataframe\">\n",
       "  <thead>\n",
       "    <tr style=\"text-align: right;\">\n",
       "      <th></th>\n",
       "      <th>age</th>\n",
       "      <th>workclass</th>\n",
       "      <th>fnlwgt</th>\n",
       "      <th>education</th>\n",
       "      <th>education-num</th>\n",
       "      <th>occupation</th>\n",
       "      <th>relationship</th>\n",
       "      <th>race</th>\n",
       "      <th>sex</th>\n",
       "      <th>capital-gain</th>\n",
       "      <th>capital-loss</th>\n",
       "      <th>hours-per-week</th>\n",
       "      <th>native-country</th>\n",
       "      <th>salary</th>\n",
       "    </tr>\n",
       "    <tr>\n",
       "      <th>marital-status</th>\n",
       "      <th></th>\n",
       "      <th></th>\n",
       "      <th></th>\n",
       "      <th></th>\n",
       "      <th></th>\n",
       "      <th></th>\n",
       "      <th></th>\n",
       "      <th></th>\n",
       "      <th></th>\n",
       "      <th></th>\n",
       "      <th></th>\n",
       "      <th></th>\n",
       "      <th></th>\n",
       "      <th></th>\n",
       "    </tr>\n",
       "  </thead>\n",
       "  <tbody>\n",
       "    <tr>\n",
       "      <th>Divorced</th>\n",
       "      <td>4443</td>\n",
       "      <td>4443</td>\n",
       "      <td>4443</td>\n",
       "      <td>4443</td>\n",
       "      <td>4443</td>\n",
       "      <td>4443</td>\n",
       "      <td>4443</td>\n",
       "      <td>4443</td>\n",
       "      <td>4443</td>\n",
       "      <td>4443</td>\n",
       "      <td>4443</td>\n",
       "      <td>4443</td>\n",
       "      <td>4443</td>\n",
       "      <td>4443</td>\n",
       "    </tr>\n",
       "    <tr>\n",
       "      <th>Married-AF-spouse</th>\n",
       "      <td>23</td>\n",
       "      <td>23</td>\n",
       "      <td>23</td>\n",
       "      <td>23</td>\n",
       "      <td>23</td>\n",
       "      <td>23</td>\n",
       "      <td>23</td>\n",
       "      <td>23</td>\n",
       "      <td>23</td>\n",
       "      <td>23</td>\n",
       "      <td>23</td>\n",
       "      <td>23</td>\n",
       "      <td>23</td>\n",
       "      <td>23</td>\n",
       "    </tr>\n",
       "    <tr>\n",
       "      <th>Married-civ-spouse</th>\n",
       "      <td>14976</td>\n",
       "      <td>14976</td>\n",
       "      <td>14976</td>\n",
       "      <td>14976</td>\n",
       "      <td>14976</td>\n",
       "      <td>14976</td>\n",
       "      <td>14976</td>\n",
       "      <td>14976</td>\n",
       "      <td>14976</td>\n",
       "      <td>14976</td>\n",
       "      <td>14976</td>\n",
       "      <td>14976</td>\n",
       "      <td>14976</td>\n",
       "      <td>14976</td>\n",
       "    </tr>\n",
       "    <tr>\n",
       "      <th>Married-spouse-absent</th>\n",
       "      <td>418</td>\n",
       "      <td>418</td>\n",
       "      <td>418</td>\n",
       "      <td>418</td>\n",
       "      <td>418</td>\n",
       "      <td>418</td>\n",
       "      <td>418</td>\n",
       "      <td>418</td>\n",
       "      <td>418</td>\n",
       "      <td>418</td>\n",
       "      <td>418</td>\n",
       "      <td>418</td>\n",
       "      <td>418</td>\n",
       "      <td>418</td>\n",
       "    </tr>\n",
       "    <tr>\n",
       "      <th>Never-married</th>\n",
       "      <td>10683</td>\n",
       "      <td>10683</td>\n",
       "      <td>10683</td>\n",
       "      <td>10683</td>\n",
       "      <td>10683</td>\n",
       "      <td>10683</td>\n",
       "      <td>10683</td>\n",
       "      <td>10683</td>\n",
       "      <td>10683</td>\n",
       "      <td>10683</td>\n",
       "      <td>10683</td>\n",
       "      <td>10683</td>\n",
       "      <td>10683</td>\n",
       "      <td>10683</td>\n",
       "    </tr>\n",
       "    <tr>\n",
       "      <th>Separated</th>\n",
       "      <td>1025</td>\n",
       "      <td>1025</td>\n",
       "      <td>1025</td>\n",
       "      <td>1025</td>\n",
       "      <td>1025</td>\n",
       "      <td>1025</td>\n",
       "      <td>1025</td>\n",
       "      <td>1025</td>\n",
       "      <td>1025</td>\n",
       "      <td>1025</td>\n",
       "      <td>1025</td>\n",
       "      <td>1025</td>\n",
       "      <td>1025</td>\n",
       "      <td>1025</td>\n",
       "    </tr>\n",
       "    <tr>\n",
       "      <th>Widowed</th>\n",
       "      <td>993</td>\n",
       "      <td>993</td>\n",
       "      <td>993</td>\n",
       "      <td>993</td>\n",
       "      <td>993</td>\n",
       "      <td>993</td>\n",
       "      <td>993</td>\n",
       "      <td>993</td>\n",
       "      <td>993</td>\n",
       "      <td>993</td>\n",
       "      <td>993</td>\n",
       "      <td>993</td>\n",
       "      <td>993</td>\n",
       "      <td>993</td>\n",
       "    </tr>\n",
       "  </tbody>\n",
       "</table>\n",
       "</div>"
      ],
      "text/plain": [
       "                         age  workclass   ...    native-country  salary\n",
       "marital-status                            ...                          \n",
       "Divorced                4443       4443   ...              4443    4443\n",
       "Married-AF-spouse         23         23   ...                23      23\n",
       "Married-civ-spouse     14976      14976   ...             14976   14976\n",
       "Married-spouse-absent    418        418   ...               418     418\n",
       "Never-married          10683      10683   ...             10683   10683\n",
       "Separated               1025       1025   ...              1025    1025\n",
       "Widowed                  993        993   ...               993     993\n",
       "\n",
       "[7 rows x 14 columns]"
      ]
     },
     "execution_count": 13,
     "metadata": {},
     "output_type": "execute_result"
    }
   ],
   "source": [
    "data.groupby(['marital-status']).count()"
   ]
  },
  {
   "cell_type": "markdown",
   "metadata": {
    "_uuid": "34f2076e7d331b95a23b990372809b709d2c8183"
   },
   "source": [
    "**9. What is the maximum number of hours a person works per week (*hours-per-week* feature)? How many people work such a number of hours, and what is the percentage of those who earn a lot (>50K) among them?**"
   ]
  },
  {
   "cell_type": "code",
   "execution_count": 14,
   "metadata": {
    "_uuid": "3571468172fc4bcf34e10b3d6ab358d4e41f7ef4",
    "execution": {
     "iopub.execute_input": "2024-09-19T06:06:20.779974Z",
     "iopub.status.busy": "2024-09-19T06:06:20.779516Z",
     "iopub.status.idle": "2024-09-19T06:06:20.787959Z",
     "shell.execute_reply": "2024-09-19T06:06:20.787136Z",
     "shell.execute_reply.started": "2024-09-19T06:06:20.779911Z"
    }
   },
   "outputs": [
    {
     "data": {
      "text/plain": [
       "99"
      ]
     },
     "execution_count": 14,
     "metadata": {},
     "output_type": "execute_result"
    }
   ],
   "source": [
    "data['hours-per-week'].max()"
   ]
  },
  {
   "cell_type": "code",
   "execution_count": 15,
   "metadata": {
    "execution": {
     "iopub.execute_input": "2024-09-19T06:08:34.901853Z",
     "iopub.status.busy": "2024-09-19T06:08:34.901500Z",
     "iopub.status.idle": "2024-09-19T06:08:34.910731Z",
     "shell.execute_reply": "2024-09-19T06:08:34.909865Z",
     "shell.execute_reply.started": "2024-09-19T06:08:34.901789Z"
    }
   },
   "outputs": [
    {
     "data": {
      "text/plain": [
       "85"
      ]
     },
     "execution_count": 15,
     "metadata": {},
     "output_type": "execute_result"
    }
   ],
   "source": [
    "data[data['hours-per-week'] == data['hours-per-week'].max()]['age'].count()"
   ]
  },
  {
   "cell_type": "code",
   "execution_count": 16,
   "metadata": {
    "execution": {
     "iopub.execute_input": "2024-09-19T06:09:52.638806Z",
     "iopub.status.busy": "2024-09-19T06:09:52.638487Z",
     "iopub.status.idle": "2024-09-19T06:09:52.654984Z",
     "shell.execute_reply": "2024-09-19T06:09:52.654143Z",
     "shell.execute_reply.started": "2024-09-19T06:09:52.638756Z"
    }
   },
   "outputs": [
    {
     "data": {
      "text/plain": [
       "0.29411764705882354"
      ]
     },
     "execution_count": 16,
     "metadata": {},
     "output_type": "execute_result"
    }
   ],
   "source": [
    "data[(data['hours-per-week'] == data['hours-per-week'].max()) & (data['salary'] == '>50K')]['age'].count() / data[data['hours-per-week'] == data['hours-per-week'].max()]['age'].count()"
   ]
  },
  {
   "cell_type": "markdown",
   "metadata": {
    "_uuid": "d539d4d137fac1c5ea25bc516188eb657d67e9b4"
   },
   "source": [
    "**10. Count the average time of work (*hours-per-week*) for those who earn a little and a lot (*salary*) for each country (*native-country*). What will these be for Japan?**"
   ]
  },
  {
   "cell_type": "code",
   "execution_count": 17,
   "metadata": {
    "_uuid": "75a93411f1e3b519afcc27c026aaa0c67eb526e9",
    "execution": {
     "iopub.execute_input": "2024-09-19T06:12:09.387821Z",
     "iopub.status.busy": "2024-09-19T06:12:09.387521Z",
     "iopub.status.idle": "2024-09-19T06:12:09.407084Z",
     "shell.execute_reply": "2024-09-19T06:12:09.406136Z",
     "shell.execute_reply.started": "2024-09-19T06:12:09.387772Z"
    }
   },
   "outputs": [
    {
     "data": {
      "text/plain": [
       "native-country              salary\n",
       "?                           <=50K     40.164760\n",
       "                            >50K      45.547945\n",
       "Cambodia                    <=50K     41.416667\n",
       "                            >50K      40.000000\n",
       "Canada                      <=50K     37.914634\n",
       "                            >50K      45.641026\n",
       "China                       <=50K     37.381818\n",
       "                            >50K      38.900000\n",
       "Columbia                    <=50K     38.684211\n",
       "                            >50K      50.000000\n",
       "Cuba                        <=50K     37.985714\n",
       "                            >50K      42.440000\n",
       "Dominican-Republic          <=50K     42.338235\n",
       "                            >50K      47.000000\n",
       "Ecuador                     <=50K     38.041667\n",
       "                            >50K      48.750000\n",
       "El-Salvador                 <=50K     36.030928\n",
       "                            >50K      45.000000\n",
       "England                     <=50K     40.483333\n",
       "                            >50K      44.533333\n",
       "France                      <=50K     41.058824\n",
       "                            >50K      50.750000\n",
       "Germany                     <=50K     39.139785\n",
       "                            >50K      44.977273\n",
       "Greece                      <=50K     41.809524\n",
       "                            >50K      50.625000\n",
       "Guatemala                   <=50K     39.360656\n",
       "                            >50K      36.666667\n",
       "Haiti                       <=50K     36.325000\n",
       "                            >50K      42.750000\n",
       "                                        ...    \n",
       "Mexico                      >50K      46.575758\n",
       "Nicaragua                   <=50K     36.093750\n",
       "                            >50K      37.500000\n",
       "Outlying-US(Guam-USVI-etc)  <=50K     41.857143\n",
       "Peru                        <=50K     35.068966\n",
       "                            >50K      40.000000\n",
       "Philippines                 <=50K     38.065693\n",
       "                            >50K      43.032787\n",
       "Poland                      <=50K     38.166667\n",
       "                            >50K      39.000000\n",
       "Portugal                    <=50K     41.939394\n",
       "                            >50K      41.500000\n",
       "Puerto-Rico                 <=50K     38.470588\n",
       "                            >50K      39.416667\n",
       "Scotland                    <=50K     39.444444\n",
       "                            >50K      46.666667\n",
       "South                       <=50K     40.156250\n",
       "                            >50K      51.437500\n",
       "Taiwan                      <=50K     33.774194\n",
       "                            >50K      46.800000\n",
       "Thailand                    <=50K     42.866667\n",
       "                            >50K      58.333333\n",
       "Trinadad&Tobago             <=50K     37.058824\n",
       "                            >50K      40.000000\n",
       "United-States               <=50K     38.799127\n",
       "                            >50K      45.505369\n",
       "Vietnam                     <=50K     37.193548\n",
       "                            >50K      39.200000\n",
       "Yugoslavia                  <=50K     41.600000\n",
       "                            >50K      49.500000\n",
       "Name: hours-per-week, Length: 82, dtype: float64"
      ]
     },
     "execution_count": 17,
     "metadata": {},
     "output_type": "execute_result"
    }
   ],
   "source": [
    "data.groupby(['native-country', 'salary'])['hours-per-week'].mean()"
   ]
  },
  {
   "cell_type": "code",
   "execution_count": 18,
   "metadata": {
    "execution": {
     "iopub.execute_input": "2024-09-19T06:14:13.340802Z",
     "iopub.status.busy": "2024-09-19T06:14:13.340506Z",
     "iopub.status.idle": "2024-09-19T06:14:13.360970Z",
     "shell.execute_reply": "2024-09-19T06:14:13.359900Z",
     "shell.execute_reply.started": "2024-09-19T06:14:13.340755Z"
    }
   },
   "outputs": [
    {
     "data": {
      "text/plain": [
       "native-country              salary\n",
       "?                           <=50K     40.164760\n",
       "                            >50K      45.547945\n",
       "Cambodia                    <=50K     41.416667\n",
       "                            >50K      40.000000\n",
       "Canada                      <=50K     37.914634\n",
       "                            >50K      45.641026\n",
       "China                       <=50K     37.381818\n",
       "                            >50K      38.900000\n",
       "Columbia                    <=50K     38.684211\n",
       "                            >50K      50.000000\n",
       "Cuba                        <=50K     37.985714\n",
       "                            >50K      42.440000\n",
       "Dominican-Republic          <=50K     42.338235\n",
       "                            >50K      47.000000\n",
       "Ecuador                     <=50K     38.041667\n",
       "                            >50K      48.750000\n",
       "El-Salvador                 <=50K     36.030928\n",
       "                            >50K      45.000000\n",
       "England                     <=50K     40.483333\n",
       "                            >50K      44.533333\n",
       "France                      <=50K     41.058824\n",
       "                            >50K      50.750000\n",
       "Germany                     <=50K     39.139785\n",
       "                            >50K      44.977273\n",
       "Greece                      <=50K     41.809524\n",
       "                            >50K      50.625000\n",
       "Guatemala                   <=50K     39.360656\n",
       "                            >50K      36.666667\n",
       "Haiti                       <=50K     36.325000\n",
       "                            >50K      42.750000\n",
       "                                        ...    \n",
       "Mexico                      >50K      46.575758\n",
       "Nicaragua                   <=50K     36.093750\n",
       "                            >50K      37.500000\n",
       "Outlying-US(Guam-USVI-etc)  <=50K     41.857143\n",
       "Peru                        <=50K     35.068966\n",
       "                            >50K      40.000000\n",
       "Philippines                 <=50K     38.065693\n",
       "                            >50K      43.032787\n",
       "Poland                      <=50K     38.166667\n",
       "                            >50K      39.000000\n",
       "Portugal                    <=50K     41.939394\n",
       "                            >50K      41.500000\n",
       "Puerto-Rico                 <=50K     38.470588\n",
       "                            >50K      39.416667\n",
       "Scotland                    <=50K     39.444444\n",
       "                            >50K      46.666667\n",
       "South                       <=50K     40.156250\n",
       "                            >50K      51.437500\n",
       "Taiwan                      <=50K     33.774194\n",
       "                            >50K      46.800000\n",
       "Thailand                    <=50K     42.866667\n",
       "                            >50K      58.333333\n",
       "Trinadad&Tobago             <=50K     37.058824\n",
       "                            >50K      40.000000\n",
       "United-States               <=50K     38.799127\n",
       "                            >50K      45.505369\n",
       "Vietnam                     <=50K     37.193548\n",
       "                            >50K      39.200000\n",
       "Yugoslavia                  <=50K     41.600000\n",
       "                            >50K      49.500000\n",
       "Name: hours-per-week, Length: 82, dtype: float64"
      ]
     },
     "execution_count": 18,
     "metadata": {},
     "output_type": "execute_result"
    }
   ],
   "source": [
    "data.groupby(['native-country', 'salary'])['hours-per-week'].mean()"
   ]
  },
  {
   "cell_type": "code",
   "execution_count": null,
   "metadata": {},
   "outputs": [],
   "source": []
  }
 ],
 "metadata": {
  "anaconda-cloud": {},
  "kaggle": {
   "accelerator": "none",
   "dataSources": [
    {
     "datasetId": 32132,
     "sourceId": 205932,
     "sourceType": "datasetVersion"
    }
   ],
   "dockerImageVersionId": 11105,
   "isGpuEnabled": false,
   "isInternetEnabled": false,
   "language": "python",
   "sourceType": "notebook"
  },
  "kernelspec": {
   "display_name": "Python 3",
   "language": "python",
   "name": "python3"
  },
  "language_info": {
   "codemirror_mode": {
    "name": "ipython",
    "version": 3
   },
   "file_extension": ".py",
   "mimetype": "text/x-python",
   "name": "python",
   "nbconvert_exporter": "python",
   "pygments_lexer": "ipython3",
   "version": "3.6.6"
  }
 },
 "nbformat": 4,
 "nbformat_minor": 4
}
