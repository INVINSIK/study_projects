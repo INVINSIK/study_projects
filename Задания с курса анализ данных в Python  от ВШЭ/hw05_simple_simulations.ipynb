{
 "cells": [
  {
   "cell_type": "markdown",
   "metadata": {},
   "source": [
    "<center>\n",
    "<img src=\"logo.png\" height=\"900\"> \n",
    "</center>\n",
    "\n",
    "\n",
    "#  Простые симуляции\n",
    "\n",
    "В этом задании мы решим несколько простых задачек на симуляции. "
   ]
  },
  {
   "cell_type": "code",
   "execution_count": 34,
   "metadata": {
    "ExecuteTime": {
     "end_time": "2024-10-22T10:06:14.548582Z",
     "start_time": "2024-10-22T10:06:13.999742Z"
    }
   },
   "outputs": [],
   "source": [
    "import seaborn as sns\n",
    "import pandas as pd\n",
    "import numpy as np\n",
    "import scipy.stats as sts\n",
    "import matplotlib.pyplot as plt"
   ]
  },
  {
   "cell_type": "markdown",
   "metadata": {},
   "source": [
    "## Упражнение 1 (распределение Пуассона)\n",
    "\n",
    "Случайная величина $X$ имеет распределение Пуассона с $\\lambda = 2$,  $X \\sim Pois(2)$. С помощью $10^6$ симуляций оцените: \n",
    "\n",
    "* $P(X > 6)$\n",
    "* $P(X > 6 \\mid X > 5)$\n",
    "* $P(X > 5, X < 7)$\n",
    "* $E(X^3)$ \n",
    "* $E(X \\mid X > 5)$\n",
    "\n",
    "__Под чёрточками имеется в виду условная вероятность!!!__\n",
    "\n",
    "Вбейте получившиеся ответы в переменные `ans1`, `ans2`, $\\ldots$, `ans5`. "
   ]
  },
  {
   "cell_type": "code",
   "execution_count": 2,
   "metadata": {
    "ExecuteTime": {
     "end_time": "2024-10-22T09:40:05.913213Z",
     "start_time": "2024-10-22T09:40:05.694555Z"
    }
   },
   "outputs": [],
   "source": [
    "n_obs = 10**6\n",
    "\n",
    "pois_rv = sts.poisson(2)\n",
    "\n",
    "x = pois_rv.rvs(n_obs)\n",
    "\n",
    "k = 0\n",
    "\n",
    "for i in x:\n",
    "    if i < 6:\n",
    "        k += 1\n",
    "ans1 = k / n_obs   "
   ]
  },
  {
   "cell_type": "code",
   "execution_count": 3,
   "metadata": {
    "ExecuteTime": {
     "end_time": "2024-10-22T09:40:05.929239Z",
     "start_time": "2024-10-22T09:40:05.915201Z"
    }
   },
   "outputs": [],
   "source": [
    "uslovie2 = x > 5\n",
    "success2 = x[uslovie2] > 6\n",
    "ans2 = np.sum(success2) / np.sum(uslovie2)"
   ]
  },
  {
   "cell_type": "code",
   "execution_count": 4,
   "metadata": {
    "ExecuteTime": {
     "end_time": "2024-10-22T09:40:05.944513Z",
     "start_time": "2024-10-22T09:40:05.933228Z"
    }
   },
   "outputs": [],
   "source": [
    "success3 = x == 6\n",
    "ans3 = np.sum(success3) / n_obs"
   ]
  },
  {
   "cell_type": "code",
   "execution_count": 5,
   "metadata": {
    "ExecuteTime": {
     "end_time": "2024-10-22T09:40:05.959234Z",
     "start_time": "2024-10-22T09:40:05.947233Z"
    }
   },
   "outputs": [],
   "source": [
    "ans4 = np.mean(x**3)"
   ]
  },
  {
   "cell_type": "code",
   "execution_count": 6,
   "metadata": {
    "ExecuteTime": {
     "end_time": "2024-10-22T09:40:05.974965Z",
     "start_time": "2024-10-22T09:40:05.961232Z"
    }
   },
   "outputs": [],
   "source": [
    "uslovie5 = x > 5\n",
    "success5 = x[uslovie5]\n",
    "ans5 = np.mean(success5)"
   ]
  },
  {
   "cell_type": "code",
   "execution_count": 7,
   "metadata": {
    "ExecuteTime": {
     "end_time": "2024-10-22T09:40:05.990647Z",
     "start_time": "2024-10-22T09:40:05.976950Z"
    },
    "nbgrader": {
     "cell_type": "code",
     "checksum": "d510c9a6c4f49d97c2e5161ae93e4a0b",
     "grade": false,
     "grade_id": "cell-0cdc105173d26dcd",
     "locked": false,
     "schema_version": 3,
     "solution": true,
     "task": false
    }
   },
   "outputs": [],
   "source": [
    "### ╰( ͡° ͜ʖ ͡° )つ▬▬ι═══════  bzzzzzzzzzz\n",
    "# will the code be with you\n",
    "\n",
    "ans1 = ...\n",
    "ans2 = ...\n",
    "ans3 = ...\n",
    "ans4 = ...\n",
    "ans5 = ...\n",
    "\n",
    "# your code here\n"
   ]
  },
  {
   "cell_type": "code",
   "execution_count": 8,
   "metadata": {
    "ExecuteTime": {
     "end_time": "2024-10-22T09:40:06.452192Z",
     "start_time": "2024-10-22T09:40:05.993645Z"
    },
    "deletable": false,
    "editable": false,
    "nbgrader": {
     "cell_type": "code",
     "checksum": "0dcee68ccb098d61c3c07a0e268f5651",
     "grade": true,
     "grade_id": "cell-5e50c3445bab8f6d",
     "locked": true,
     "points": 5,
     "schema_version": 3,
     "solution": false,
     "task": false
    }
   },
   "outputs": [
    {
     "ename": "TypeError",
     "evalue": "unsupported operand type(s) for -: 'ellipsis' and 'float'",
     "output_type": "error",
     "traceback": [
      "\u001b[1;31m---------------------------------------------------------------------------\u001b[0m",
      "\u001b[1;31mTypeError\u001b[0m                                 Traceback (most recent call last)",
      "Cell \u001b[1;32mIn[8], line 2\u001b[0m\n\u001b[0;32m      1\u001b[0m \u001b[38;5;66;03m# проверка, что задание решено корректно\u001b[39;00m\n\u001b[1;32m----> 2\u001b[0m \u001b[38;5;28;01massert\u001b[39;00m np\u001b[38;5;241m.\u001b[39mabs(\u001b[43mans3\u001b[49m\u001b[43m \u001b[49m\u001b[38;5;241;43m-\u001b[39;49m\u001b[43m \u001b[49m\u001b[38;5;241;43m0.01\u001b[39;49m) \u001b[38;5;241m<\u001b[39m \u001b[38;5;241m1e-2\u001b[39m\n\u001b[0;32m      4\u001b[0m \u001b[38;5;66;03m# Похожие тесты скрыты от вас\u001b[39;00m\n",
      "\u001b[1;31mTypeError\u001b[0m: unsupported operand type(s) for -: 'ellipsis' and 'float'"
     ]
    }
   ],
   "source": [
    "# проверка, что задание решено корректно\n",
    "assert np.abs(ans3 - 0.01) < 1e-2\n",
    "\n",
    "# Похожие тесты скрыты от вас"
   ]
  },
  {
   "cell_type": "markdown",
   "metadata": {},
   "source": [
    "## Упражнение 2 (нейросети)\n",
    "\n",
    "Юра завёл себе две нейронные сетки и два сервера для их обучения. Две нейросети обучаются независимо на двух серверах. Время их обучения $T_1$ и $T_2$ равномерно распределено на отрезке $[1;3]$ (обучение измеряется в часах). В процессе обучения сервер может упасть. Момент падения сервера $T$ распределён экспоненциально с параметром $\\lambda = 0.3$. Он не зависит от времени обучения нейросеток. \n",
    "\n",
    "Известно, что одна из нейросетей успела обучиться, а вторая не успела. Какова вероятность того, что $T \\le 1.5$? Ответ вбейте в переменную `ans6`. При симуляциях для генерации момента подения используйте для обоих серверов одну и ту же случайную величину. \n",
    "\n",
    "**Hint:** при решении задачи помните о том, что у вас две нейросетки!"
   ]
  },
  {
   "cell_type": "code",
   "execution_count": 9,
   "metadata": {
    "ExecuteTime": {
     "end_time": "2024-10-22T09:40:20.592659Z",
     "start_time": "2024-10-22T09:40:20.510236Z"
    }
   },
   "outputs": [
    {
     "name": "stdout",
     "output_type": "stream",
     "text": [
      "[2.91739938 1.58306315 2.4330634  1.20563385 1.88955819]\n",
      "[1.95589934 1.23430451 1.24699141 1.50199008 2.51369695]\n",
      "[1.98176565 1.74282139 3.53860294 3.00926619 0.74453865]\n"
     ]
    }
   ],
   "source": [
    "uniform_rv = sts.uniform(1, 2)\n",
    "\n",
    "t_1 = uniform_rv.rvs(n_obs)\n",
    "t_2 = uniform_rv.rvs(n_obs)\n",
    "\n",
    "exp_rv = sts.expon(0.3)\n",
    "\n",
    "t = exp_rv.rvs(n_obs)\n",
    "print(t_1[:5])\n",
    "print(t_2[:5])\n",
    "print(t[:5])"
   ]
  },
  {
   "cell_type": "code",
   "execution_count": 10,
   "metadata": {
    "ExecuteTime": {
     "end_time": "2024-10-22T09:40:22.155213Z",
     "start_time": "2024-10-22T09:40:22.138100Z"
    }
   },
   "outputs": [
    {
     "data": {
      "text/plain": [
       "np.float64(2.000720183018859)"
      ]
     },
     "execution_count": 10,
     "metadata": {},
     "output_type": "execute_result"
    }
   ],
   "source": [
    "np.mean(t_1)"
   ]
  },
  {
   "cell_type": "code",
   "execution_count": 11,
   "metadata": {
    "ExecuteTime": {
     "end_time": "2024-10-22T09:40:26.747189Z",
     "start_time": "2024-10-22T09:40:25.999542Z"
    },
    "code_folding": []
   },
   "outputs": [
    {
     "name": "stdout",
     "output_type": "stream",
     "text": [
      "0.1408528157186808\n"
     ]
    }
   ],
   "source": [
    "n, k = 0, 0\n",
    "for i in range(n_obs):\n",
    "    if (t[i] < t_2[i] and t[i] > t_1[i]) or (t[i] < t_2[i] and t[i] > t_1[i]):\n",
    "        n += 1\n",
    "        if t[i] <= 1.5:\n",
    "            k += 1\n",
    "print(k / n / 2)"
   ]
  },
  {
   "cell_type": "code",
   "execution_count": 12,
   "metadata": {
    "ExecuteTime": {
     "end_time": "2024-10-22T09:40:26.888404Z",
     "start_time": "2024-10-22T09:40:26.856295Z"
    }
   },
   "outputs": [
    {
     "ename": "ValueError",
     "evalue": "The truth value of an array with more than one element is ambiguous. Use a.any() or a.all()",
     "output_type": "error",
     "traceback": [
      "\u001b[1;31m---------------------------------------------------------------------------\u001b[0m",
      "\u001b[1;31mValueError\u001b[0m                                Traceback (most recent call last)",
      "Cell \u001b[1;32mIn[12], line 1\u001b[0m\n\u001b[1;32m----> 1\u001b[0m uslovie_pad \u001b[38;5;241m=\u001b[39m (\u001b[43mt\u001b[49m\u001b[43m \u001b[49m\u001b[38;5;241;43m>\u001b[39;49m\u001b[43m \u001b[49m\u001b[43mt_2\u001b[49m \u001b[38;5;129;01mand\u001b[39;00m t \u001b[38;5;241m<\u001b[39m t_1) \u001b[38;5;129;01mor\u001b[39;00m (t \u001b[38;5;241m<\u001b[39m t_2 \u001b[38;5;129;01mand\u001b[39;00m t \u001b[38;5;241m>\u001b[39m t_1)\n\u001b[0;32m      3\u001b[0m seccess_pad \u001b[38;5;241m=\u001b[39m t[uslovie_pad] \u001b[38;5;241m<\u001b[39m\u001b[38;5;241m=\u001b[39m \u001b[38;5;241m1.5\u001b[39m\n\u001b[0;32m      4\u001b[0m np\u001b[38;5;241m.\u001b[39msum(success_pad) \u001b[38;5;241m/\u001b[39m np\u001b[38;5;241m.\u001b[39msum(uslovie_pad)\n",
      "\u001b[1;31mValueError\u001b[0m: The truth value of an array with more than one element is ambiguous. Use a.any() or a.all()"
     ]
    }
   ],
   "source": [
    "uslovie_pad = (t > t_2 and t < t_1) or (t < t_2 and t > t_1)\n",
    "\n",
    "seccess_pad = t[uslovie_pad] <= 1.5\n",
    "np.sum(success_pad) / np.sum(uslovie_pad)"
   ]
  },
  {
   "cell_type": "code",
   "execution_count": null,
   "metadata": {
    "ExecuteTime": {
     "end_time": "2024-10-22T09:40:06.464184Z",
     "start_time": "2024-10-22T09:40:06.464184Z"
    },
    "nbgrader": {
     "cell_type": "code",
     "checksum": "372c406d43e0c58b63755163e7116843",
     "grade": false,
     "grade_id": "cell-26e7ed9e468a34b2",
     "locked": false,
     "schema_version": 3,
     "solution": true,
     "task": false
    }
   },
   "outputs": [],
   "source": [
    "### ╰( ͡° ͜ʖ ͡° )つ▬▬ι═══════  bzzzzzzzzzz\n",
    "# will the code be with you\n",
    "\n",
    "ans6 = ...\n",
    "\n",
    "# your code here\n"
   ]
  },
  {
   "cell_type": "code",
   "execution_count": null,
   "metadata": {
    "ExecuteTime": {
     "end_time": "2024-10-22T09:40:06.466182Z",
     "start_time": "2024-10-22T09:40:06.466182Z"
    },
    "deletable": false,
    "editable": false,
    "nbgrader": {
     "cell_type": "code",
     "checksum": "b52a3cee0475ac74400aceda1dfcf9dc",
     "grade": true,
     "grade_id": "cell-4b7e86061bb9bfff",
     "locked": true,
     "points": 3,
     "schema_version": 3,
     "solution": false,
     "task": false
    }
   },
   "outputs": [],
   "source": [
    "# проверка, что задание решено корректно\n",
    "assert ans6 < 0.2\n",
    "assert ans6 > 0.1\n",
    "\n",
    "# Похожие тесты скрыты от вас"
   ]
  },
  {
   "cell_type": "markdown",
   "metadata": {},
   "source": [
    "## Упражнение 3 (квантильное преобразование)\n",
    "\n",
    "Случайная величина $X$ описывается функцией распределения: \n",
    "\n",
    "$$\n",
    "F(x) = \\left( \\frac{\\ln x}{\\ln \\theta} \\right)^{\\alpha},  \\quad x \\in [1; \\theta]\n",
    "$$\n",
    "\n",
    "Сгенерируйте из такого распределения выборку объёма $10^6$ и оцените математическое ожидание данной случайной величины. Запишите его в переменную `ans7`. В качестве параметров возьмите $\\alpha=2, \\theta = 10$."
   ]
  },
  {
   "cell_type": "code",
   "execution_count": 15,
   "metadata": {
    "ExecuteTime": {
     "end_time": "2024-10-22T09:41:20.281118Z",
     "start_time": "2024-10-22T09:41:18.864111Z"
    },
    "nbgrader": {
     "cell_type": "code",
     "checksum": "97551c7cbe44e47be29699f0dc3f8e88",
     "grade": false,
     "grade_id": "cell-d21b5450e8815816",
     "locked": false,
     "schema_version": 3,
     "solution": true,
     "task": false
    }
   },
   "outputs": [
    {
     "name": "stdout",
     "output_type": "stream",
     "text": [
      "0.5233624136377935\n"
     ]
    }
   ],
   "source": [
    "theta = 10\n",
    "alpha = 2\n",
    "x = sts.uniform(1, theta - 1).rvs(n_obs)\n",
    "fx = [0] * n_obs\n",
    "ln_theta = np.log(theta)\n",
    "for i in range(n_obs):\n",
    "    fx[i] = ((np.log(x[i]) / ln_theta) ** alpha)\n",
    "ans7 = np.mean(fx)\n",
    "print(ans7)\n",
    "# your code here\n"
   ]
  },
  {
   "cell_type": "markdown",
   "metadata": {},
   "source": [
    "Нарисуйте для получившегося распределения гистограмму. Найдите в аналитическом виде плотность распределения. Нанесите её на картинку с гистограммой. "
   ]
  },
  {
   "cell_type": "code",
   "execution_count": 32,
   "metadata": {
    "ExecuteTime": {
     "end_time": "2024-10-22T10:05:07.918506Z",
     "start_time": "2024-10-22T10:05:07.903786Z"
    },
    "nbgrader": {
     "cell_type": "code",
     "checksum": "86d06b03e8a43604bbab2be36fff2690",
     "grade": false,
     "grade_id": "cell-434f781c2db5c1c1",
     "locked": false,
     "schema_version": 3,
     "solution": true,
     "task": false
    }
   },
   "outputs": [
    {
     "ename": "SyntaxError",
     "evalue": "invalid syntax (1862973353.py, line 4)",
     "output_type": "error",
     "traceback": [
      "\u001b[1;36m  Cell \u001b[1;32mIn[32], line 4\u001b[1;36m\u001b[0m\n\u001b[1;33m    <matplotlib.axes._subplots.AxesSubplot at 0x7f41cbf66c40>\u001b[0m\n\u001b[1;37m    ^\u001b[0m\n\u001b[1;31mSyntaxError\u001b[0m\u001b[1;31m:\u001b[0m invalid syntax\n"
     ]
    }
   ],
   "source": [
    "### ╰( ͡° ͜ʖ ͡° )つ▬▬ι═══════  bzzzzzzzzzz\n",
    "# will the code be with you\n",
    "plt.hist(fx, bins = 50)\n",
    "<matplotlib.axes._subplots.AxesSubplot at 0x7f41cbf66c40>"
   ]
  },
  {
   "cell_type": "code",
   "execution_count": 35,
   "metadata": {
    "ExecuteTime": {
     "end_time": "2024-10-22T10:06:22.950314Z",
     "start_time": "2024-10-22T10:06:18.332067Z"
    }
   },
   "outputs": [
    {
     "name": "stderr",
     "output_type": "stream",
     "text": [
      "C:\\Users\\qazws\\AppData\\Local\\Temp\\ipykernel_4852\\2810151767.py:1: UserWarning: \n",
      "\n",
      "`distplot` is a deprecated function and will be removed in seaborn v0.14.0.\n",
      "\n",
      "Please adapt your code to use either `displot` (a figure-level function with\n",
      "similar flexibility) or `histplot` (an axes-level function for histograms).\n",
      "\n",
      "For a guide to updating your code to use the new functions, please see\n",
      "https://gist.github.com/mwaskom/de44147ed2974457ad6372750bbe5751\n",
      "\n",
      "  sns.distplot(fx, bins = 50)\n"
     ]
    },
    {
     "data": {
      "text/plain": [
       "<Axes: ylabel='Density'>"
      ]
     },
     "execution_count": 35,
     "metadata": {},
     "output_type": "execute_result"
    },
    {
     "data": {
      "image/png": "[encoded data removed]",
      "text/plain": [
       "<Figure size 640x480 with 1 Axes>"
      ]
     },
     "metadata": {},
     "output_type": "display_data"
    }
   ],
   "source": [
    "sns.distplot(fx, bins = 50)"
   ]
  },
  {
   "cell_type": "code",
   "execution_count": 31,
   "metadata": {
    "ExecuteTime": {
     "end_time": "2024-10-22T10:01:01.077937Z",
     "start_time": "2024-10-22T10:00:43.801555Z"
    }
   },
   "outputs": [
    {
     "data": {
      "text/plain": [
       "<Axes: ylabel='Density'>"
      ]
     },
     "execution_count": 31,
     "metadata": {},
     "output_type": "execute_result"
    },
    {
     "data": {
      "image/png": "[encoded data removed]",
      "text/plain": [
       "<Figure size 640x480 with 1 Axes>"
      ]
     },
     "metadata": {},
     "output_type": "display_data"
    }
   ],
   "source": [
    "s = pd.Series(fx)\n",
    "s.plot.kde()"
   ]
  },
  {
   "cell_type": "code",
   "execution_count": null,
   "metadata": {
    "ExecuteTime": {
     "end_time": "2024-10-22T09:40:06.472186Z",
     "start_time": "2024-10-22T09:40:06.472186Z"
    },
    "deletable": false,
    "editable": false,
    "nbgrader": {
     "cell_type": "code",
     "checksum": "9edc52be865e200213a454214c3060e4",
     "grade": true,
     "grade_id": "cell-16a71339d7f17228",
     "locked": true,
     "points": 2,
     "schema_version": 3,
     "solution": false,
     "task": false
    }
   },
   "outputs": [],
   "source": [
    "# проверка, что задание решено корректно\n",
    "assert ans7 < 6\n",
    "assert ans7 > 2\n",
    "\n",
    "# Похожие тесты скрыты от вас"
   ]
  },
  {
   "cell_type": "markdown",
   "metadata": {},
   "source": [
    "## Упражнение 4 (сходимость по вероятности)\n",
    "\n",
    "__Это задание никак не оценивается.__ У распределения хи-квадрат есть следующее свойство: если $X_1, \\ldots, X_n \\sim iid~N(0,1)$, тогда имеет место следующая сходимость по веротяности:\n",
    "\n",
    "$$\n",
    "\\frac{\\chi^2_n}{n} = \\frac{X_1^2 + \\ldots + X_n^2}{n} \\to  1\n",
    "$$\n",
    "\n",
    "Продемонстрируйте с помощью симуляций, что это именно так. От вас требуется построить ту же картинку, что мы строили при иллюстрации ЗБЧ в лекции. Не забудьте построить для нескольких разных $\\varepsilon$ коридоры и убедиться, что последовательность с некоторого момента начинает пробивать их довольно редко."
   ]
  },
  {
   "cell_type": "code",
   "execution_count": null,
   "metadata": {
    "ExecuteTime": {
     "end_time": "2024-10-22T09:40:06.474183Z",
     "start_time": "2024-10-22T09:40:06.474183Z"
    }
   },
   "outputs": [],
   "source": [
    "### ╰( ͡° ͜ʖ ͡° )つ▬▬ι═══════  bzzzzzzzzzz\n",
    "# will the code be with you"
   ]
  },
  {
   "cell_type": "markdown",
   "metadata": {},
   "source": [
    " "
   ]
  }
 ],
 "metadata": {
  "celltoolbar": "Отсутствует",
  "kernelspec": {
   "display_name": "Python 3 (ipykernel)",
   "language": "python",
   "name": "python3"
  },
  "language_info": {
   "codemirror_mode": {
    "name": "ipython",
    "version": 3
   },
   "file_extension": ".py",
   "mimetype": "text/x-python",
   "name": "python",
   "nbconvert_exporter": "python",
   "pygments_lexer": "ipython3",
   "version": "3.9.5"
  },
  "toc": {
   "base_numbering": 1,
   "nav_menu": {},
   "number_sections": true,
   "sideBar": true,
   "skip_h1_title": false,
   "title_cell": "Table of Contents",
   "title_sidebar": "Contents",
   "toc_cell": false,
   "toc_position": {},
   "toc_section_display": true,
   "toc_window_display": false
  }
 },
 "nbformat": 4,
 "nbformat_minor": 4
}
