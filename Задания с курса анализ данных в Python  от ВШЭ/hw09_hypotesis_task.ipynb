{
 "cells": [
  {
   "cell_type": "markdown",
   "metadata": {},
   "source": [
    "<center>\n",
    "<img src=\"logo.png\" height=\"900\"> \n",
    "</center>\n",
    "\n",
    "\n",
    "# Много гипотез"
   ]
  },
  {
   "cell_type": "markdown",
   "metadata": {},
   "source": [
    "В этом домашнем задании мы будем проверять гипотезы. Всего в этой лабораторной работе $7$ задач. Чтобы получить за домашнеее задание положительную оценку, достаточно решить любые $5$ из них. "
   ]
  },
  {
   "cell_type": "code",
   "execution_count": 1,
   "metadata": {
    "ExecuteTime": {
     "end_time": "2024-11-22T08:42:04.905065Z",
     "start_time": "2024-11-22T08:41:56.887698Z"
    }
   },
   "outputs": [],
   "source": [
    "import numpy as np\n",
    "import pandas as pd\n",
    "\n",
    "from scipy import stats \n",
    "\n",
    "import seaborn as sns\n",
    "import matplotlib.pyplot as plt\n",
    "\n",
    "plt.style.use('ggplot')\n",
    "%matplotlib inline"
   ]
  },
  {
   "cell_type": "markdown",
   "metadata": {},
   "source": [
    "## Задание 1 (мудрость)\n",
    "\n",
    "> Помните, что для человека звук его имени является самым сладким и самым важным звуком человеческой речи. (Дейл Карнеги)\n",
    "\n",
    "Доверяй, но проверяй. Решим задачку по психологии! Все цитаты в пабликах вконтакте делятся на два вида: мудрые и недостаточно мудрые. Если цитата мудрая, то её можно лайкнуть. Поговаривают, что если в цитате есть личные местоимения, то пользователь автоматически сопоставляет себя автору этой цитаты и вероятность того, что она будет лайкнута, повышается. Например, цитату \n",
    "\n",
    "> Можно простить человеку все, кроме отсутствия. (Экзюпери) \n",
    "\n",
    "мне не очень хотелось бы лайкать. А вот цитата \n",
    "\n",
    "> Мне наплевать, что вы обо мне думаете. Я о вас вообще не думаю. (Булгаков) \n",
    "\n",
    "совершенно другое дело. \n",
    "\n",
    "В табличке `df_vk_wise` лежат данные о мудрых цитатах из [мудрого паблика.](https://vk.com/ooioioioioioo) В колонке `I` находится переменная, которая принимает значение `True`, когда в тексте цитаты было личное местоимение \"Я\".\n",
    "\n",
    "Срежем первые $50$ постов, так как под ними количество репостов и лайков ещё окончательно не выставлено, и будем работать с остатками. "
   ]
  },
  {
   "cell_type": "code",
   "execution_count": 2,
   "metadata": {
    "ExecuteTime": {
     "end_time": "2024-11-22T08:42:05.041496Z",
     "start_time": "2024-11-22T08:42:04.908063Z"
    }
   },
   "outputs": [
    {
     "data": {
      "text/html": [
       "<div>\n",
       "<style scoped>\n",
       "    .dataframe tbody tr th:only-of-type {\n",
       "        vertical-align: middle;\n",
       "    }\n",
       "\n",
       "    .dataframe tbody tr th {\n",
       "        vertical-align: top;\n",
       "    }\n",
       "\n",
       "    .dataframe thead th {\n",
       "        text-align: right;\n",
       "    }\n",
       "</style>\n",
       "<table border=\"1\" class=\"dataframe\">\n",
       "  <thead>\n",
       "    <tr style=\"text-align: right;\">\n",
       "      <th></th>\n",
       "      <th>likes</th>\n",
       "      <th>reposts</th>\n",
       "      <th>text</th>\n",
       "      <th>I</th>\n",
       "    </tr>\n",
       "  </thead>\n",
       "  <tbody>\n",
       "    <tr>\n",
       "      <th>50</th>\n",
       "      <td>549</td>\n",
       "      <td>25</td>\n",
       "      <td>Я, говорит, люблю человечество, но дивлюсь на ...</td>\n",
       "      <td>True</td>\n",
       "    </tr>\n",
       "    <tr>\n",
       "      <th>51</th>\n",
       "      <td>607</td>\n",
       "      <td>22</td>\n",
       "      <td>Нельзя любить то, что я люблю, да ещё так, как...</td>\n",
       "      <td>True</td>\n",
       "    </tr>\n",
       "    <tr>\n",
       "      <th>52</th>\n",
       "      <td>914</td>\n",
       "      <td>37</td>\n",
       "      <td>Если испытываешь по-настоящему глубокое чувств...</td>\n",
       "      <td>False</td>\n",
       "    </tr>\n",
       "    <tr>\n",
       "      <th>53</th>\n",
       "      <td>989</td>\n",
       "      <td>34</td>\n",
       "      <td>— Я тебя люблю, — сказал я. \\n— Это пройдет, —...</td>\n",
       "      <td>True</td>\n",
       "    </tr>\n",
       "    <tr>\n",
       "      <th>54</th>\n",
       "      <td>1229</td>\n",
       "      <td>32</td>\n",
       "      <td>Он очаровательно рассказывает мне о том, как о...</td>\n",
       "      <td>False</td>\n",
       "    </tr>\n",
       "  </tbody>\n",
       "</table>\n",
       "</div>"
      ],
      "text/plain": [
       "    likes  reposts                                               text      I\n",
       "50    549       25  Я, говорит, люблю человечество, но дивлюсь на ...   True\n",
       "51    607       22  Нельзя любить то, что я люблю, да ещё так, как...   True\n",
       "52    914       37  Если испытываешь по-настоящему глубокое чувств...  False\n",
       "53    989       34  — Я тебя люблю, — сказал я. \\n— Это пройдет, —...   True\n",
       "54   1229       32  Он очаровательно рассказывает мне о том, как о...  False"
      ]
     },
     "execution_count": 2,
     "metadata": {},
     "output_type": "execute_result"
    }
   ],
   "source": [
    "df = pd.read_csv('df_vk_wise.csv')[50:]\n",
    "df.head()"
   ]
  },
  {
   "cell_type": "markdown",
   "metadata": {},
   "source": [
    "Постройте гистограмму для числа лайков постов, содержащих личные местоимения и не содержащих. Как думаете, есть ли с распределением лайков какие-то проблемы?"
   ]
  },
  {
   "cell_type": "code",
   "execution_count": 3,
   "metadata": {
    "ExecuteTime": {
     "end_time": "2024-11-22T08:42:05.810701Z",
     "start_time": "2024-11-22T08:42:05.045502Z"
    },
    "nbgrader": {
     "cell_type": "code",
     "checksum": "3959fa2c8afbb37a435b22f39831c1b4",
     "grade": false,
     "grade_id": "cell-5b1acf05ccd983b3",
     "locked": false,
     "schema_version": 3,
     "solution": true,
     "task": false
    }
   },
   "outputs": [
    {
     "data": {
      "text/plain": [
       "<Axes: xlabel='likes', ylabel='Count'>"
      ]
     },
     "execution_count": 3,
     "metadata": {},
     "output_type": "execute_result"
    },
    {
     "data": {
      "image/png": "[encoded data removed]",
      "text/plain": [
       "<Figure size 640x480 with 1 Axes>"
      ]
     },
     "metadata": {},
     "output_type": "display_data"
    }
   ],
   "source": [
    "sns.histplot(data = df, x = 'likes', hue = 'I')"
   ]
  },
  {
   "cell_type": "markdown",
   "metadata": {},
   "source": [
    "Да, проблемы есть. Это выбросы. Хвосты на гистограммах оказываются очень длинными. Найдите медианы и средние для числа лайков. Сравните их между собой. "
   ]
  },
  {
   "cell_type": "code",
   "execution_count": 4,
   "metadata": {
    "ExecuteTime": {
     "end_time": "2024-11-22T08:42:05.841161Z",
     "start_time": "2024-11-22T08:42:05.813681Z"
    },
    "nbgrader": {
     "cell_type": "code",
     "checksum": "920d011f18252d1f5ad8a0acbd77af8b",
     "grade": false,
     "grade_id": "cell-84afb85a40373b11",
     "locked": false,
     "schema_version": 3,
     "solution": true,
     "task": false
    }
   },
   "outputs": [
    {
     "name": "stdout",
     "output_type": "stream",
     "text": [
      "2879.1828885400314 2588.5 \n",
      "2784.0432051478474 2497.0\n"
     ]
    }
   ],
   "source": [
    "### ╰( ͡° ͜ʖ ͡° )つ▬▬ι═══════  bzzzzzzzzzz\n",
    "# will the code be with you\n",
    "I_mean_likes = df[df['I'] == True]['likes'].mean()\n",
    "I_median_likes = df[df['I'] == True]['likes'].median()\n",
    "\n",
    "NoI_mean_likes = df[df['I'] == False]['likes'].mean()\n",
    "NoI_median_likes = df[df['I'] == False]['likes'].median()\n",
    "# your code here\n",
    "print(f'{I_mean_likes} {I_median_likes} \\n{NoI_mean_likes} {NoI_median_likes}')"
   ]
  },
  {
   "cell_type": "markdown",
   "metadata": {},
   "source": [
    "Проверьте гипотезу о равенстве среднего числа лайков. Используйте для этого $z$-тест, основанный на ЦПТ. Дисперсию расчитывайте по выборке, используя несмещённую оценку `(ddof=1)`. Запишите наблюдаемое значение статистики в переменную `z_obs`. "
   ]
  },
  {
   "cell_type": "code",
   "execution_count": 5,
   "metadata": {
    "ExecuteTime": {
     "end_time": "2024-11-22T08:42:05.857111Z",
     "start_time": "2024-11-22T08:42:05.843363Z"
    },
    "nbgrader": {
     "cell_type": "code",
     "checksum": "7f93ee1688388c6a8b8449e05da2fe98",
     "grade": false,
     "grade_id": "cell-1acfb89f07181a0a",
     "locked": false,
     "schema_version": 3,
     "solution": true,
     "task": false
    }
   },
   "outputs": [
    {
     "data": {
      "text/plain": [
       "np.float64(2.6644610922505323)"
      ]
     },
     "execution_count": 5,
     "metadata": {},
     "output_type": "execute_result"
    }
   ],
   "source": [
    "### ╰( ͡° ͜ʖ ͡° )つ▬▬ι═══════  bzzzzzzzzzz\n",
    "# will the code be with you\n",
    "\n",
    "alpha = 0.05 \n",
    "nI = df[df['I'] == True]['likes'].size\n",
    "nNoI = df[df['I'] == False]['likes'].size\n",
    "\n",
    "I_var_likes = df[df['I'] == True]['likes'].var(ddof=1)\n",
    "NoI_var_likes = df[df['I'] == False]['likes'].var(ddof=1)\n",
    "\n",
    "diff = I_mean_likes - NoI_mean_likes\n",
    "diff_std = np.sqrt(I_var_likes / nI + NoI_var_likes / nNoI)\n",
    "\n",
    "z_obs = diff / diff_std\n",
    "\n",
    "# your code here\n",
    "z_obs"
   ]
  },
  {
   "cell_type": "markdown",
   "metadata": {},
   "source": [
    "Найдите критическое значение статистики. Сравните его с наблюдаемым. Рассчитайте p-value для ситуации с двусторонней альтернативой. Сделайте вывод о выдвинутой гипотезе. Критическое значение статистики запишите в переменную `z_crit`, а p-значение в переменную `pval`. "
   ]
  },
  {
   "cell_type": "code",
   "execution_count": 6,
   "metadata": {
    "ExecuteTime": {
     "end_time": "2024-11-22T08:42:05.872092Z",
     "start_time": "2024-11-22T08:42:05.860095Z"
    },
    "nbgrader": {
     "cell_type": "code",
     "checksum": "46bd437560b80a2b837cc3e7d7415f62",
     "grade": false,
     "grade_id": "cell-9ebff976022e649a",
     "locked": false,
     "schema_version": 3,
     "solution": true,
     "task": false
    }
   },
   "outputs": [
    {
     "data": {
      "text/plain": [
       "np.float64(0.007711178605442903)"
      ]
     },
     "execution_count": 6,
     "metadata": {},
     "output_type": "execute_result"
    }
   ],
   "source": [
    "### ╰( ͡° ͜ʖ ͡° )つ▬▬ι═══════  bzzzzzzzzzz\n",
    "# will the code be with you\n",
    "\n",
    "z_crit = stats.norm.ppf(1 - alpha)\n",
    "pval = 2 * (1 - stats.norm.cdf(abs(z_obs)))\n",
    "# your code here\n",
    "pval"
   ]
  },
  {
   "cell_type": "code",
   "execution_count": 7,
   "metadata": {
    "ExecuteTime": {
     "end_time": "2024-11-22T08:42:05.886840Z",
     "start_time": "2024-11-22T08:42:05.875094Z"
    },
    "deletable": false,
    "editable": false,
    "nbgrader": {
     "cell_type": "code",
     "checksum": "2a9b5192c35b42a4c281ed60e5bd03ec",
     "grade": true,
     "grade_id": "cell-839825aaa8c13ab0",
     "locked": true,
     "points": 1,
     "schema_version": 3,
     "solution": false,
     "task": false
    }
   },
   "outputs": [],
   "source": [
    "# проверка того, что задание решено верно\n",
    "assert np.abs(z_obs - 2.6644610922505323) < 1e-5\n",
    "\n",
    "# другие подобные тесты скрыты от вас\n"
   ]
  },
  {
   "cell_type": "markdown",
   "metadata": {},
   "source": [
    "Можно заметить, что у распределения числа репостов длинные хвосты. В данных есть выбросы, которые завышают среднее значение. Если выбросы сильные, то ЦПТ может ломаться. Из-за этого имеет смысл в данном случае проверять гипотезу о равенстве медиан, которые устойчивы к выбросам.\n",
    "\n",
    "-------------------"
   ]
  },
  {
   "cell_type": "markdown",
   "metadata": {},
   "source": [
    "## Задание 2  (Тайлер) \n",
    "\n",
    "__Люди всё время меня спрашивают, знаю ли я Тайлера Дёрдена?__ Да, знаю. Он делает лучшее мыло в стране. \n",
    "\n",
    "__а)__ Тайлер считает партию изделий хорошей, если дисперсия размера не превышает $25$ грамм$^2$. Пока Тайлер летел в самолёте, он измерил $10$ кусков мыла. Выборочная дисперсия оказалась равна $27$ грамм$^2$. Можно ли продавать эту партию или её надо списать в брак? \n",
    "\n",
    "При проверке этой гипотезы найдите $p$-значение и запишите его в переменную `pval1`. Наблюдаемое значение статистики запишите в переменную `chi_obs`. Используйте уровень значимости $1\\%$."
   ]
  },
  {
   "cell_type": "code",
   "execution_count": 8,
   "metadata": {
    "ExecuteTime": {
     "end_time": "2024-11-22T08:42:05.902903Z",
     "start_time": "2024-11-22T08:42:05.890004Z"
    },
    "nbgrader": {
     "cell_type": "code",
     "checksum": "9b8826d6e3062cc4de98fdd59e1d6ca9",
     "grade": false,
     "grade_id": "cell-2e30e820f90148d5",
     "locked": false,
     "schema_version": 3,
     "solution": true,
     "task": false
    }
   },
   "outputs": [
    {
     "name": "stdout",
     "output_type": "stream",
     "text": [
      "9.72 21.665994333461924 0.37362476510008014\n"
     ]
    }
   ],
   "source": [
    "### ╰( ͡° ͜ʖ ͡° )つ▬▬ι═══════  bzzzzzzzzzz\n",
    "# will the code be with you\n",
    "n = 10\n",
    "ideal_var = 25\n",
    "vib_var = 27\n",
    "alpha = 0.01\n",
    "\n",
    "chi_obs = (n - 1) * vib_var / ideal_var \n",
    "chi_crit = stats.chi2.ppf(1 - alpha, df = n - 1)\n",
    "pval1 = 1 - stats.chi2.cdf(chi_obs, df = n - 1)\n",
    "\n",
    "# your code here\n",
    "print(chi_obs, chi_crit, pval1)"
   ]
  },
  {
   "cell_type": "markdown",
   "metadata": {},
   "source": [
    "__б)__ Для того, чтобы уменьшить количество бракованного мыла, Тайлер собирается внедрить новую технологию производства. Тайлер произвёл по старой технологии $100$ кусков мыла. Стандартное отклонение этой партии составило $6$ грамм. Для  новой технологии стандартное отклонение, посчитанное по $100$ кускам мыла, составило $5$ грамм. Правда ли, что новая технология обладает меньшей дисперсией и её нужно внедрить на производстве?\n",
    "\n",
    "При проверке этой гипотезы найдите $p$-значение и запишите его в переменную `pval2`. Используйте уровень значимости $1\\%$."
   ]
  },
  {
   "cell_type": "code",
   "execution_count": 9,
   "metadata": {
    "ExecuteTime": {
     "end_time": "2024-11-22T08:42:05.918910Z",
     "start_time": "2024-11-22T08:42:05.907912Z"
    },
    "nbgrader": {
     "cell_type": "code",
     "checksum": "72a130a7ef8f3bae0797aa938d6cfe08",
     "grade": false,
     "grade_id": "cell-88a96be4941d7e62",
     "locked": false,
     "schema_version": 3,
     "solution": true,
     "task": false
    }
   },
   "outputs": [
    {
     "name": "stdout",
     "output_type": "stream",
     "text": [
      "1.44 1.6014982948400505 1.1102230246251565e-16\n"
     ]
    }
   ],
   "source": [
    "### ╰( ͡° ͜ʖ ͡° )つ▬▬ι═══════  bzzzzzzzzzz\n",
    "# will the code be with you\n",
    "n = 100\n",
    "var1 = 6\n",
    "var2 = 5\n",
    "alpha = 0.01\n",
    "\n",
    "F_obs = var1 ** 2 / var2 ** 2\n",
    "F_crit = stats.f.ppf(1 - alpha, n - 1, n - 1)\n",
    "pval2 = 1 - stats.f.cdf(chi_obs, n - 1, n - 1)\n",
    "\n",
    "# your code here\n",
    "print(F_obs, F_crit, pval2)"
   ]
  },
  {
   "cell_type": "code",
   "execution_count": 10,
   "metadata": {
    "ExecuteTime": {
     "end_time": "2024-11-22T08:42:05.934607Z",
     "start_time": "2024-11-22T08:42:05.922457Z"
    },
    "deletable": false,
    "editable": false,
    "nbgrader": {
     "cell_type": "code",
     "checksum": "b1739595ab5d48865bfc97bafc11bc33",
     "grade": true,
     "grade_id": "cell-167632eabf2289bb",
     "locked": true,
     "points": 1,
     "schema_version": 3,
     "solution": false,
     "task": false
    }
   },
   "outputs": [],
   "source": [
    "# проверка того, что задание решено верно\n",
    "assert np.abs(chi_obs - 9.72) < 1e-1\n",
    "assert np.abs(F_obs - 1.44) < 1e-1\n",
    "\n",
    "# другие подобные тесты скрыты от вас"
   ]
  },
  {
   "cell_type": "markdown",
   "metadata": {},
   "source": [
    "## Задание 3 (рейтинги президентов) \n",
    "\n",
    "В таблице `presidents.csv` представлены рейтинги различных президентов США. Социальные опросы проводились раз в квартал. Опрашивалась случайная выборка граждан. У каждого спрашивалось одобряет ли он деятельность президента.\n",
    "\n",
    "__Люди всё время меня спрашивают, знаю ли я Никсона.__ Да, Ричард Никсон был президентом США с 20 января 1969 года по 9 августа 1974 года. 17 июня 1972 года произошёл Уотергейтский скандал. Давайте проанализируем, что при этом произошло с его рейтингом."
   ]
  },
  {
   "cell_type": "code",
   "execution_count": 11,
   "metadata": {
    "ExecuteTime": {
     "end_time": "2024-11-22T08:42:05.965607Z",
     "start_time": "2024-11-22T08:42:05.937594Z"
    }
   },
   "outputs": [
    {
     "data": {
      "text/html": [
       "<div>\n",
       "<style scoped>\n",
       "    .dataframe tbody tr th:only-of-type {\n",
       "        vertical-align: middle;\n",
       "    }\n",
       "\n",
       "    .dataframe tbody tr th {\n",
       "        vertical-align: top;\n",
       "    }\n",
       "\n",
       "    .dataframe thead th {\n",
       "        text-align: right;\n",
       "    }\n",
       "</style>\n",
       "<table border=\"1\" class=\"dataframe\">\n",
       "  <thead>\n",
       "    <tr style=\"text-align: right;\">\n",
       "      <th></th>\n",
       "      <th>year</th>\n",
       "      <th>Qtr1</th>\n",
       "      <th>Qtr2</th>\n",
       "      <th>Qtr3</th>\n",
       "      <th>Qtr4</th>\n",
       "    </tr>\n",
       "  </thead>\n",
       "  <tbody>\n",
       "    <tr>\n",
       "      <th>0</th>\n",
       "      <td>1945</td>\n",
       "      <td>NaN</td>\n",
       "      <td>87</td>\n",
       "      <td>82.0</td>\n",
       "      <td>75.0</td>\n",
       "    </tr>\n",
       "    <tr>\n",
       "      <th>1</th>\n",
       "      <td>1946</td>\n",
       "      <td>63.0</td>\n",
       "      <td>50</td>\n",
       "      <td>43.0</td>\n",
       "      <td>32.0</td>\n",
       "    </tr>\n",
       "    <tr>\n",
       "      <th>2</th>\n",
       "      <td>1947</td>\n",
       "      <td>35.0</td>\n",
       "      <td>60</td>\n",
       "      <td>54.0</td>\n",
       "      <td>55.0</td>\n",
       "    </tr>\n",
       "    <tr>\n",
       "      <th>3</th>\n",
       "      <td>1948</td>\n",
       "      <td>36.0</td>\n",
       "      <td>39</td>\n",
       "      <td>NaN</td>\n",
       "      <td>NaN</td>\n",
       "    </tr>\n",
       "    <tr>\n",
       "      <th>4</th>\n",
       "      <td>1949</td>\n",
       "      <td>69.0</td>\n",
       "      <td>57</td>\n",
       "      <td>57.0</td>\n",
       "      <td>51.0</td>\n",
       "    </tr>\n",
       "  </tbody>\n",
       "</table>\n",
       "</div>"
      ],
      "text/plain": [
       "   year  Qtr1  Qtr2  Qtr3  Qtr4\n",
       "0  1945   NaN    87  82.0  75.0\n",
       "1  1946  63.0    50  43.0  32.0\n",
       "2  1947  35.0    60  54.0  55.0\n",
       "3  1948  36.0    39   NaN   NaN\n",
       "4  1949  69.0    57  57.0  51.0"
      ]
     },
     "execution_count": 11,
     "metadata": {},
     "output_type": "execute_result"
    }
   ],
   "source": [
    "df = pd.read_csv('presidents.csv')\n",
    "df.head()"
   ]
  },
  {
   "cell_type": "markdown",
   "metadata": {},
   "source": [
    "Чтобы привести таблицу к удобному виду используйте функцию `pd.melt`. Вытащите из таблички рейтинг Никсона с 1 квартала 1969 года по 2 квартал 1972 года (включая его). Запишите эти данные в переменную `x`. Рейтинг с 3 квартала 1972 года по 2 квартал 1974 года поместите в переменную `y`. Пропуски в данных удалите из выборки."
   ]
  },
  {
   "cell_type": "code",
   "execution_count": 12,
   "metadata": {
    "ExecuteTime": {
     "end_time": "2024-11-22T08:42:05.996749Z",
     "start_time": "2024-11-22T08:42:05.968844Z"
    }
   },
   "outputs": [
    {
     "data": {
      "text/html": [
       "<div>\n",
       "<style scoped>\n",
       "    .dataframe tbody tr th:only-of-type {\n",
       "        vertical-align: middle;\n",
       "    }\n",
       "\n",
       "    .dataframe tbody tr th {\n",
       "        vertical-align: top;\n",
       "    }\n",
       "\n",
       "    .dataframe thead th {\n",
       "        text-align: right;\n",
       "    }\n",
       "</style>\n",
       "<table border=\"1\" class=\"dataframe\">\n",
       "  <thead>\n",
       "    <tr style=\"text-align: right;\">\n",
       "      <th></th>\n",
       "      <th>index</th>\n",
       "      <th>year</th>\n",
       "      <th>Qtr</th>\n",
       "      <th>Rating</th>\n",
       "    </tr>\n",
       "  </thead>\n",
       "  <tbody>\n",
       "    <tr>\n",
       "      <th>0</th>\n",
       "      <td>0</td>\n",
       "      <td>1945</td>\n",
       "      <td>Qtr1</td>\n",
       "      <td>NaN</td>\n",
       "    </tr>\n",
       "    <tr>\n",
       "      <th>1</th>\n",
       "      <td>30</td>\n",
       "      <td>1945</td>\n",
       "      <td>Qtr2</td>\n",
       "      <td>87.0</td>\n",
       "    </tr>\n",
       "    <tr>\n",
       "      <th>2</th>\n",
       "      <td>60</td>\n",
       "      <td>1945</td>\n",
       "      <td>Qtr3</td>\n",
       "      <td>82.0</td>\n",
       "    </tr>\n",
       "    <tr>\n",
       "      <th>3</th>\n",
       "      <td>90</td>\n",
       "      <td>1945</td>\n",
       "      <td>Qtr4</td>\n",
       "      <td>75.0</td>\n",
       "    </tr>\n",
       "    <tr>\n",
       "      <th>4</th>\n",
       "      <td>1</td>\n",
       "      <td>1946</td>\n",
       "      <td>Qtr1</td>\n",
       "      <td>63.0</td>\n",
       "    </tr>\n",
       "  </tbody>\n",
       "</table>\n",
       "</div>"
      ],
      "text/plain": [
       "   index  year   Qtr  Rating\n",
       "0      0  1945  Qtr1     NaN\n",
       "1     30  1945  Qtr2    87.0\n",
       "2     60  1945  Qtr3    82.0\n",
       "3     90  1945  Qtr4    75.0\n",
       "4      1  1946  Qtr1    63.0"
      ]
     },
     "execution_count": 12,
     "metadata": {},
     "output_type": "execute_result"
    }
   ],
   "source": [
    "melted_df = pd.melt(df, id_vars=['year'], value_vars=['Qtr1', 'Qtr2', 'Qtr3', 'Qtr4'], var_name='Qtr', value_name='Rating').sort_values(by = ['year', 'Qtr']).reset_index()\n",
    "\n",
    "melted_df.head()"
   ]
  },
  {
   "cell_type": "code",
   "execution_count": 13,
   "metadata": {
    "ExecuteTime": {
     "end_time": "2024-11-22T08:42:06.019129Z",
     "start_time": "2024-11-22T08:42:05.998753Z"
    }
   },
   "outputs": [
    {
     "data": {
      "text/plain": [
       "Index([96], dtype='int64')"
      ]
     },
     "execution_count": 13,
     "metadata": {},
     "output_type": "execute_result"
    }
   ],
   "source": [
    "melted_df.loc[(melted_df['year'] == 1969) & (melted_df['Qtr'] == 'Qtr1')].index"
   ]
  },
  {
   "cell_type": "code",
   "execution_count": 14,
   "metadata": {
    "ExecuteTime": {
     "end_time": "2024-11-22T08:42:06.034127Z",
     "start_time": "2024-11-22T08:42:06.023132Z"
    }
   },
   "outputs": [
    {
     "data": {
      "text/plain": [
       "Index([109], dtype='int64')"
      ]
     },
     "execution_count": 14,
     "metadata": {},
     "output_type": "execute_result"
    }
   ],
   "source": [
    "melted_df.loc[(melted_df['year'] == 1972) & (melted_df['Qtr'] == 'Qtr2')].index"
   ]
  },
  {
   "cell_type": "code",
   "execution_count": 15,
   "metadata": {
    "ExecuteTime": {
     "end_time": "2024-11-22T08:42:06.050131Z",
     "start_time": "2024-11-22T08:42:06.037142Z"
    }
   },
   "outputs": [
    {
     "data": {
      "text/plain": [
       "Index([110], dtype='int64')"
      ]
     },
     "execution_count": 15,
     "metadata": {},
     "output_type": "execute_result"
    }
   ],
   "source": [
    "melted_df.loc[(melted_df['year'] == 1972) & (melted_df['Qtr'] == 'Qtr3')].index"
   ]
  },
  {
   "cell_type": "code",
   "execution_count": 16,
   "metadata": {
    "ExecuteTime": {
     "end_time": "2024-11-22T08:42:06.065131Z",
     "start_time": "2024-11-22T08:42:06.053131Z"
    }
   },
   "outputs": [
    {
     "data": {
      "text/plain": [
       "Index([117], dtype='int64')"
      ]
     },
     "execution_count": 16,
     "metadata": {},
     "output_type": "execute_result"
    }
   ],
   "source": [
    "melted_df.loc[(melted_df['year'] == 1974) & (melted_df['Qtr'] == 'Qtr2')].index"
   ]
  },
  {
   "cell_type": "code",
   "execution_count": 17,
   "metadata": {
    "ExecuteTime": {
     "end_time": "2024-11-22T08:42:06.080322Z",
     "start_time": "2024-11-22T08:42:06.068325Z"
    },
    "nbgrader": {
     "cell_type": "code",
     "checksum": "22ec9a50950897f91ca39c4631a6200c",
     "grade": false,
     "grade_id": "cell-0c35f4bdddbb0029",
     "locked": false,
     "schema_version": 3,
     "solution": true,
     "task": false
    }
   },
   "outputs": [],
   "source": [
    "### ╰( ͡° ͜ʖ ͡° )つ▬▬ι═══════  bzzzzzzzzzz\n",
    "# will the code be with you\n",
    "\n",
    "x = melted_df.loc[96:109]['Rating'].values.astype(float)\n",
    "y = melted_df.loc[112:117]['Rating'].values.astype(float)\n",
    "\n",
    "# your code here"
   ]
  },
  {
   "cell_type": "code",
   "execution_count": 18,
   "metadata": {
    "ExecuteTime": {
     "end_time": "2024-11-22T08:42:06.095684Z",
     "start_time": "2024-11-22T08:42:06.082314Z"
    }
   },
   "outputs": [
    {
     "data": {
      "text/html": [
       "<div>\n",
       "<style scoped>\n",
       "    .dataframe tbody tr th:only-of-type {\n",
       "        vertical-align: middle;\n",
       "    }\n",
       "\n",
       "    .dataframe tbody tr th {\n",
       "        vertical-align: top;\n",
       "    }\n",
       "\n",
       "    .dataframe thead th {\n",
       "        text-align: right;\n",
       "    }\n",
       "</style>\n",
       "<table border=\"1\" class=\"dataframe\">\n",
       "  <thead>\n",
       "    <tr style=\"text-align: right;\">\n",
       "      <th></th>\n",
       "      <th>index</th>\n",
       "      <th>year</th>\n",
       "      <th>Qtr</th>\n",
       "      <th>Rating</th>\n",
       "    </tr>\n",
       "  </thead>\n",
       "  <tbody>\n",
       "    <tr>\n",
       "      <th>96</th>\n",
       "      <td>24</td>\n",
       "      <td>1969</td>\n",
       "      <td>Qtr1</td>\n",
       "      <td>59.0</td>\n",
       "    </tr>\n",
       "    <tr>\n",
       "      <th>97</th>\n",
       "      <td>54</td>\n",
       "      <td>1969</td>\n",
       "      <td>Qtr2</td>\n",
       "      <td>65.0</td>\n",
       "    </tr>\n",
       "    <tr>\n",
       "      <th>98</th>\n",
       "      <td>84</td>\n",
       "      <td>1969</td>\n",
       "      <td>Qtr3</td>\n",
       "      <td>65.0</td>\n",
       "    </tr>\n",
       "    <tr>\n",
       "      <th>99</th>\n",
       "      <td>114</td>\n",
       "      <td>1969</td>\n",
       "      <td>Qtr4</td>\n",
       "      <td>56.0</td>\n",
       "    </tr>\n",
       "    <tr>\n",
       "      <th>100</th>\n",
       "      <td>25</td>\n",
       "      <td>1970</td>\n",
       "      <td>Qtr1</td>\n",
       "      <td>66.0</td>\n",
       "    </tr>\n",
       "    <tr>\n",
       "      <th>101</th>\n",
       "      <td>55</td>\n",
       "      <td>1970</td>\n",
       "      <td>Qtr2</td>\n",
       "      <td>53.0</td>\n",
       "    </tr>\n",
       "    <tr>\n",
       "      <th>102</th>\n",
       "      <td>85</td>\n",
       "      <td>1970</td>\n",
       "      <td>Qtr3</td>\n",
       "      <td>61.0</td>\n",
       "    </tr>\n",
       "    <tr>\n",
       "      <th>103</th>\n",
       "      <td>115</td>\n",
       "      <td>1970</td>\n",
       "      <td>Qtr4</td>\n",
       "      <td>52.0</td>\n",
       "    </tr>\n",
       "    <tr>\n",
       "      <th>104</th>\n",
       "      <td>26</td>\n",
       "      <td>1971</td>\n",
       "      <td>Qtr1</td>\n",
       "      <td>51.0</td>\n",
       "    </tr>\n",
       "    <tr>\n",
       "      <th>105</th>\n",
       "      <td>56</td>\n",
       "      <td>1971</td>\n",
       "      <td>Qtr2</td>\n",
       "      <td>48.0</td>\n",
       "    </tr>\n",
       "    <tr>\n",
       "      <th>106</th>\n",
       "      <td>86</td>\n",
       "      <td>1971</td>\n",
       "      <td>Qtr3</td>\n",
       "      <td>54.0</td>\n",
       "    </tr>\n",
       "    <tr>\n",
       "      <th>107</th>\n",
       "      <td>116</td>\n",
       "      <td>1971</td>\n",
       "      <td>Qtr4</td>\n",
       "      <td>49.0</td>\n",
       "    </tr>\n",
       "    <tr>\n",
       "      <th>108</th>\n",
       "      <td>27</td>\n",
       "      <td>1972</td>\n",
       "      <td>Qtr1</td>\n",
       "      <td>49.0</td>\n",
       "    </tr>\n",
       "    <tr>\n",
       "      <th>109</th>\n",
       "      <td>57</td>\n",
       "      <td>1972</td>\n",
       "      <td>Qtr2</td>\n",
       "      <td>61.0</td>\n",
       "    </tr>\n",
       "  </tbody>\n",
       "</table>\n",
       "</div>"
      ],
      "text/plain": [
       "     index  year   Qtr  Rating\n",
       "96      24  1969  Qtr1    59.0\n",
       "97      54  1969  Qtr2    65.0\n",
       "98      84  1969  Qtr3    65.0\n",
       "99     114  1969  Qtr4    56.0\n",
       "100     25  1970  Qtr1    66.0\n",
       "101     55  1970  Qtr2    53.0\n",
       "102     85  1970  Qtr3    61.0\n",
       "103    115  1970  Qtr4    52.0\n",
       "104     26  1971  Qtr1    51.0\n",
       "105     56  1971  Qtr2    48.0\n",
       "106     86  1971  Qtr3    54.0\n",
       "107    116  1971  Qtr4    49.0\n",
       "108     27  1972  Qtr1    49.0\n",
       "109     57  1972  Qtr2    61.0"
      ]
     },
     "execution_count": 18,
     "metadata": {},
     "output_type": "execute_result"
    }
   ],
   "source": [
    "melted_df.loc[96:109]"
   ]
  },
  {
   "cell_type": "code",
   "execution_count": 19,
   "metadata": {
    "ExecuteTime": {
     "end_time": "2024-11-22T08:42:06.111684Z",
     "start_time": "2024-11-22T08:42:06.097686Z"
    }
   },
   "outputs": [
    {
     "data": {
      "text/html": [
       "<div>\n",
       "<style scoped>\n",
       "    .dataframe tbody tr th:only-of-type {\n",
       "        vertical-align: middle;\n",
       "    }\n",
       "\n",
       "    .dataframe tbody tr th {\n",
       "        vertical-align: top;\n",
       "    }\n",
       "\n",
       "    .dataframe thead th {\n",
       "        text-align: right;\n",
       "    }\n",
       "</style>\n",
       "<table border=\"1\" class=\"dataframe\">\n",
       "  <thead>\n",
       "    <tr style=\"text-align: right;\">\n",
       "      <th></th>\n",
       "      <th>index</th>\n",
       "      <th>year</th>\n",
       "      <th>Qtr</th>\n",
       "      <th>Rating</th>\n",
       "    </tr>\n",
       "  </thead>\n",
       "  <tbody>\n",
       "    <tr>\n",
       "      <th>110</th>\n",
       "      <td>87</td>\n",
       "      <td>1972</td>\n",
       "      <td>Qtr3</td>\n",
       "      <td>NaN</td>\n",
       "    </tr>\n",
       "    <tr>\n",
       "      <th>111</th>\n",
       "      <td>117</td>\n",
       "      <td>1972</td>\n",
       "      <td>Qtr4</td>\n",
       "      <td>NaN</td>\n",
       "    </tr>\n",
       "    <tr>\n",
       "      <th>112</th>\n",
       "      <td>28</td>\n",
       "      <td>1973</td>\n",
       "      <td>Qtr1</td>\n",
       "      <td>68.0</td>\n",
       "    </tr>\n",
       "    <tr>\n",
       "      <th>113</th>\n",
       "      <td>58</td>\n",
       "      <td>1973</td>\n",
       "      <td>Qtr2</td>\n",
       "      <td>44.0</td>\n",
       "    </tr>\n",
       "    <tr>\n",
       "      <th>114</th>\n",
       "      <td>88</td>\n",
       "      <td>1973</td>\n",
       "      <td>Qtr3</td>\n",
       "      <td>40.0</td>\n",
       "    </tr>\n",
       "    <tr>\n",
       "      <th>115</th>\n",
       "      <td>118</td>\n",
       "      <td>1973</td>\n",
       "      <td>Qtr4</td>\n",
       "      <td>27.0</td>\n",
       "    </tr>\n",
       "    <tr>\n",
       "      <th>116</th>\n",
       "      <td>29</td>\n",
       "      <td>1974</td>\n",
       "      <td>Qtr1</td>\n",
       "      <td>28.0</td>\n",
       "    </tr>\n",
       "    <tr>\n",
       "      <th>117</th>\n",
       "      <td>59</td>\n",
       "      <td>1974</td>\n",
       "      <td>Qtr2</td>\n",
       "      <td>25.0</td>\n",
       "    </tr>\n",
       "  </tbody>\n",
       "</table>\n",
       "</div>"
      ],
      "text/plain": [
       "     index  year   Qtr  Rating\n",
       "110     87  1972  Qtr3     NaN\n",
       "111    117  1972  Qtr4     NaN\n",
       "112     28  1973  Qtr1    68.0\n",
       "113     58  1973  Qtr2    44.0\n",
       "114     88  1973  Qtr3    40.0\n",
       "115    118  1973  Qtr4    27.0\n",
       "116     29  1974  Qtr1    28.0\n",
       "117     59  1974  Qtr2    25.0"
      ]
     },
     "execution_count": 19,
     "metadata": {},
     "output_type": "execute_result"
    }
   ],
   "source": [
    "melted_df.loc[110:117]"
   ]
  },
  {
   "cell_type": "markdown",
   "metadata": {},
   "source": [
    "Правда ли, что после скандала средний рейтинг Никсона рухнул? Предполагайте, что рейтинг распределён нормально, а также, что дисперсия рейтинга не изменилась из-за скандала. Наблюдаемое значение статистики запишите в переменную `obs`, в переменную `pval` запишите $p$-значение."
   ]
  },
  {
   "cell_type": "code",
   "execution_count": 20,
   "metadata": {
    "ExecuteTime": {
     "end_time": "2024-11-22T08:42:06.126948Z",
     "start_time": "2024-11-22T08:42:06.113690Z"
    }
   },
   "outputs": [
    {
     "data": {
      "text/plain": [
       "array([59., 65., 65., 56., 66., 53., 61., 52., 51., 48., 54., 49., 49.,\n",
       "       61.])"
      ]
     },
     "execution_count": 20,
     "metadata": {},
     "output_type": "execute_result"
    }
   ],
   "source": [
    "x"
   ]
  },
  {
   "cell_type": "code",
   "execution_count": 21,
   "metadata": {
    "ExecuteTime": {
     "end_time": "2024-11-22T08:42:06.142100Z",
     "start_time": "2024-11-22T08:42:06.129953Z"
    }
   },
   "outputs": [
    {
     "data": {
      "text/plain": [
       "array([68., 44., 40., 27., 28., 25.])"
      ]
     },
     "execution_count": 21,
     "metadata": {},
     "output_type": "execute_result"
    }
   ],
   "source": [
    "y"
   ]
  },
  {
   "cell_type": "code",
   "execution_count": 22,
   "metadata": {
    "ExecuteTime": {
     "end_time": "2024-11-22T08:42:06.157822Z",
     "start_time": "2024-11-22T08:42:06.144107Z"
    },
    "code_folding": [],
    "nbgrader": {
     "cell_type": "code",
     "checksum": "2472ad8779c6b2e9af75ad034a8f98ae",
     "grade": false,
     "grade_id": "cell-468606ed00795265",
     "locked": false,
     "schema_version": 3,
     "solution": true,
     "task": false
    }
   },
   "outputs": [
    {
     "data": {
      "text/plain": [
       "np.float64(2.8111637413512507)"
      ]
     },
     "execution_count": 22,
     "metadata": {},
     "output_type": "execute_result"
    }
   ],
   "source": [
    "### ╰( ͡° ͜ʖ ͡° )つ▬▬ι═══════  bzzzzzzzzzz\n",
    "# will the code be with you\n",
    "n = x.size\n",
    "m = y.size\n",
    "\n",
    "x_mean = x.mean()\n",
    "y_mean = y.mean()\n",
    "\n",
    "x_var = x.var()\n",
    "y_var = y.var()\n",
    "\n",
    "diff = x_mean - y_mean\n",
    "\n",
    "z = diff / np.sqrt(x_var / n + y_var / m)\n",
    "\n",
    "obs = ...\n",
    "pval = ...\n",
    "\n",
    "# your code here\n",
    "z"
   ]
  },
  {
   "cell_type": "code",
   "execution_count": 23,
   "metadata": {
    "ExecuteTime": {
     "end_time": "2024-11-22T08:42:06.172825Z",
     "start_time": "2024-11-22T08:42:06.160827Z"
    }
   },
   "outputs": [
    {
     "data": {
      "text/plain": [
       "(np.float64(3.3267210840002366), np.float64(0.02085383975355559))"
      ]
     },
     "execution_count": 23,
     "metadata": {},
     "output_type": "execute_result"
    }
   ],
   "source": [
    "import numpy as np\n",
    "from scipy.stats import ttest_rel\n",
    "\n",
    "# Данные\n",
    "x = np.array([59., 65., 65., 56., 66., 53., 61., 52., 51., 48., 54., 49., 49., 61.])\n",
    "y = np.array([68., 44., 40., 27., 28., 25.])\n",
    "\n",
    "# Укоротим x до длины y (количество наблюдений должно совпадать для зависимых выборок)\n",
    "x_trimmed = x[:len(y)]\n",
    "\n",
    "# t-тест для зависимых выборок\n",
    "obs, pval = ttest_rel(x_trimmed, y)\n",
    "obs, pval"
   ]
  },
  {
   "cell_type": "code",
   "execution_count": 24,
   "metadata": {
    "ExecuteTime": {
     "end_time": "2024-11-22T08:42:06.737925Z",
     "start_time": "2024-11-22T08:42:06.176277Z"
    },
    "deletable": false,
    "editable": false,
    "nbgrader": {
     "cell_type": "code",
     "checksum": "425fc259b1e678f51b14bc6d4e8a9fe3",
     "grade": true,
     "grade_id": "cell-9012c13c9eb644cf",
     "locked": true,
     "points": 1,
     "schema_version": 3,
     "solution": false,
     "task": false
    }
   },
   "outputs": [
    {
     "ename": "AssertionError",
     "evalue": "",
     "output_type": "error",
     "traceback": [
      "\u001b[1;31m---------------------------------------------------------------------------\u001b[0m",
      "\u001b[1;31mAssertionError\u001b[0m                            Traceback (most recent call last)",
      "Cell \u001b[1;32mIn[24], line 4\u001b[0m\n\u001b[0;32m      1\u001b[0m \u001b[38;5;66;03m# проверка того, что задание решено верно\u001b[39;00m\n\u001b[0;32m      2\u001b[0m \n\u001b[0;32m      3\u001b[0m \u001b[38;5;66;03m# другие подобные тесты скрыты от вас \u001b[39;00m\n\u001b[1;32m----> 4\u001b[0m \u001b[38;5;28;01massert\u001b[39;00m np\u001b[38;5;241m.\u001b[39mabs(obs \u001b[38;5;241m-\u001b[39m \u001b[38;5;241m3.5640741313229793\u001b[39m) \u001b[38;5;241m<\u001b[39m \u001b[38;5;241m1e-5\u001b[39m\n",
      "\u001b[1;31mAssertionError\u001b[0m: "
     ]
    }
   ],
   "source": [
    "# проверка того, что задание решено верно\n",
    "\n",
    "# другие подобные тесты скрыты от вас \n",
    "assert np.abs(obs - 3.5640741313229793) < 1e-5\n"
   ]
  },
  {
   "cell_type": "markdown",
   "metadata": {},
   "source": [
    "Снова президентом Никсон станет в $3000$ году. \n",
    "\n",
    "![](https://vignette.wikia.nocookie.net/futurama/images/2/2f/Richard_M._Nixon%27s_head.jpg/revision/latest/scale-to-width-down/250?cb=20131123190522&path-prefix=ru)"
   ]
  },
  {
   "cell_type": "markdown",
   "metadata": {},
   "source": [
    "## Задание 4 (сон)\n",
    "\n",
    "Проводится эксперимент о пользе нового снотворного. Для его проведения используется группа из $10$ студентов. В первый день каждый из них ложится спать. На утро измеряется, сколько он проспал. Из результата вычитают $8$ (нормальное число часов сна). На второй день каждому дают таблетку. Утром снова измеряют сколько человек проспал, и вычитают $8$. Результаты эксперимента записаны в табличку `sleep.csv`."
   ]
  },
  {
   "cell_type": "code",
   "execution_count": 26,
   "metadata": {
    "ExecuteTime": {
     "end_time": "2024-11-22T08:42:52.433698Z",
     "start_time": "2024-11-22T08:42:52.409117Z"
    }
   },
   "outputs": [
    {
     "name": "stdout",
     "output_type": "stream",
     "text": [
      "(20, 3)\n"
     ]
    },
    {
     "data": {
      "text/html": [
       "<div>\n",
       "<style scoped>\n",
       "    .dataframe tbody tr th:only-of-type {\n",
       "        vertical-align: middle;\n",
       "    }\n",
       "\n",
       "    .dataframe tbody tr th {\n",
       "        vertical-align: top;\n",
       "    }\n",
       "\n",
       "    .dataframe thead th {\n",
       "        text-align: right;\n",
       "    }\n",
       "</style>\n",
       "<table border=\"1\" class=\"dataframe\">\n",
       "  <thead>\n",
       "    <tr style=\"text-align: right;\">\n",
       "      <th></th>\n",
       "      <th>extra</th>\n",
       "      <th>group</th>\n",
       "      <th>ID</th>\n",
       "    </tr>\n",
       "  </thead>\n",
       "  <tbody>\n",
       "    <tr>\n",
       "      <th>0</th>\n",
       "      <td>0.7</td>\n",
       "      <td>1</td>\n",
       "      <td>1</td>\n",
       "    </tr>\n",
       "    <tr>\n",
       "      <th>1</th>\n",
       "      <td>-1.6</td>\n",
       "      <td>1</td>\n",
       "      <td>2</td>\n",
       "    </tr>\n",
       "    <tr>\n",
       "      <th>2</th>\n",
       "      <td>-0.2</td>\n",
       "      <td>1</td>\n",
       "      <td>3</td>\n",
       "    </tr>\n",
       "    <tr>\n",
       "      <th>3</th>\n",
       "      <td>-1.2</td>\n",
       "      <td>1</td>\n",
       "      <td>4</td>\n",
       "    </tr>\n",
       "    <tr>\n",
       "      <th>4</th>\n",
       "      <td>-0.1</td>\n",
       "      <td>1</td>\n",
       "      <td>5</td>\n",
       "    </tr>\n",
       "  </tbody>\n",
       "</table>\n",
       "</div>"
      ],
      "text/plain": [
       "   extra  group  ID\n",
       "0    0.7      1   1\n",
       "1   -1.6      1   2\n",
       "2   -0.2      1   3\n",
       "3   -1.2      1   4\n",
       "4   -0.1      1   5"
      ]
     },
     "execution_count": 26,
     "metadata": {},
     "output_type": "execute_result"
    }
   ],
   "source": [
    "df = pd.read_csv('sleep.csv')\n",
    "print(df.shape)\n",
    "df.head()"
   ]
  },
  {
   "cell_type": "markdown",
   "metadata": {},
   "source": [
    "Правда ли, что сон студентов до приёма снотворного не отличается от нормы (отклонение от 8 часов равно нулю). Проверьте эту гипотезу на $5\\%$ уровне значимости, в переменную `pval1` запишите p-значение. "
   ]
  },
  {
   "cell_type": "code",
   "execution_count": 29,
   "metadata": {
    "ExecuteTime": {
     "end_time": "2024-11-22T08:45:55.140910Z",
     "start_time": "2024-11-22T08:45:55.129288Z"
    }
   },
   "outputs": [
    {
     "data": {
      "text/plain": [
       "np.float64(0.75)"
      ]
     },
     "execution_count": 29,
     "metadata": {},
     "output_type": "execute_result"
    }
   ],
   "source": [
    "df[:10]['extra'].mean()"
   ]
  },
  {
   "cell_type": "code",
   "execution_count": 36,
   "metadata": {
    "ExecuteTime": {
     "end_time": "2024-11-22T08:57:50.648495Z",
     "start_time": "2024-11-22T08:57:50.627337Z"
    },
    "nbgrader": {
     "cell_type": "code",
     "checksum": "84c67f6747d67cca7633914c28107c96",
     "grade": false,
     "grade_id": "cell-c04ca7c5b2d46f59",
     "locked": false,
     "schema_version": 3,
     "solution": true,
     "task": false
    }
   },
   "outputs": [
    {
     "name": "stdout",
     "output_type": "stream",
     "text": [
      "1.3257101407138212 2.2621571628540993 0.10879889003422438\n"
     ]
    }
   ],
   "source": [
    "### ╰( ͡° ͜ʖ ͡° )つ▬▬ι═══════  bzzzzzzzzzz\n",
    "# will the code be with you\n",
    "do_mean = df[:10]['extra'].mean()\n",
    "do_var = df[:10]['extra'].var(ddof = 1)\n",
    "n = 10\n",
    "alpha = 0.05\n",
    "tobs1 = (do_mean - 0) /  np.sqrt(do_var / n)\n",
    "t_crit = stats.t.ppf(1 - (alpha / 2), n - 1)\n",
    "pval1 = 1 - stats.t.cdf(tobs1, n - 1)\n",
    "\n",
    "# your code here\n",
    "print(tobs1, t_crit, pval1)"
   ]
  },
  {
   "cell_type": "markdown",
   "metadata": {},
   "source": [
    "Правда ли, что благодаря таблеткам студенты стали спать больше (односторонняя альтернатива)? Запишите в переменную `pval2` соотвествующее p-значение. "
   ]
  },
  {
   "cell_type": "code",
   "execution_count": 54,
   "metadata": {
    "ExecuteTime": {
     "end_time": "2024-11-22T09:11:31.530953Z",
     "start_time": "2024-11-22T09:11:31.517951Z"
    }
   },
   "outputs": [
    {
     "name": "stdout",
     "output_type": "stream",
     "text": [
      "4.062127683382037 1.8331129326536333 0.0014164450986920984\n"
     ]
    }
   ],
   "source": [
    "n = 10\n",
    "alpha = 0.05\n",
    "diff = np.array(df[10:]['extra']) - np.array(df[:10]['extra'])\n",
    "aft_mean = diff.mean()\n",
    "aft_var = (1 / (n - 1)) * ((diff - aft_mean) ** 2).sum()\n",
    "tobs2 = (aft_mean - 0) /  np.sqrt(aft_var / n)\n",
    "t_crit2 = stats.t.ppf(1 - alpha, n - 1)\n",
    "pval2 = 1 - stats.t.cdf(tobs2, n - 1)\n",
    "print(tobs2, t_crit2, pval2)"
   ]
  },
  {
   "cell_type": "code",
   "execution_count": 55,
   "metadata": {
    "ExecuteTime": {
     "end_time": "2024-11-22T09:11:59.246717Z",
     "start_time": "2024-11-22T09:11:59.238723Z"
    },
    "deletable": false,
    "editable": false,
    "nbgrader": {
     "cell_type": "code",
     "checksum": "72bfc924a2bb01c46b9bf61fddb2620b",
     "grade": true,
     "grade_id": "cell-2167298693b77a31",
     "locked": true,
     "points": 1,
     "schema_version": 3,
     "solution": false,
     "task": false
    }
   },
   "outputs": [],
   "source": [
    "# проверка того, что задание решено верно\n",
    "assert np.abs(tobs1 - 1.325710) < 1e-5\n",
    "assert np.abs(tobs2 - 4.062127) < 1e-5\n",
    "\n",
    "# другие подобные тесты скрыты от вас "
   ]
  },
  {
   "cell_type": "markdown",
   "metadata": {},
   "source": [
    "## Задание 5 (say my name)\n",
    "\n",
    "__Люди всё время меня спрашивают, знает ли меня Барсик.__  Многие владельцы кошек уверены, что их питомцы могут понимать достаточно большое количество слов, а также узнавать собственное имя. Однако долгое время никто не пытался доказать это экспериментально. Разобраться с этой проблемой [решили учёные из Токийского университета.](https://nplus1.ru/news/2019/04/04/cat-name?utm_source=obrazovach&utm_medium=social&utm_campaign=yaponskie-uchenye-dokazali--chto-domashnie-k)\n",
    "\n",
    "Было проведено четыре эксперимента с участием домашних кошек и кошек из кошачьих кафе. Учёные использовали метод привыкания-отвыкания (habituation-dishabituation), который часто используется в экспериментах с участием маленьких детей. \n",
    "\n",
    "В соответствии с гипотезой, которая лежит в основе этого метода, определить реакцию на какой-либо стимул можно, представив его после схожих с ним стимулов. К примеру, для того, чтобы выяснить, может ли младенец узнать свое имя, ему представляют несколько слов подряд: с каждым новым словом его реакция снижается, но появление имени должно (в случае, если ребенок действительно узнает свое имя) ее вернуть. Этот же метод применили и к кошкам: реакция кошек на слова характеризовалась поворотом головы, движением ушей, вокализацией, движениями хвоста или перемещениями.\n",
    "\n",
    "В первом эксперименте исследователи проследили за реакцией кошек на собственное имя, произнесенное хозяином, после четырех существительных (16 кошек, живущих дома с двумя другими кошками или меньше). Данные об этом эксперименте находятся в табличке `cats_names.csv`. "
   ]
  },
  {
   "cell_type": "code",
   "execution_count": 56,
   "metadata": {
    "ExecuteTime": {
     "end_time": "2024-11-22T09:13:15.939707Z",
     "start_time": "2024-11-22T09:13:15.914151Z"
    }
   },
   "outputs": [
    {
     "data": {
      "text/html": [
       "<div>\n",
       "<style scoped>\n",
       "    .dataframe tbody tr th:only-of-type {\n",
       "        vertical-align: middle;\n",
       "    }\n",
       "\n",
       "    .dataframe tbody tr th {\n",
       "        vertical-align: top;\n",
       "    }\n",
       "\n",
       "    .dataframe thead th {\n",
       "        text-align: right;\n",
       "    }\n",
       "</style>\n",
       "<table border=\"1\" class=\"dataframe\">\n",
       "  <thead>\n",
       "    <tr style=\"text-align: right;\">\n",
       "      <th></th>\n",
       "      <th>name</th>\n",
       "      <th>stimuli</th>\n",
       "      <th>Ear moving</th>\n",
       "      <th>Head moving</th>\n",
       "      <th>Tail moving</th>\n",
       "      <th>Vocalising</th>\n",
       "      <th>Displacement</th>\n",
       "      <th>Total Score</th>\n",
       "    </tr>\n",
       "  </thead>\n",
       "  <tbody>\n",
       "    <tr>\n",
       "      <th>0</th>\n",
       "      <td>Cr</td>\n",
       "      <td>Noun 1</td>\n",
       "      <td>1</td>\n",
       "      <td>0</td>\n",
       "      <td>0</td>\n",
       "      <td>0</td>\n",
       "      <td>0</td>\n",
       "      <td>1</td>\n",
       "    </tr>\n",
       "    <tr>\n",
       "      <th>1</th>\n",
       "      <td>Cr</td>\n",
       "      <td>Noun 2</td>\n",
       "      <td>1</td>\n",
       "      <td>1</td>\n",
       "      <td>0</td>\n",
       "      <td>0</td>\n",
       "      <td>0</td>\n",
       "      <td>2</td>\n",
       "    </tr>\n",
       "    <tr>\n",
       "      <th>2</th>\n",
       "      <td>Cr</td>\n",
       "      <td>Noun 3</td>\n",
       "      <td>1</td>\n",
       "      <td>1</td>\n",
       "      <td>0</td>\n",
       "      <td>0</td>\n",
       "      <td>0</td>\n",
       "      <td>2</td>\n",
       "    </tr>\n",
       "    <tr>\n",
       "      <th>3</th>\n",
       "      <td>Cr</td>\n",
       "      <td>Noun 4</td>\n",
       "      <td>0</td>\n",
       "      <td>0</td>\n",
       "      <td>0</td>\n",
       "      <td>0</td>\n",
       "      <td>0</td>\n",
       "      <td>0</td>\n",
       "    </tr>\n",
       "    <tr>\n",
       "      <th>4</th>\n",
       "      <td>Cr</td>\n",
       "      <td>Test Cat's Name</td>\n",
       "      <td>1</td>\n",
       "      <td>0</td>\n",
       "      <td>0</td>\n",
       "      <td>0</td>\n",
       "      <td>0</td>\n",
       "      <td>1</td>\n",
       "    </tr>\n",
       "  </tbody>\n",
       "</table>\n",
       "</div>"
      ],
      "text/plain": [
       "  name          stimuli  Ear moving  Head moving  Tail moving  Vocalising  \\\n",
       "0   Cr           Noun 1           1            0            0           0   \n",
       "1   Cr           Noun 2           1            1            0           0   \n",
       "2   Cr           Noun 3           1            1            0           0   \n",
       "3   Cr           Noun 4           0            0            0           0   \n",
       "4   Cr  Test Cat's Name           1            0            0           0   \n",
       "\n",
       "   Displacement  Total Score  \n",
       "0             0            1  \n",
       "1             0            2  \n",
       "2             0            2  \n",
       "3             0            0  \n",
       "4             0            1  "
      ]
     },
     "execution_count": 56,
     "metadata": {},
     "output_type": "execute_result"
    }
   ],
   "source": [
    "df = pd.read_csv('cats_names.csv', sep='\\t')\n",
    "df.head()"
   ]
  },
  {
   "cell_type": "markdown",
   "metadata": {},
   "source": [
    "Будем проверять гипотезу о том, что кошки понимают своё имя с помощью упрощённой процедуры: \n",
    "\n",
    "- Вытащим из таблички все строчки, где экспериментаторы называли $4-$ое существительное. Они помечены в колонке `stimuli` как `Noun 4`. Если в колонке `Total Score` стоит положительное число, будем считать, что кошка среагировала на слово. В вектор `noun4` запишем единицу. В противном случае — ноль. \n",
    "- Вытащим по аналогии информацию о том, откликнулась ли кошка на своё имя (пометка `Test Cat's Name`) в колонке `stimuli`. Запишем её в вектор `name`.\n",
    "- Используем тест о равенстве пропорций для зависимых выборок, чтобы ответить на вопрос \"А правда ли кошка откликается на своё имя?\" В переменную `pval` запишем $p$-значение, полученное при проверке этой гипотезы. "
   ]
  },
  {
   "cell_type": "code",
   "execution_count": 67,
   "metadata": {
    "ExecuteTime": {
     "end_time": "2024-11-22T09:25:22.239221Z",
     "start_time": "2024-11-22T09:25:22.225557Z"
    }
   },
   "outputs": [],
   "source": [
    "df['Reaction'] = df['Total Score'].apply(lambda x: 1 if x > 0 else 0)"
   ]
  },
  {
   "cell_type": "code",
   "execution_count": 82,
   "metadata": {
    "ExecuteTime": {
     "end_time": "2024-11-22T09:31:55.698250Z",
     "start_time": "2024-11-22T09:31:55.686562Z"
    },
    "nbgrader": {
     "cell_type": "code",
     "checksum": "c019c2956f7e14de25568795f31f7dcc",
     "grade": false,
     "grade_id": "cell-4ab37a21e0f8a42c",
     "locked": false,
     "schema_version": 3,
     "solution": true,
     "task": false
    }
   },
   "outputs": [
    {
     "name": "stdout",
     "output_type": "stream",
     "text": [
      "1.7888543819998317 0.03681913506015133\n"
     ]
    }
   ],
   "source": [
    "### ╰( ͡° ͜ʖ ͡° )つ▬▬ι═══════  bzzzzzzzzzz\n",
    "# will the code be with you\n",
    "\n",
    "noun4 = df[df['stimuli'] == 'Noun 4']['Reaction'].values\n",
    "name = df[df['stimuli'] == \"Test Cat's Name\"]['Reaction'].values\n",
    "\n",
    "diff = name - noun4\n",
    "\n",
    "n = 16\n",
    "c = (diff == 1).sum()\n",
    "b = (diff == -1).sum()\n",
    "\n",
    "z_obs = (c - b) / np.sqrt(c + b - (c - b) ** 2 / n)\n",
    "pval = 1 - stats.norm.cdf(z_obs)\n",
    "\n",
    "# your code here\n",
    "print(z_obs, pval)"
   ]
  },
  {
   "cell_type": "code",
   "execution_count": 83,
   "metadata": {
    "ExecuteTime": {
     "end_time": "2024-11-22T09:31:59.231987Z",
     "start_time": "2024-11-22T09:31:59.217904Z"
    },
    "deletable": false,
    "editable": false,
    "nbgrader": {
     "cell_type": "code",
     "checksum": "017ca952bd4b618680f94b4eb603e091",
     "grade": true,
     "grade_id": "cell-473051ae67ddc9a6",
     "locked": true,
     "points": 1,
     "schema_version": 3,
     "solution": false,
     "task": false
    }
   },
   "outputs": [],
   "source": [
    "# проверка того, что задание решено верно\n",
    "assert sum(name) == 14\n",
    "assert np.abs(z_obs - 1.7888543819998317) < 1e-5\n",
    "\n",
    "# другие подобные тесты скрыты от вас "
   ]
  },
  {
   "cell_type": "markdown",
   "metadata": {},
   "source": [
    "Выводы учёных могут отличаться от наших. Результат проверки гипотезы зависит от многих внешних факторов. Например, от громкости произнесённого кошачьего имени. Все такие факторы надо как-то изолировать.\n",
    "\n",
    "[В оригинальном исследовании](https://www.nature.com/articles/s41598-019-40616-4) учёные реализовывали более сложные статистические процедуры. Они пытались проконтролировать все внешние факторы, которые могли бы повлиять на результаты эксперимента. О том, как это можно делать, мы с вами поговорим в будущем. \n",
    "\n",
    "![](https://cdn.nplus1.ru/images/2019/04/04/47a222337ec0984bcec1644f12b4c328.gif)"
   ]
  },
  {
   "cell_type": "markdown",
   "metadata": {},
   "source": [
    "## Задание 6\n",
    "\n",
    "Лекции по матану на экономическом факультете читают два преподавателя: Злой и Добрый. Каждый год они чередуются. Среди студентов ходит слух, что в год, когда преподаёт Злой, отчисляют куда больше народу. В таблице `matan.csv` лежит информация по $418$ студентам экономического факультета. \n",
    "\n",
    "В столбце `is_angry` стоит единица, если этому студенту преподавал Злой. В столбце `target_1` стоит единица, если человек закончил первый курс. Проверьте гипотезу о том, что Злой отчисляет больше народу. В переменную `pval` запишите $p$-значение, получившееся при проверке гипотезы. "
   ]
  },
  {
   "cell_type": "code",
   "execution_count": 98,
   "metadata": {
    "ExecuteTime": {
     "end_time": "2024-11-22T09:42:43.399683Z",
     "start_time": "2024-11-22T09:42:43.386480Z"
    }
   },
   "outputs": [
    {
     "data": {
      "text/html": [
       "<div>\n",
       "<style scoped>\n",
       "    .dataframe tbody tr th:only-of-type {\n",
       "        vertical-align: middle;\n",
       "    }\n",
       "\n",
       "    .dataframe tbody tr th {\n",
       "        vertical-align: top;\n",
       "    }\n",
       "\n",
       "    .dataframe thead th {\n",
       "        text-align: right;\n",
       "    }\n",
       "</style>\n",
       "<table border=\"1\" class=\"dataframe\">\n",
       "  <thead>\n",
       "    <tr style=\"text-align: right;\">\n",
       "      <th></th>\n",
       "      <th>is_angry</th>\n",
       "      <th>target_1</th>\n",
       "    </tr>\n",
       "  </thead>\n",
       "  <tbody>\n",
       "    <tr>\n",
       "      <th>0</th>\n",
       "      <td>0</td>\n",
       "      <td>1.0</td>\n",
       "    </tr>\n",
       "    <tr>\n",
       "      <th>1</th>\n",
       "      <td>0</td>\n",
       "      <td>1.0</td>\n",
       "    </tr>\n",
       "    <tr>\n",
       "      <th>2</th>\n",
       "      <td>0</td>\n",
       "      <td>1.0</td>\n",
       "    </tr>\n",
       "    <tr>\n",
       "      <th>3</th>\n",
       "      <td>0</td>\n",
       "      <td>0.0</td>\n",
       "    </tr>\n",
       "    <tr>\n",
       "      <th>4</th>\n",
       "      <td>0</td>\n",
       "      <td>1.0</td>\n",
       "    </tr>\n",
       "  </tbody>\n",
       "</table>\n",
       "</div>"
      ],
      "text/plain": [
       "   is_angry  target_1\n",
       "0         0       1.0\n",
       "1         0       1.0\n",
       "2         0       1.0\n",
       "3         0       0.0\n",
       "4         0       1.0"
      ]
     },
     "execution_count": 98,
     "metadata": {},
     "output_type": "execute_result"
    }
   ],
   "source": [
    "df = pd.read_csv('matan.csv', sep='\\t')\n",
    "df.head()"
   ]
  },
  {
   "cell_type": "code",
   "execution_count": 99,
   "metadata": {
    "ExecuteTime": {
     "end_time": "2024-11-22T09:42:45.920863Z",
     "start_time": "2024-11-22T09:42:45.903883Z"
    }
   },
   "outputs": [
    {
     "name": "stdout",
     "output_type": "stream",
     "text": [
      "210 208\n"
     ]
    }
   ],
   "source": [
    "n_zloy = df[df['is_angry'] == 1]['is_angry'].count()\n",
    "n_dobriy = df[df['is_angry'] == 0]['is_angry'].count()\n",
    "print(n_zloy, n_dobriy)"
   ]
  },
  {
   "cell_type": "code",
   "execution_count": 100,
   "metadata": {
    "ExecuteTime": {
     "end_time": "2024-11-22T09:42:47.663701Z",
     "start_time": "2024-11-22T09:42:47.645652Z"
    }
   },
   "outputs": [
    {
     "data": {
      "text/plain": [
       "np.float64(0.2729885057471264)"
      ]
     },
     "execution_count": 100,
     "metadata": {},
     "output_type": "execute_result"
    }
   ],
   "source": [
    "p = 1 - df['target_1'].mean()\n",
    "p"
   ]
  },
  {
   "cell_type": "code",
   "execution_count": 101,
   "metadata": {
    "ExecuteTime": {
     "end_time": "2024-11-22T09:42:48.931364Z",
     "start_time": "2024-11-22T09:42:48.914728Z"
    }
   },
   "outputs": [
    {
     "name": "stdout",
     "output_type": "stream",
     "text": [
      "0.26428571428571423 0.27884615384615385\n"
     ]
    }
   ],
   "source": [
    "p_zloy = 1 - df[df['is_angry'] == 1]['target_1'].mean()\n",
    "p_dobriy = 1 - df[df['is_angry'] == 0]['target_1'].mean()\n",
    "print(p_zloy, p_dobriy)"
   ]
  },
  {
   "cell_type": "code",
   "execution_count": 106,
   "metadata": {
    "ExecuteTime": {
     "end_time": "2024-11-22T09:48:59.119927Z",
     "start_time": "2024-11-22T09:48:59.105836Z"
    }
   },
   "outputs": [
    {
     "data": {
      "text/plain": [
       "np.float64(-0.33410643519489114)"
      ]
     },
     "execution_count": 106,
     "metadata": {},
     "output_type": "execute_result"
    }
   ],
   "source": [
    "z_obs = (p_zloy - p_dobriy) / np.sqrt(p * (1 - p) * (1 / n_zloy + 1 / n_dobriy))\n",
    "z_obs"
   ]
  },
  {
   "cell_type": "code",
   "execution_count": 107,
   "metadata": {
    "ExecuteTime": {
     "end_time": "2024-11-22T09:49:00.388507Z",
     "start_time": "2024-11-22T09:49:00.370312Z"
    }
   },
   "outputs": [
    {
     "data": {
      "text/plain": [
       "np.float64(0.6308503778754487)"
      ]
     },
     "execution_count": 107,
     "metadata": {},
     "output_type": "execute_result"
    }
   ],
   "source": [
    "pval = 1 - stats.norm.cdf(z_obs)\n",
    "pval"
   ]
  },
  {
   "cell_type": "code",
   "execution_count": 108,
   "metadata": {
    "ExecuteTime": {
     "end_time": "2024-11-22T09:49:03.133801Z",
     "start_time": "2024-11-22T09:49:03.098013Z"
    },
    "deletable": false,
    "editable": false,
    "nbgrader": {
     "cell_type": "code",
     "checksum": "056a15214049be745202f8fcdb082a37",
     "grade": true,
     "grade_id": "cell-1ddb2c839f78df02",
     "locked": true,
     "points": 1,
     "schema_version": 3,
     "solution": false,
     "task": false
    }
   },
   "outputs": [
    {
     "ename": "AssertionError",
     "evalue": "",
     "output_type": "error",
     "traceback": [
      "\u001b[1;31m---------------------------------------------------------------------------\u001b[0m",
      "\u001b[1;31mAssertionError\u001b[0m                            Traceback (most recent call last)",
      "Cell \u001b[1;32mIn[108], line 2\u001b[0m\n\u001b[0;32m      1\u001b[0m \u001b[38;5;66;03m# проверка того, что задание решено верно\u001b[39;00m\n\u001b[1;32m----> 2\u001b[0m \u001b[38;5;28;01massert\u001b[39;00m np\u001b[38;5;241m.\u001b[39mabs(np\u001b[38;5;241m.\u001b[39mabs(z_obs) \u001b[38;5;241m-\u001b[39m \u001b[38;5;241m0.29897\u001b[39m)  \u001b[38;5;241m<\u001b[39m \u001b[38;5;241m1e-5\u001b[39m\n\u001b[0;32m      4\u001b[0m \u001b[38;5;66;03m# другие подобные тесты скрыты от вас \u001b[39;00m\n",
      "\u001b[1;31mAssertionError\u001b[0m: "
     ]
    }
   ],
   "source": [
    "# проверка того, что задание решено верно\n",
    "assert np.abs(np.abs(z_obs) - 0.29897)  < 1e-5\n",
    "\n",
    "# другие подобные тесты скрыты от вас "
   ]
  },
  {
   "cell_type": "markdown",
   "metadata": {},
   "source": [
    "## Задание 7\n",
    "\n",
    "Вася решил проверить известное утверждение о том, что бутерброд падает маслом вниз. Для этого он провёл серию из $200$ испытаний. Бутерброд упал маслом вниз $105$ раз. Маслом вверх $95$ раз. Можно ли утверждать, что бутерброд падает маслом вниз так же часто, как и маслом вверх на уровне значимости $5\\%$? В качестве ответа сохраните в `pval` $p$-значение. \n",
    "\n",
    "__Примечание:__ для поиска дисперсии используйте смещённый вариант. Либо по формуле $\\frac{p\\cdot(1-p)}{n}$ либо с помощью `std(ddof=0)`. При поиске `pval` обратите внимание, что алтернатива двусторонняя. А ещё [прочитайте историю](https://absentis.livejournal.com/27153.html) про то, почему Коперник мазал бутеры маслом. "
   ]
  },
  {
   "cell_type": "code",
   "execution_count": 120,
   "metadata": {
    "ExecuteTime": {
     "end_time": "2024-11-22T10:03:04.222118Z",
     "start_time": "2024-11-22T10:03:04.211131Z"
    }
   },
   "outputs": [
    {
     "name": "stdout",
     "output_type": "stream",
     "text": [
      "[0. 0. 0. 0. 0. 0. 0. 0. 0. 0. 0. 0. 0. 0. 0. 0. 0. 0. 0. 0. 0. 0. 0. 0.\n",
      " 0. 0. 0. 0. 0. 0. 0. 0. 0. 0. 0. 0. 0. 0. 0. 0. 0. 0. 0. 0. 0. 0. 0. 0.\n",
      " 0. 0. 0. 0. 0. 0. 0. 0. 0. 0. 0. 0. 0. 0. 0. 0. 0. 0. 0. 0. 0. 0. 0. 0.\n",
      " 0. 0. 0. 0. 0. 0. 0. 0. 0. 0. 0. 0. 0. 0. 0. 0. 0. 0. 0. 0. 0. 0. 0.]\n",
      "[1. 1. 1. 1. 1. 1. 1. 1. 1. 1. 1. 1. 1. 1. 1. 1. 1. 1. 1. 1. 1. 1. 1. 1.\n",
      " 1. 1. 1. 1. 1. 1. 1. 1. 1. 1. 1. 1. 1. 1. 1. 1. 1. 1. 1. 1. 1. 1. 1. 1.\n",
      " 1. 1. 1. 1. 1. 1. 1. 1. 1. 1. 1. 1. 1. 1. 1. 1. 1. 1. 1. 1. 1. 1. 1. 1.\n",
      " 1. 1. 1. 1. 1. 1. 1. 1. 1. 1. 1. 1. 1. 1. 1. 1. 1. 1. 1. 1. 1. 1. 1. 1.\n",
      " 1. 1. 1. 1. 1. 1. 1. 1. 1.]\n",
      "[0. 0. 0. 0. 0. 0. 0. 0. 0. 0. 0. 0. 0. 0. 0. 0. 0. 0. 0. 0. 0. 0. 0. 0.\n",
      " 0. 0. 0. 0. 0. 0. 0. 0. 0. 0. 0. 0. 0. 0. 0. 0. 0. 0. 0. 0. 0. 0. 0. 0.\n",
      " 0. 0. 0. 0. 0. 0. 0. 0. 0. 0. 0. 0. 0. 0. 0. 0. 0. 0. 0. 0. 0. 0. 0. 0.\n",
      " 0. 0. 0. 0. 0. 0. 0. 0. 0. 0. 0. 0. 0. 0. 0. 0. 0. 0. 0. 0. 0. 0. 0. 1.\n",
      " 1. 1. 1. 1. 1. 1. 1. 1. 1. 1. 1. 1. 1. 1. 1. 1. 1. 1. 1. 1. 1. 1. 1. 1.\n",
      " 1. 1. 1. 1. 1. 1. 1. 1. 1. 1. 1. 1. 1. 1. 1. 1. 1. 1. 1. 1. 1. 1. 1. 1.\n",
      " 1. 1. 1. 1. 1. 1. 1. 1. 1. 1. 1. 1. 1. 1. 1. 1. 1. 1. 1. 1. 1. 1. 1. 1.\n",
      " 1. 1. 1. 1. 1. 1. 1. 1. 1. 1. 1. 1. 1. 1. 1. 1. 1. 1. 1. 1. 1. 1. 1. 1.\n",
      " 1. 1. 1. 1. 1. 1. 1. 1.]\n"
     ]
    }
   ],
   "source": [
    "print(a1)\n",
    "print(a2)\n",
    "print(x)"
   ]
  },
  {
   "cell_type": "code",
   "execution_count": 124,
   "metadata": {
    "ExecuteTime": {
     "end_time": "2024-11-22T10:05:32.952869Z",
     "start_time": "2024-11-22T10:05:32.943598Z"
    },
    "nbgrader": {
     "cell_type": "code",
     "checksum": "32402f85ea10dfa3f248e44f703663e5",
     "grade": false,
     "grade_id": "cell-db59ee9982bc3985",
     "locked": false,
     "schema_version": 3,
     "solution": true,
     "task": false
    }
   },
   "outputs": [
    {
     "name": "stdout",
     "output_type": "stream",
     "text": [
      "0.035311117229563836 0.4993746088859544\n",
      "-0.7079923254047893 1.959963984540054 0.239475011710179\n"
     ]
    }
   ],
   "source": [
    "### ╰( ͡° ͜ʖ ͡° )つ▬▬ι═══════  bzzzzzzzzzz\n",
    "# will the code be with you\n",
    "n = 200\n",
    "m = 105\n",
    "p = m / n\n",
    "p_obs = 0.5 \n",
    "alpha = 0.05\n",
    "a1 = np.zeros(95)\n",
    "a2 = np.ones(105)\n",
    "x = np.concatenate([a1, a2])\n",
    "z_obs = (p_obs - p) / np.sqrt((p * (1 - p)) / n)\n",
    "pval = stats.norm.cdf(z_obs)\n",
    "z_crit = stats.norm.ppf(1 - alpha / 2)\n",
    "\n",
    "# your code here\n",
    "print(np.sqrt(p * (1 - p) / n), x.std(ddof=0))\n",
    "print(z_obs, z_crit, pval)"
   ]
  },
  {
   "cell_type": "code",
   "execution_count": 126,
   "metadata": {
    "ExecuteTime": {
     "end_time": "2024-11-22T10:05:41.207973Z",
     "start_time": "2024-11-22T10:05:41.173244Z"
    },
    "deletable": false,
    "editable": false,
    "nbgrader": {
     "cell_type": "code",
     "checksum": "6afd2f5b522bf443507836a8f3bb9378",
     "grade": true,
     "grade_id": "cell-0e69143702359946",
     "locked": true,
     "points": 1,
     "schema_version": 3,
     "solution": false,
     "task": false
    }
   },
   "outputs": [
    {
     "ename": "AssertionError",
     "evalue": "",
     "output_type": "error",
     "traceback": [
      "\u001b[1;31m---------------------------------------------------------------------------\u001b[0m",
      "\u001b[1;31mAssertionError\u001b[0m                            Traceback (most recent call last)",
      "Cell \u001b[1;32mIn[126], line 2\u001b[0m\n\u001b[0;32m      1\u001b[0m \u001b[38;5;66;03m# проверка того, что задание решено верно\u001b[39;00m\n\u001b[1;32m----> 2\u001b[0m \u001b[38;5;28;01massert\u001b[39;00m np\u001b[38;5;241m.\u001b[39mabs(z_obs \u001b[38;5;241m-\u001b[39m \u001b[38;5;241m0.70799\u001b[39m) \u001b[38;5;241m<\u001b[39m \u001b[38;5;241m1e-5\u001b[39m\n\u001b[0;32m      4\u001b[0m \u001b[38;5;66;03m# другие подобные тесты скрыты от вас \u001b[39;00m\n",
      "\u001b[1;31mAssertionError\u001b[0m: "
     ]
    }
   ],
   "source": [
    "# проверка того, что задание решено верно\n",
    "assert np.abs(z_obs - 0.70799) < 1e-5\n",
    "\n",
    "# другие подобные тесты скрыты от вас "
   ]
  },
  {
   "cell_type": "markdown",
   "metadata": {},
   "source": [
    "<img src=\"https://raw.githubusercontent.com/FUlyankin/r_probability/master/end_seminars/sem_6/student_teacher_dist.png\" height=\"300\" width=\"600\"> "
   ]
  },
  {
   "cell_type": "markdown",
   "metadata": {},
   "source": [
    "  "
   ]
  }
 ],
 "metadata": {
  "kernelspec": {
   "display_name": "Python 3 (ipykernel)",
   "language": "python",
   "name": "python3"
  },
  "language_info": {
   "codemirror_mode": {
    "name": "ipython",
    "version": 3
   },
   "file_extension": ".py",
   "mimetype": "text/x-python",
   "name": "python",
   "nbconvert_exporter": "python",
   "pygments_lexer": "ipython3",
   "version": "3.9.5"
  },
  "toc": {
   "base_numbering": 1,
   "nav_menu": {},
   "number_sections": true,
   "sideBar": true,
   "skip_h1_title": false,
   "title_cell": "Table of Contents",
   "title_sidebar": "Contents",
   "toc_cell": false,
   "toc_position": {},
   "toc_section_display": true,
   "toc_window_display": false
  }
 },
 "nbformat": 4,
 "nbformat_minor": 2
}
