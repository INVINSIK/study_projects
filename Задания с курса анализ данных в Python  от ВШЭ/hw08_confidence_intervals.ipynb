{
 "cells": [
  {
   "cell_type": "markdown",
   "metadata": {
    "deletable": false,
    "editable": false,
    "nbgrader": {
     "cell_type": "markdown",
     "checksum": "20ca45b9bff14c61f7d0657a66e96b88",
     "grade": false,
     "grade_id": "cell-3602347a0b182c2e",
     "locked": true,
     "schema_version": 3,
     "solution": false,
     "task": false
    }
   },
   "source": [
    "<center>\n",
    "<img src=\"logo.png\" height=\"900\"> \n",
    "</center>\n",
    "\n",
    "\n",
    "# Контрольная работа :)"
   ]
  },
  {
   "cell_type": "code",
   "execution_count": 1,
   "metadata": {
    "ExecuteTime": {
     "end_time": "2024-11-12T09:53:16.375413Z",
     "start_time": "2024-11-12T09:53:08.794395Z"
    }
   },
   "outputs": [],
   "source": [
    "import numpy as np\n",
    "import pandas as pd\n",
    "\n",
    "from scipy import stats\n",
    "\n",
    "import seaborn as sns\n",
    "import matplotlib.pyplot as plt\n",
    "\n",
    "plt.style.use('ggplot') # стиль для графиков\n",
    "%matplotlib inline"
   ]
  },
  {
   "cell_type": "markdown",
   "metadata": {
    "deletable": false,
    "editable": false,
    "nbgrader": {
     "cell_type": "markdown",
     "checksum": "43f7f429f44d154d6c72b7b236254c08",
     "grade": false,
     "grade_id": "cell-be89eebcb2f6ec8c",
     "locked": true,
     "schema_version": 3,
     "solution": false,
     "task": false
    }
   },
   "source": [
    "В файле `cr.csv` лежат результаты контрольной работы, которая проводилась в Вышке на факультете \"Э\".  По мнению студентов эти оценки смещённые, несостоятельные и ужасно неэффективные. Но это уже совершенно другая история. Подгрузим файлик и посмотрим на него!  "
   ]
  },
  {
   "cell_type": "code",
   "execution_count": 140,
   "metadata": {
    "ExecuteTime": {
     "end_time": "2024-11-12T11:11:43.034456Z",
     "start_time": "2024-11-12T11:11:42.938652Z"
    }
   },
   "outputs": [
    {
     "name": "stdout",
     "output_type": "stream",
     "text": [
      "(389, 20)\n"
     ]
    },
    {
     "data": {
      "text/html": [
       "<div>\n",
       "<style scoped>\n",
       "    .dataframe tbody tr th:only-of-type {\n",
       "        vertical-align: middle;\n",
       "    }\n",
       "\n",
       "    .dataframe tbody tr th {\n",
       "        vertical-align: top;\n",
       "    }\n",
       "\n",
       "    .dataframe thead th {\n",
       "        text-align: right;\n",
       "    }\n",
       "</style>\n",
       "<table border=\"1\" class=\"dataframe\">\n",
       "  <thead>\n",
       "    <tr style=\"text-align: right;\">\n",
       "      <th></th>\n",
       "      <th>contest_login</th>\n",
       "      <th>fraud</th>\n",
       "      <th>k1a</th>\n",
       "      <th>k1b</th>\n",
       "      <th>k1c</th>\n",
       "      <th>k1d</th>\n",
       "      <th>k1e</th>\n",
       "      <th>k1f</th>\n",
       "      <th>k1</th>\n",
       "      <th>k2a</th>\n",
       "      <th>k2b</th>\n",
       "      <th>k2c</th>\n",
       "      <th>k2d</th>\n",
       "      <th>k2e</th>\n",
       "      <th>k2f</th>\n",
       "      <th>k2</th>\n",
       "      <th>k3a</th>\n",
       "      <th>k3b</th>\n",
       "      <th>k3c</th>\n",
       "      <th>k3</th>\n",
       "    </tr>\n",
       "  </thead>\n",
       "  <tbody>\n",
       "    <tr>\n",
       "      <th>0</th>\n",
       "      <td>eds_python_2020_1</td>\n",
       "      <td>0.0</td>\n",
       "      <td>10.0</td>\n",
       "      <td>10.0</td>\n",
       "      <td>20.0</td>\n",
       "      <td>30.0</td>\n",
       "      <td>4.0</td>\n",
       "      <td>22.0</td>\n",
       "      <td>10.1</td>\n",
       "      <td>20.0</td>\n",
       "      <td>10.0</td>\n",
       "      <td>20.0</td>\n",
       "      <td>20.0</td>\n",
       "      <td>20.0</td>\n",
       "      <td>20.0</td>\n",
       "      <td>11.0</td>\n",
       "      <td>35.0</td>\n",
       "      <td>0.0</td>\n",
       "      <td>27.0</td>\n",
       "      <td>6.2</td>\n",
       "    </tr>\n",
       "    <tr>\n",
       "      <th>1</th>\n",
       "      <td>eds_python_2020_2</td>\n",
       "      <td>1.0</td>\n",
       "      <td>9.0</td>\n",
       "      <td>10.0</td>\n",
       "      <td>20.0</td>\n",
       "      <td>NaN</td>\n",
       "      <td>16.0</td>\n",
       "      <td>12.0</td>\n",
       "      <td>6.7</td>\n",
       "      <td>NaN</td>\n",
       "      <td>5.0</td>\n",
       "      <td>NaN</td>\n",
       "      <td>20.0</td>\n",
       "      <td>20.0</td>\n",
       "      <td>20.0</td>\n",
       "      <td>6.5</td>\n",
       "      <td>35.0</td>\n",
       "      <td>29.0</td>\n",
       "      <td>22.0</td>\n",
       "      <td>8.6</td>\n",
       "    </tr>\n",
       "    <tr>\n",
       "      <th>2</th>\n",
       "      <td>eds_python_2020_3</td>\n",
       "      <td>0.0</td>\n",
       "      <td>2.0</td>\n",
       "      <td>10.0</td>\n",
       "      <td>20.0</td>\n",
       "      <td>NaN</td>\n",
       "      <td>20.0</td>\n",
       "      <td>30.0</td>\n",
       "      <td>8.2</td>\n",
       "      <td>20.0</td>\n",
       "      <td>5.0</td>\n",
       "      <td>NaN</td>\n",
       "      <td>20.0</td>\n",
       "      <td>20.0</td>\n",
       "      <td>20.0</td>\n",
       "      <td>8.5</td>\n",
       "      <td>28.0</td>\n",
       "      <td>2.0</td>\n",
       "      <td>0.0</td>\n",
       "      <td>3.0</td>\n",
       "    </tr>\n",
       "    <tr>\n",
       "      <th>3</th>\n",
       "      <td>eds_python_2020_4</td>\n",
       "      <td>1.0</td>\n",
       "      <td>10.0</td>\n",
       "      <td>10.0</td>\n",
       "      <td>20.0</td>\n",
       "      <td>NaN</td>\n",
       "      <td>16.0</td>\n",
       "      <td>14.0</td>\n",
       "      <td>7.0</td>\n",
       "      <td>20.0</td>\n",
       "      <td>10.0</td>\n",
       "      <td>NaN</td>\n",
       "      <td>20.0</td>\n",
       "      <td>20.0</td>\n",
       "      <td>20.0</td>\n",
       "      <td>9.0</td>\n",
       "      <td>30.0</td>\n",
       "      <td>38.0</td>\n",
       "      <td>0.0</td>\n",
       "      <td>6.8</td>\n",
       "    </tr>\n",
       "    <tr>\n",
       "      <th>4</th>\n",
       "      <td>eds_python_2020_5</td>\n",
       "      <td>2.0</td>\n",
       "      <td>10.0</td>\n",
       "      <td>10.0</td>\n",
       "      <td>12.0</td>\n",
       "      <td>0.0</td>\n",
       "      <td>16.0</td>\n",
       "      <td>22.0</td>\n",
       "      <td>7.0</td>\n",
       "      <td>20.0</td>\n",
       "      <td>10.0</td>\n",
       "      <td>NaN</td>\n",
       "      <td>20.0</td>\n",
       "      <td>20.0</td>\n",
       "      <td>20.0</td>\n",
       "      <td>9.0</td>\n",
       "      <td>0.0</td>\n",
       "      <td>0.0</td>\n",
       "      <td>0.0</td>\n",
       "      <td>0.0</td>\n",
       "    </tr>\n",
       "  </tbody>\n",
       "</table>\n",
       "</div>"
      ],
      "text/plain": [
       "       contest_login  fraud   k1a   k1b   k1c   k1d   k1e   k1f    k1   k2a  \\\n",
       "0  eds_python_2020_1    0.0  10.0  10.0  20.0  30.0   4.0  22.0  10.1  20.0   \n",
       "1  eds_python_2020_2    1.0   9.0  10.0  20.0   NaN  16.0  12.0   6.7   NaN   \n",
       "2  eds_python_2020_3    0.0   2.0  10.0  20.0   NaN  20.0  30.0   8.2  20.0   \n",
       "3  eds_python_2020_4    1.0  10.0  10.0  20.0   NaN  16.0  14.0   7.0  20.0   \n",
       "4  eds_python_2020_5    2.0  10.0  10.0  12.0   0.0  16.0  22.0   7.0  20.0   \n",
       "\n",
       "    k2b   k2c   k2d   k2e   k2f    k2   k3a   k3b   k3c   k3  \n",
       "0  10.0  20.0  20.0  20.0  20.0  11.0  35.0   0.0  27.0  6.2  \n",
       "1   5.0   NaN  20.0  20.0  20.0   6.5  35.0  29.0  22.0  8.6  \n",
       "2   5.0   NaN  20.0  20.0  20.0   8.5  28.0   2.0   0.0  3.0  \n",
       "3  10.0   NaN  20.0  20.0  20.0   9.0  30.0  38.0   0.0  6.8  \n",
       "4  10.0   NaN  20.0  20.0  20.0   9.0   0.0   0.0   0.0  0.0  "
      ]
     },
     "execution_count": 140,
     "metadata": {},
     "output_type": "execute_result"
    }
   ],
   "source": [
    "df = pd.read_csv('cr.csv', sep='\\t')\n",
    "print(df.shape)\n",
    "df.head()"
   ]
  },
  {
   "cell_type": "code",
   "execution_count": 3,
   "metadata": {
    "ExecuteTime": {
     "end_time": "2024-11-12T09:53:16.468417Z",
     "start_time": "2024-11-12T09:53:16.457421Z"
    }
   },
   "outputs": [
    {
     "data": {
      "text/plain": [
       "np.int64(0)"
      ]
     },
     "execution_count": 3,
     "metadata": {},
     "output_type": "execute_result"
    }
   ],
   "source": [
    "df.k1.isna().sum()"
   ]
  },
  {
   "cell_type": "markdown",
   "metadata": {
    "deletable": false,
    "editable": false,
    "nbgrader": {
     "cell_type": "markdown",
     "checksum": "a6395cc2bcb2b3158b507c44ba141615",
     "grade": false,
     "grade_id": "cell-0fa267ffee2624a4",
     "locked": true,
     "schema_version": 3,
     "solution": false,
     "task": false
    }
   },
   "source": [
    "__Описание колонок:__\n",
    "\n",
    "\n",
    "* `contest_login` - уникальный идентификатор студента\n",
    "* `fraud` - в списывании скольки задач был уличён студент \n",
    "* `k1` - результат за первую контрольную, `k1a - k1f` в разбивке по задачам\n",
    "* `k2` - результат за вторую контрольную, `k2a - k2f` в разбивке по задачам\n",
    "* `k3` - результат за третью контрольную, `k3a - k3с` в разбивке по задачам"
   ]
  },
  {
   "cell_type": "markdown",
   "metadata": {
    "deletable": false,
    "editable": false,
    "nbgrader": {
     "cell_type": "markdown",
     "checksum": "a609f2701de2c58fb402623ada75f2d6",
     "grade": false,
     "grade_id": "cell-12cb86d2c52c88ee",
     "locked": true,
     "schema_version": 3,
     "solution": false,
     "task": false
    }
   },
   "source": [
    "__а) Распределение результатов контрольной__ \n",
    "\n",
    "- Запишите все оценки за первую контрольную в переменную `x`, все пропуски удалите\n",
    "- Найдите среднее и стандартное отклонение (используйте несмещённую оценку) \n",
    "- Постройте гистограмму результатов за первую контрольную \n",
    "- На этой же картинке постройте плотность нормального распределения со средним и стандартным отклонением, посчитанными выше\n",
    "\n",
    "Похоже ли эмпирическое распределение на нормальное? "
   ]
  },
  {
   "cell_type": "code",
   "execution_count": 4,
   "metadata": {
    "ExecuteTime": {
     "end_time": "2024-11-12T09:53:16.730926Z",
     "start_time": "2024-11-12T09:53:16.470415Z"
    },
    "nbgrader": {
     "cell_type": "code",
     "checksum": "04205b8269710e3852ef0ef2ec0c8bd5",
     "grade": false,
     "grade_id": "cell-4caa86c30a9f3dab",
     "locked": false,
     "schema_version": 3,
     "solution": true,
     "task": false
    }
   },
   "outputs": [
    {
     "name": "stdout",
     "output_type": "stream",
     "text": [
      "5.4478149100257065 10.007037738849283\n"
     ]
    },
    {
     "data": {
      "image/png": "[encoded data removed]",
      "text/plain": [
       "<Figure size 640x480 with 1 Axes>"
      ]
     },
     "metadata": {},
     "output_type": "display_data"
    }
   ],
   "source": [
    "### ╰( ͡° ͜ʖ ͡° )つ▬▬ι═══════  bzzzzzzzzzz\n",
    "# will the code be with you\n",
    "\n",
    "x = df['k1']\n",
    "\n",
    "x_mean = x.mean()\n",
    "x_var = x.var(ddof=1)\n",
    "x_std = x.std(ddof=1)\n",
    "print(x_mean, x_var)\n",
    "\n",
    "x.hist(bins=20,density=True)\n",
    "# your code here\n",
    "xs = np.linspace(0, 12, 300)\n",
    "ys = stats.norm(loc=x_mean, scale=x_std).pdf(xs)\n",
    "plt.plot(xs, ys, color=\"black\");"
   ]
  },
  {
   "cell_type": "code",
   "execution_count": 5,
   "metadata": {
    "ExecuteTime": {
     "end_time": "2024-11-12T09:53:16.745932Z",
     "start_time": "2024-11-12T09:53:16.733923Z"
    },
    "deletable": false,
    "editable": false,
    "nbgrader": {
     "cell_type": "code",
     "checksum": "3ff1917b94e62866efaa8363e004bf67",
     "grade": true,
     "grade_id": "cell-188c6da24aeaf801",
     "locked": true,
     "points": 1,
     "schema_version": 3,
     "solution": false,
     "task": false
    }
   },
   "outputs": [],
   "source": [
    "# проверка, что среднее и стандартное откланение посчитаны корректно\n",
    "assert np.abs(x_mean - 5.4478149100) < 1e-5\n",
    "\n",
    "# похожие тесты на другие части задания скрыты от вас\n"
   ]
  },
  {
   "cell_type": "markdown",
   "metadata": {
    "deletable": false,
    "editable": false,
    "nbgrader": {
     "cell_type": "markdown",
     "checksum": "0eb5d3cee661fe63afa59b5828a76ebe",
     "grade": false,
     "grade_id": "cell-3ae3a6b4603b4e78",
     "locked": true,
     "schema_version": 3,
     "solution": false,
     "task": false
    }
   },
   "source": [
    "По аналогии с тем, как это было сделано на лекции, проверьте с помощью теста Колмогорова-Смирнова гипотезу о нормальности: \n",
    "\n",
    "- Используйте функцию `kstest` из пакета `scipy`\n",
    "- С помощью `.pvalue` вытащите из результатов теста p-значение, запишите его в переменную `pvalue`\n",
    "- По аналогии запишите в `K` значение статистики Колмогорова\n",
    "- Если p-значение оказалось больше $0.05$, гипотеза о нормальности данных не отвергается, и мы можем дальше использовать эту предпосылку"
   ]
  },
  {
   "cell_type": "code",
   "execution_count": 6,
   "metadata": {
    "ExecuteTime": {
     "end_time": "2024-11-12T09:53:16.760921Z",
     "start_time": "2024-11-12T09:53:16.748934Z"
    }
   },
   "outputs": [
    {
     "data": {
      "text/plain": [
       "KstestResult(statistic=np.float64(0.05124747789637904), pvalue=np.float64(0.2500068105451755), statistic_location=np.float64(1.0), statistic_sign=np.int8(1))"
      ]
     },
     "execution_count": 6,
     "metadata": {},
     "output_type": "execute_result"
    }
   ],
   "source": [
    "stats.kstest(x, 'norm', args=(x_mean, x_std))"
   ]
  },
  {
   "cell_type": "code",
   "execution_count": 7,
   "metadata": {
    "ExecuteTime": {
     "end_time": "2024-11-12T09:53:16.775921Z",
     "start_time": "2024-11-12T09:53:16.764928Z"
    },
    "nbgrader": {
     "cell_type": "code",
     "checksum": "50486aafcbdbbf6ce11745ee37673006",
     "grade": false,
     "grade_id": "cell-69e2fa22be264f6f",
     "locked": false,
     "schema_version": 3,
     "solution": true,
     "task": false
    }
   },
   "outputs": [],
   "source": [
    "### ╰( ͡° ͜ʖ ͡° )つ▬▬ι═══════  bzzzzzzzzzz\n",
    "# will the code be with you\n",
    "\n",
    "pvalue = stats.kstest(x, 'norm', args=(x_mean, x_std)).pvalue\n",
    "K =  stats.kstest(x, 'norm', args=(x_mean, x_std)).statistic\n",
    "\n",
    "# your code here\n"
   ]
  },
  {
   "cell_type": "code",
   "execution_count": 8,
   "metadata": {
    "ExecuteTime": {
     "end_time": "2024-11-12T09:53:16.791117Z",
     "start_time": "2024-11-12T09:53:16.779117Z"
    },
    "deletable": false,
    "editable": false,
    "nbgrader": {
     "cell_type": "code",
     "checksum": "585101e0939743c4d976b2f492a30960",
     "grade": true,
     "grade_id": "cell-447597c99551cd8a",
     "locked": true,
     "points": 1,
     "schema_version": 3,
     "solution": false,
     "task": false
    }
   },
   "outputs": [],
   "source": [
    "# проверка, что pvalue найдено корректно\n",
    "assert np.abs(K - 0.051247) < 1e-5\n",
    "\n",
    "# похожие тесты на другие части задания скрыты от вас\n"
   ]
  },
  {
   "cell_type": "markdown",
   "metadata": {
    "deletable": false,
    "editable": false,
    "nbgrader": {
     "cell_type": "markdown",
     "checksum": "73238ad01c1a0a12f9a77d0bfa6b3e06",
     "grade": false,
     "grade_id": "cell-8ebc6cda31688260",
     "locked": true,
     "schema_version": 3,
     "solution": false,
     "task": false
    }
   },
   "source": [
    "Предположим невероятное! А именно, независимость и одинаковую распределённость наших наблюдений (никто не списывал контрольную друг у друга)."
   ]
  },
  {
   "cell_type": "markdown",
   "metadata": {
    "deletable": false,
    "editable": false,
    "nbgrader": {
     "cell_type": "markdown",
     "checksum": "8f76e098fcb040b85147b0f3426470d5",
     "grade": false,
     "grade_id": "cell-fb3d48dd25fb1f07",
     "locked": true,
     "schema_version": 3,
     "solution": false,
     "task": false
    }
   },
   "source": [
    "__б) Интервал для среднего.__ \n",
    "\n",
    "Постройте точный $95\\%$-й доверительный интервал для ожидамоего результата за первую контрольную. В качестве оценки стандартного отклонения используйте несмещённый вариант, `ddof=1`. В переменные `left` и `right` запишите границы получившегося интервала. В переменную `delta` его ширину. "
   ]
  },
  {
   "cell_type": "code",
   "execution_count": 9,
   "metadata": {
    "ExecuteTime": {
     "end_time": "2024-11-12T09:53:16.807115Z",
     "start_time": "2024-11-12T09:53:16.798116Z"
    }
   },
   "outputs": [
    {
     "data": {
      "text/plain": [
       "np.float64(3.163390228670703)"
      ]
     },
     "execution_count": 9,
     "metadata": {},
     "output_type": "execute_result"
    }
   ],
   "source": [
    "x.std()"
   ]
  },
  {
   "cell_type": "code",
   "execution_count": 10,
   "metadata": {
    "ExecuteTime": {
     "end_time": "2024-11-12T09:53:16.823120Z",
     "start_time": "2024-11-12T09:53:16.812118Z"
    }
   },
   "outputs": [
    {
     "data": {
      "text/plain": [
       "np.float64(10.007037738849283)"
      ]
     },
     "execution_count": 10,
     "metadata": {},
     "output_type": "execute_result"
    }
   ],
   "source": [
    "x.var()"
   ]
  },
  {
   "cell_type": "code",
   "execution_count": 11,
   "metadata": {
    "ExecuteTime": {
     "end_time": "2024-11-12T09:53:16.838116Z",
     "start_time": "2024-11-12T09:53:16.828120Z"
    }
   },
   "outputs": [
    {
     "data": {
      "text/plain": [
       "np.float64(10.007037738849283)"
      ]
     },
     "execution_count": 11,
     "metadata": {},
     "output_type": "execute_result"
    }
   ],
   "source": [
    "x.var(ddof = 1)"
   ]
  },
  {
   "cell_type": "code",
   "execution_count": 12,
   "metadata": {
    "ExecuteTime": {
     "end_time": "2024-11-12T09:53:16.853115Z",
     "start_time": "2024-11-12T09:53:16.842131Z"
    }
   },
   "outputs": [
    {
     "data": {
      "text/plain": [
       "np.float64(3.163390228670703)"
      ]
     },
     "execution_count": 12,
     "metadata": {},
     "output_type": "execute_result"
    }
   ],
   "source": [
    "x.std(ddof = 1)"
   ]
  },
  {
   "cell_type": "code",
   "execution_count": 13,
   "metadata": {
    "ExecuteTime": {
     "end_time": "2024-11-12T09:53:16.869280Z",
     "start_time": "2024-11-12T09:53:16.856117Z"
    }
   },
   "outputs": [],
   "source": [
    "x_var = x.var(ddof = 1)"
   ]
  },
  {
   "cell_type": "code",
   "execution_count": 14,
   "metadata": {
    "ExecuteTime": {
     "end_time": "2024-11-12T09:53:16.884060Z",
     "start_time": "2024-11-12T09:53:16.871441Z"
    },
    "nbgrader": {
     "cell_type": "code",
     "checksum": "70eb28b4aaeb46af2f9696cd4f691f2f",
     "grade": false,
     "grade_id": "cell-9e40f504dc8a1f04",
     "locked": false,
     "schema_version": 3,
     "solution": true,
     "task": false
    }
   },
   "outputs": [
    {
     "name": "stdout",
     "output_type": "stream",
     "text": [
      "Доверительный интервал [5.133; 5.762] ширины 0.6287\n"
     ]
    },
    {
     "data": {
      "text/plain": [
       "np.float64(1.959963984540054)"
      ]
     },
     "execution_count": 14,
     "metadata": {},
     "output_type": "execute_result"
    }
   ],
   "source": [
    "### ╰( ͡° ͜ʖ ͡° )つ▬▬ι═══════  bzzzzzzzzzz\n",
    "# will the code be with you\n",
    "norm_rv = stats.norm()\n",
    "\n",
    "alpha = 0.05\n",
    "z_crit = norm_rv.ppf(1 - alpha/2)\n",
    "n = len(x) \n",
    "\n",
    "left = x_mean - z_crit * np.sqrt(x_var/n)\n",
    "right = x_mean + z_crit * np.sqrt(x_var/n)\n",
    "delta = 2 * z_crit * np.sqrt(x_var/n)\n",
    "\n",
    "print(\"Доверительный интервал [{:.4}; {:.4}] ширины {:.4}\".format(left, right, delta))\n",
    "z_crit"
   ]
  },
  {
   "cell_type": "code",
   "execution_count": 15,
   "metadata": {
    "ExecuteTime": {
     "end_time": "2024-11-12T09:53:17.491107Z",
     "start_time": "2024-11-12T09:53:16.886959Z"
    },
    "deletable": false,
    "editable": false,
    "nbgrader": {
     "cell_type": "code",
     "checksum": "a7bcae5e85f2a9fdc2d47a4723ff8bcc",
     "grade": true,
     "grade_id": "cell-c42aece4c34d6d52",
     "locked": true,
     "points": 1,
     "schema_version": 3,
     "solution": false,
     "task": false
    }
   },
   "outputs": [
    {
     "ename": "AssertionError",
     "evalue": "",
     "output_type": "error",
     "traceback": [
      "\u001b[1;31m---------------------------------------------------------------------------\u001b[0m",
      "\u001b[1;31mAssertionError\u001b[0m                            Traceback (most recent call last)",
      "Cell \u001b[1;32mIn[15], line 2\u001b[0m\n\u001b[0;32m      1\u001b[0m \u001b[38;5;66;03m# проверка, что границы доверительного интервала найдены верно\u001b[39;00m\n\u001b[1;32m----> 2\u001b[0m \u001b[38;5;28;01massert\u001b[39;00m np\u001b[38;5;241m.\u001b[39mabs(left \u001b[38;5;241m-\u001b[39m \u001b[38;5;241m5.13247213744281\u001b[39m) \u001b[38;5;241m<\u001b[39m \u001b[38;5;241m1e-5\u001b[39m\n\u001b[0;32m      4\u001b[0m \u001b[38;5;66;03m# похожие тесты на другие части задания скрыты от вас\u001b[39;00m\n",
      "\u001b[1;31mAssertionError\u001b[0m: "
     ]
    }
   ],
   "source": [
    "# проверка, что границы доверительного интервала найдены верно\n",
    "assert np.abs(left - 5.13247213744281) < 1e-5\n",
    "\n",
    "# похожие тесты на другие части задания скрыты от вас\n"
   ]
  },
  {
   "cell_type": "markdown",
   "metadata": {
    "deletable": false,
    "editable": false,
    "nbgrader": {
     "cell_type": "markdown",
     "checksum": "c0e10ef4b641d40f0c88c89c8e1261fc",
     "grade": false,
     "grade_id": "cell-c8cb65b81fd4f4fe",
     "locked": true,
     "schema_version": 3,
     "solution": false,
     "task": false
    }
   },
   "source": [
    "__в) Ангелы и демоны__\n",
    "\n",
    "Переменная`fraud` - в списывании скольки задач был уличён студент. Разобьём наши наблюдения на две группы: Ангелы и Демоны. У Ангелов `fraud == 0`, у Демонов `fraud > 0`. \n",
    "\n",
    "Запишите оценки за первую контрольную для ангелов в переменную `angels`, для демонов в `demons`. Все пропуски из выборки удалите. Постройте на общем фоне гистограмму распределения оценок за первую контрольную у Ангелов и Демонов. "
   ]
  },
  {
   "cell_type": "code",
   "execution_count": 16,
   "metadata": {
    "ExecuteTime": {
     "end_time": "2024-11-12T09:53:29.662266Z",
     "start_time": "2024-11-12T09:53:29.650058Z"
    }
   },
   "outputs": [
    {
     "data": {
      "text/plain": [
       "np.int64(30)"
      ]
     },
     "execution_count": 16,
     "metadata": {},
     "output_type": "execute_result"
    }
   ],
   "source": [
    "df.fraud.isnull().sum()"
   ]
  },
  {
   "cell_type": "code",
   "execution_count": 147,
   "metadata": {
    "ExecuteTime": {
     "end_time": "2024-11-12T11:13:52.657458Z",
     "start_time": "2024-11-12T11:13:52.619470Z"
    }
   },
   "outputs": [
    {
     "data": {
      "text/html": [
       "<div>\n",
       "<style scoped>\n",
       "    .dataframe tbody tr th:only-of-type {\n",
       "        vertical-align: middle;\n",
       "    }\n",
       "\n",
       "    .dataframe tbody tr th {\n",
       "        vertical-align: top;\n",
       "    }\n",
       "\n",
       "    .dataframe thead th {\n",
       "        text-align: right;\n",
       "    }\n",
       "</style>\n",
       "<table border=\"1\" class=\"dataframe\">\n",
       "  <thead>\n",
       "    <tr style=\"text-align: right;\">\n",
       "      <th></th>\n",
       "      <th>contest_login</th>\n",
       "      <th>fraud</th>\n",
       "      <th>k1a</th>\n",
       "      <th>k1b</th>\n",
       "      <th>k1c</th>\n",
       "      <th>k1d</th>\n",
       "      <th>k1e</th>\n",
       "      <th>k1f</th>\n",
       "      <th>k1</th>\n",
       "      <th>k2a</th>\n",
       "      <th>k2b</th>\n",
       "      <th>k2c</th>\n",
       "      <th>k2d</th>\n",
       "      <th>k2e</th>\n",
       "      <th>k2f</th>\n",
       "      <th>k2</th>\n",
       "      <th>k3a</th>\n",
       "      <th>k3b</th>\n",
       "      <th>k3c</th>\n",
       "      <th>k3</th>\n",
       "    </tr>\n",
       "  </thead>\n",
       "  <tbody>\n",
       "    <tr>\n",
       "      <th>0</th>\n",
       "      <td>eds_python_2020_1</td>\n",
       "      <td>0.0</td>\n",
       "      <td>10.0</td>\n",
       "      <td>10.0</td>\n",
       "      <td>20.0</td>\n",
       "      <td>30.0</td>\n",
       "      <td>4.0</td>\n",
       "      <td>22.0</td>\n",
       "      <td>10.1</td>\n",
       "      <td>20.0</td>\n",
       "      <td>10.0</td>\n",
       "      <td>20.0</td>\n",
       "      <td>20.0</td>\n",
       "      <td>20.0</td>\n",
       "      <td>20.0</td>\n",
       "      <td>11.0</td>\n",
       "      <td>35.0</td>\n",
       "      <td>0.0</td>\n",
       "      <td>27.0</td>\n",
       "      <td>6.2</td>\n",
       "    </tr>\n",
       "    <tr>\n",
       "      <th>1</th>\n",
       "      <td>eds_python_2020_2</td>\n",
       "      <td>1.0</td>\n",
       "      <td>9.0</td>\n",
       "      <td>10.0</td>\n",
       "      <td>20.0</td>\n",
       "      <td>NaN</td>\n",
       "      <td>16.0</td>\n",
       "      <td>12.0</td>\n",
       "      <td>6.7</td>\n",
       "      <td>NaN</td>\n",
       "      <td>5.0</td>\n",
       "      <td>NaN</td>\n",
       "      <td>20.0</td>\n",
       "      <td>20.0</td>\n",
       "      <td>20.0</td>\n",
       "      <td>6.5</td>\n",
       "      <td>35.0</td>\n",
       "      <td>29.0</td>\n",
       "      <td>22.0</td>\n",
       "      <td>8.6</td>\n",
       "    </tr>\n",
       "    <tr>\n",
       "      <th>2</th>\n",
       "      <td>eds_python_2020_3</td>\n",
       "      <td>0.0</td>\n",
       "      <td>2.0</td>\n",
       "      <td>10.0</td>\n",
       "      <td>20.0</td>\n",
       "      <td>NaN</td>\n",
       "      <td>20.0</td>\n",
       "      <td>30.0</td>\n",
       "      <td>8.2</td>\n",
       "      <td>20.0</td>\n",
       "      <td>5.0</td>\n",
       "      <td>NaN</td>\n",
       "      <td>20.0</td>\n",
       "      <td>20.0</td>\n",
       "      <td>20.0</td>\n",
       "      <td>8.5</td>\n",
       "      <td>28.0</td>\n",
       "      <td>2.0</td>\n",
       "      <td>0.0</td>\n",
       "      <td>3.0</td>\n",
       "    </tr>\n",
       "    <tr>\n",
       "      <th>3</th>\n",
       "      <td>eds_python_2020_4</td>\n",
       "      <td>1.0</td>\n",
       "      <td>10.0</td>\n",
       "      <td>10.0</td>\n",
       "      <td>20.0</td>\n",
       "      <td>NaN</td>\n",
       "      <td>16.0</td>\n",
       "      <td>14.0</td>\n",
       "      <td>7.0</td>\n",
       "      <td>20.0</td>\n",
       "      <td>10.0</td>\n",
       "      <td>NaN</td>\n",
       "      <td>20.0</td>\n",
       "      <td>20.0</td>\n",
       "      <td>20.0</td>\n",
       "      <td>9.0</td>\n",
       "      <td>30.0</td>\n",
       "      <td>38.0</td>\n",
       "      <td>0.0</td>\n",
       "      <td>6.8</td>\n",
       "    </tr>\n",
       "    <tr>\n",
       "      <th>4</th>\n",
       "      <td>eds_python_2020_5</td>\n",
       "      <td>2.0</td>\n",
       "      <td>10.0</td>\n",
       "      <td>10.0</td>\n",
       "      <td>12.0</td>\n",
       "      <td>0.0</td>\n",
       "      <td>16.0</td>\n",
       "      <td>22.0</td>\n",
       "      <td>7.0</td>\n",
       "      <td>20.0</td>\n",
       "      <td>10.0</td>\n",
       "      <td>NaN</td>\n",
       "      <td>20.0</td>\n",
       "      <td>20.0</td>\n",
       "      <td>20.0</td>\n",
       "      <td>9.0</td>\n",
       "      <td>0.0</td>\n",
       "      <td>0.0</td>\n",
       "      <td>0.0</td>\n",
       "      <td>0.0</td>\n",
       "    </tr>\n",
       "  </tbody>\n",
       "</table>\n",
       "</div>"
      ],
      "text/plain": [
       "       contest_login  fraud   k1a   k1b   k1c   k1d   k1e   k1f    k1   k2a  \\\n",
       "0  eds_python_2020_1    0.0  10.0  10.0  20.0  30.0   4.0  22.0  10.1  20.0   \n",
       "1  eds_python_2020_2    1.0   9.0  10.0  20.0   NaN  16.0  12.0   6.7   NaN   \n",
       "2  eds_python_2020_3    0.0   2.0  10.0  20.0   NaN  20.0  30.0   8.2  20.0   \n",
       "3  eds_python_2020_4    1.0  10.0  10.0  20.0   NaN  16.0  14.0   7.0  20.0   \n",
       "4  eds_python_2020_5    2.0  10.0  10.0  12.0   0.0  16.0  22.0   7.0  20.0   \n",
       "\n",
       "    k2b   k2c   k2d   k2e   k2f    k2   k3a   k3b   k3c   k3  \n",
       "0  10.0  20.0  20.0  20.0  20.0  11.0  35.0   0.0  27.0  6.2  \n",
       "1   5.0   NaN  20.0  20.0  20.0   6.5  35.0  29.0  22.0  8.6  \n",
       "2   5.0   NaN  20.0  20.0  20.0   8.5  28.0   2.0   0.0  3.0  \n",
       "3  10.0   NaN  20.0  20.0  20.0   9.0  30.0  38.0   0.0  6.8  \n",
       "4  10.0   NaN  20.0  20.0  20.0   9.0   0.0   0.0   0.0  0.0  "
      ]
     },
     "execution_count": 147,
     "metadata": {},
     "output_type": "execute_result"
    }
   ],
   "source": [
    "df = df.drop(df[df.fraud.isnull()].index)\n",
    "df.head()"
   ]
  },
  {
   "cell_type": "code",
   "execution_count": 18,
   "metadata": {
    "ExecuteTime": {
     "end_time": "2024-11-12T09:53:31.121479Z",
     "start_time": "2024-11-12T09:53:30.934087Z"
    },
    "nbgrader": {
     "cell_type": "code",
     "checksum": "6c0b23dd967a4f205f44779962b2a42b",
     "grade": false,
     "grade_id": "cell-c0be9e8dcdcc6943",
     "locked": false,
     "schema_version": 3,
     "solution": true,
     "task": false
    }
   },
   "outputs": [
    {
     "data": {
      "text/plain": [
       "(array([0.03384615, 0.05538462, 0.08923077, 0.14461538, 0.13230769,\n",
       "        0.13538462, 0.07692308, 0.04307692, 0.03384615, 0.02461538]),\n",
       " array([ 0. ,  1.3,  2.6,  3.9,  5.2,  6.5,  7.8,  9.1, 10.4, 11.7, 13. ]),\n",
       " <BarContainer object of 10 artists>)"
      ]
     },
     "execution_count": 18,
     "metadata": {},
     "output_type": "execute_result"
    },
    {
     "data": {
      "image/png": "[encoded data removed]",
      "text/plain": [
       "<Figure size 640x480 with 1 Axes>"
      ]
     },
     "metadata": {},
     "output_type": "display_data"
    }
   ],
   "source": [
    "### ╰( ͡° ͜ʖ ͡° )つ▬▬ι═══════  bzzzzzzzzzz\n",
    "# will the code be with you\n",
    "\n",
    "angels = df[df.fraud == 0].k1.values\n",
    "demons = df[df.fraud > 0].k1.values\n",
    "\n",
    "x.hist(bins=20, density=True, alpha=0.5, color = 'green')\n",
    "plt.hist(angels, color = 'blue', bins=20, density=True, alpha=0.5)\n",
    "plt.hist(demons, color = 'red',  density=True, alpha=0.5)\n",
    "# your code here\n"
   ]
  },
  {
   "cell_type": "code",
   "execution_count": null,
   "metadata": {
    "ExecuteTime": {
     "end_time": "2024-11-08T13:51:02.326322Z",
     "start_time": "2024-11-08T13:51:02.317587Z"
    }
   },
   "outputs": [],
   "source": []
  },
  {
   "cell_type": "code",
   "execution_count": null,
   "metadata": {
    "ExecuteTime": {
     "end_time": "2024-11-12T09:53:17.500119Z",
     "start_time": "2024-11-12T09:53:17.500119Z"
    },
    "deletable": false,
    "editable": false,
    "nbgrader": {
     "cell_type": "code",
     "checksum": "5eaa66ef7fd354bd1b43f0bd0fbd6102",
     "grade": true,
     "grade_id": "cell-325feda5583e0804",
     "locked": true,
     "points": 1,
     "schema_version": 3,
     "solution": false,
     "task": false
    }
   },
   "outputs": [],
   "source": [
    "# проверка того, сколько в выборке оказалось ангелов и демонов\n",
    "assert len(angels) == 109\n",
    "\n",
    "# похожие тесты на другие части задания скрыты от вас\n"
   ]
  },
  {
   "cell_type": "markdown",
   "metadata": {
    "deletable": false,
    "editable": false,
    "nbgrader": {
     "cell_type": "markdown",
     "checksum": "0fdb96345d0a8b195881a90b068e23c0",
     "grade": false,
     "grade_id": "cell-0c028b3ac8a73ac4",
     "locked": true,
     "schema_version": 3,
     "solution": false,
     "task": false
    }
   },
   "source": [
    "__г) Интервал для разницы средних__ \n",
    "\n",
    "Постройте примерный $95\\%$-й доверительный интервал для разницы ожидаемого результата за первую контрольную у Ангелов и Демонов без предположения о равенстве дисперсий (интервал Уэлча). Для оценки всех дисперсий используйте несмещённый вариант. Заполните все переменные, перечисленные ниже. "
   ]
  },
  {
   "cell_type": "code",
   "execution_count": 19,
   "metadata": {
    "ExecuteTime": {
     "end_time": "2024-11-12T09:53:34.425002Z",
     "start_time": "2024-11-12T09:53:34.413999Z"
    }
   },
   "outputs": [
    {
     "data": {
      "text/plain": [
       "109"
      ]
     },
     "execution_count": 19,
     "metadata": {},
     "output_type": "execute_result"
    }
   ],
   "source": [
    "angels.size"
   ]
  },
  {
   "cell_type": "code",
   "execution_count": 20,
   "metadata": {
    "ExecuteTime": {
     "end_time": "2024-11-12T09:53:34.782749Z",
     "start_time": "2024-11-12T09:53:34.768746Z"
    }
   },
   "outputs": [
    {
     "data": {
      "text/plain": [
       "np.float64(9.328462453278966)"
      ]
     },
     "execution_count": 20,
     "metadata": {},
     "output_type": "execute_result"
    }
   ],
   "source": [
    "angels.var(ddof = 1)"
   ]
  },
  {
   "cell_type": "code",
   "execution_count": 21,
   "metadata": {
    "ExecuteTime": {
     "end_time": "2024-11-12T09:53:35.388043Z",
     "start_time": "2024-11-12T09:53:35.369036Z"
    }
   },
   "outputs": [
    {
     "data": {
      "text/plain": [
       "np.float64(9.242880228936958)"
      ]
     },
     "execution_count": 21,
     "metadata": {},
     "output_type": "execute_result"
    }
   ],
   "source": [
    "angels.var()"
   ]
  },
  {
   "cell_type": "code",
   "execution_count": 22,
   "metadata": {
    "ExecuteTime": {
     "end_time": "2024-11-12T09:53:35.916361Z",
     "start_time": "2024-11-12T09:53:35.900362Z"
    }
   },
   "outputs": [
    {
     "data": {
      "text/plain": [
       "np.float64(9.242880228936958)"
      ]
     },
     "execution_count": 22,
     "metadata": {},
     "output_type": "execute_result"
    }
   ],
   "source": [
    "angels.var(ddof = 0)"
   ]
  },
  {
   "cell_type": "code",
   "execution_count": 23,
   "metadata": {
    "ExecuteTime": {
     "end_time": "2024-11-12T09:53:40.677556Z",
     "start_time": "2024-11-12T09:53:40.662765Z"
    },
    "nbgrader": {
     "cell_type": "code",
     "checksum": "2328767bd68116cdbc607d64c62f1708",
     "grade": false,
     "grade_id": "cell-3f035845607657b9",
     "locked": false,
     "schema_version": 3,
     "solution": true,
     "task": false
    }
   },
   "outputs": [
    {
     "name": "stdout",
     "output_type": "stream",
     "text": [
      "Число степеней свободы: 191.68606564215975\n",
      "Доверительный интервал [-0.8046; 0.547] ширины 1.352\n"
     ]
    }
   ],
   "source": [
    "### ╰( ͡° ͜ʖ ͡° )つ▬▬ι═══════  bzzzzzzzzzz\n",
    "# will the code be with you\n",
    "diff = angels.mean() - demons.mean()\n",
    "n_angels, n_demons = angels.size, demons.size\n",
    "diff_sd = np.sqrt(angels.var(ddof = 1)/n_angels + demons.var(ddof = 1)/n_demons)\n",
    "\n",
    "u = (angels.var(ddof = 1) / n_angels + demons.var(ddof = 1) / n_demons) ** 2\n",
    "d = (angels.var(ddof = 1)**2) / (n_angels**2 * (n_angels - 1)) + (demons.var(ddof = 1)**2)/ (n_demons**2* (n_demons - 1))\n",
    "nu =  u/d \n",
    "print(\"Число степеней свободы:\", nu) # число степеней свободы в распределении Стьюдента\n",
    "\n",
    "left, right = stats.t.interval(0.95, df=nu, loc=diff, scale=diff_sd)\n",
    "print(\"Доверительный интервал [{:.4}; {:.4}] ширины {:.4}\".format(left, right, right - left))\n",
    "# your code here\n"
   ]
  },
  {
   "cell_type": "code",
   "execution_count": 24,
   "metadata": {
    "ExecuteTime": {
     "end_time": "2024-11-12T09:53:41.827067Z",
     "start_time": "2024-11-12T09:53:41.813449Z"
    },
    "deletable": false,
    "editable": false,
    "nbgrader": {
     "cell_type": "code",
     "checksum": "62f8fa99b2fb73511c4ddc4c63277b34",
     "grade": true,
     "grade_id": "cell-59bb7c6ce3e23ce7",
     "locked": true,
     "points": 2,
     "schema_version": 3,
     "solution": false,
     "task": false
    }
   },
   "outputs": [],
   "source": [
    "# проверка, что границы доверительного интервала найдены верно\n",
    "assert np.abs(left + 0.8045581262764373) < 1e-5\n",
    "\n",
    "# похожие тесты на другие части задания скрыты от вас\n"
   ]
  },
  {
   "cell_type": "markdown",
   "metadata": {
    "deletable": false,
    "editable": false,
    "nbgrader": {
     "cell_type": "markdown",
     "checksum": "6e25be1a6ef849cbf62ea4a3996214bc",
     "grade": false,
     "grade_id": "cell-66a3e9ada3ad850a",
     "locked": true,
     "schema_version": 3,
     "solution": false,
     "task": false
    }
   },
   "source": [
    "Входит ли в получившийся доверительный интервал ноль? Как думаете, что это означает? "
   ]
  },
  {
   "cell_type": "markdown",
   "metadata": {
    "deletable": false,
    "editable": false,
    "nbgrader": {
     "cell_type": "markdown",
     "checksum": "063bd8b6e45cccc3e8cae735b5ff739a",
     "grade": false,
     "grade_id": "cell-0d191b73acb7ee38",
     "locked": true,
     "schema_version": 3,
     "solution": false,
     "task": false
    }
   },
   "source": [
    "__д) Интервал для дисперсии__ \n",
    "\n",
    "Предположим, что математическое ожидание результата за контрольную зависит от уровня подготовки, а дисперсия результата — от нервов. Постройте для отношения нервозности Демонов и Ангелов $95\\%$ доверительный интервал. Для оценки всех дисперсий используйте несмещённый вариант. "
   ]
  },
  {
   "cell_type": "code",
   "execution_count": 25,
   "metadata": {
    "ExecuteTime": {
     "end_time": "2024-11-12T09:53:43.520487Z",
     "start_time": "2024-11-12T09:53:43.508487Z"
    },
    "nbgrader": {
     "cell_type": "code",
     "checksum": "8ea1121c2ed8a94df21d96016401ccb1",
     "grade": false,
     "grade_id": "cell-8dae4d42e098b2a2",
     "locked": false,
     "schema_version": 3,
     "solution": true,
     "task": false
    }
   },
   "outputs": [
    {
     "name": "stdout",
     "output_type": "stream",
     "text": [
      "Доверительный интервал [0.61204; 1.1624] ширины 0.55034\n"
     ]
    }
   ],
   "source": [
    "### ╰( ͡° ͜ʖ ͡° )つ▬▬ι═══════  bzzzzzzzzzz\n",
    "# will the code be with you\n",
    "alpha = 0.05\n",
    "\n",
    "n, m = n_angels - 1, n_demons - 1\n",
    "sn, sm = angels.var(ddof=1), demons.var(ddof=1)\n",
    "\n",
    "left = sm / sn * stats.f(n, m).ppf(alpha/2)\n",
    "right = sm / sn * stats.f(n, m).ppf(1 - alpha/2)\n",
    "\n",
    "print(\"Доверительный интервал [{:.5}; {:.5}] ширины {:.5}\".format(left, right, right - left))\n",
    "\n",
    "# your code here\n"
   ]
  },
  {
   "cell_type": "code",
   "execution_count": 26,
   "metadata": {
    "ExecuteTime": {
     "end_time": "2024-11-12T09:53:46.495857Z",
     "start_time": "2024-11-12T09:53:46.475689Z"
    },
    "deletable": false,
    "editable": false,
    "nbgrader": {
     "cell_type": "code",
     "checksum": "f83b5b1cc445e7b6350148d0a4740c64",
     "grade": true,
     "grade_id": "cell-febf3991d9995f7a",
     "locked": true,
     "points": 1,
     "schema_version": 3,
     "solution": false,
     "task": false
    }
   },
   "outputs": [
    {
     "ename": "TypeError",
     "evalue": "unsupported operand type(s) for -: 'ellipsis' and 'float'",
     "output_type": "error",
     "traceback": [
      "\u001b[1;31m---------------------------------------------------------------------------\u001b[0m",
      "\u001b[1;31mTypeError\u001b[0m                                 Traceback (most recent call last)",
      "Cell \u001b[1;32mIn[26], line 2\u001b[0m\n\u001b[0;32m      1\u001b[0m \u001b[38;5;66;03m# проверка, что границы доверительного интервала найдены верно\u001b[39;00m\n\u001b[1;32m----> 2\u001b[0m \u001b[38;5;28;01massert\u001b[39;00m np\u001b[38;5;241m.\u001b[39mabs(\u001b[43mleft\u001b[49m\u001b[43m \u001b[49m\u001b[38;5;241;43m-\u001b[39;49m\u001b[43m \u001b[49m\u001b[38;5;241;43m0.6120428247687726\u001b[39;49m) \u001b[38;5;241m<\u001b[39m \u001b[38;5;241m1e-5\u001b[39m\n\u001b[0;32m      4\u001b[0m \u001b[38;5;66;03m# похожие тесты на другие части задания скрыты от вас\u001b[39;00m\n",
      "\u001b[1;31mTypeError\u001b[0m: unsupported operand type(s) for -: 'ellipsis' and 'float'"
     ]
    }
   ],
   "source": [
    "# проверка, что границы доверительного интервала найдены верно\n",
    "assert np.abs(left - 0.6120428247687726) < 1e-5\n",
    "\n",
    "# похожие тесты на другие части задания скрыты от вас\n"
   ]
  },
  {
   "cell_type": "markdown",
   "metadata": {
    "deletable": false,
    "editable": false,
    "nbgrader": {
     "cell_type": "markdown",
     "checksum": "35287e8c0aaa3c65baeb855d439e24f1",
     "grade": false,
     "grade_id": "cell-c10fcf23f98971bb",
     "locked": true,
     "schema_version": 3,
     "solution": false,
     "task": false
    }
   },
   "source": [
    "Вошла ли в доверительный интервал единица? Как думаете, что это означает? "
   ]
  },
  {
   "cell_type": "markdown",
   "metadata": {
    "deletable": false,
    "editable": false,
    "nbgrader": {
     "cell_type": "markdown",
     "checksum": "ae95060e4a23bc109c2fdc3ed5cbd9ec",
     "grade": false,
     "grade_id": "cell-ccc6bfa3d204c0f2",
     "locked": true,
     "schema_version": 3,
     "solution": false,
     "task": false
    }
   },
   "source": [
    "__е) Ангелы и демоны решают задачки__ \n",
    "\n",
    "Нарисуйте картинку для корреляционной матрицы по задачам первой контрольной для всех наблюдений, отдельно для Ангелов и Демонов. Пропуски заполните нулями. Будем считать, что если у студента нет оценки, он не выполнял это задание. Для подсчёта корреляций используйте метод `.corr`. Для отрисовки матриц функцию `heatmap` из пакета `seaborn`. Для ангелов неплохо подойдёт цветовая схема `YlGnBu`. Для демонов подходит схема `gist_heat_r`."
   ]
  },
  {
   "cell_type": "code",
   "execution_count": 27,
   "metadata": {
    "ExecuteTime": {
     "end_time": "2024-11-12T09:54:17.327959Z",
     "start_time": "2024-11-12T09:54:17.305855Z"
    }
   },
   "outputs": [
    {
     "data": {
      "text/html": [
       "<div>\n",
       "<style scoped>\n",
       "    .dataframe tbody tr th:only-of-type {\n",
       "        vertical-align: middle;\n",
       "    }\n",
       "\n",
       "    .dataframe tbody tr th {\n",
       "        vertical-align: top;\n",
       "    }\n",
       "\n",
       "    .dataframe thead th {\n",
       "        text-align: right;\n",
       "    }\n",
       "</style>\n",
       "<table border=\"1\" class=\"dataframe\">\n",
       "  <thead>\n",
       "    <tr style=\"text-align: right;\">\n",
       "      <th></th>\n",
       "      <th>contest_login</th>\n",
       "      <th>fraud</th>\n",
       "      <th>k1a</th>\n",
       "      <th>k1b</th>\n",
       "      <th>k1c</th>\n",
       "      <th>k1d</th>\n",
       "      <th>k1e</th>\n",
       "      <th>k1f</th>\n",
       "      <th>k1</th>\n",
       "      <th>k2a</th>\n",
       "      <th>k2b</th>\n",
       "      <th>k2c</th>\n",
       "      <th>k2d</th>\n",
       "      <th>k2e</th>\n",
       "      <th>k2f</th>\n",
       "      <th>k2</th>\n",
       "      <th>k3a</th>\n",
       "      <th>k3b</th>\n",
       "      <th>k3c</th>\n",
       "      <th>k3</th>\n",
       "    </tr>\n",
       "  </thead>\n",
       "  <tbody>\n",
       "    <tr>\n",
       "      <th>0</th>\n",
       "      <td>eds_python_2020_1</td>\n",
       "      <td>0.0</td>\n",
       "      <td>10.0</td>\n",
       "      <td>10.0</td>\n",
       "      <td>20.0</td>\n",
       "      <td>30.0</td>\n",
       "      <td>4.0</td>\n",
       "      <td>22.0</td>\n",
       "      <td>10.1</td>\n",
       "      <td>20.0</td>\n",
       "      <td>10.0</td>\n",
       "      <td>20.0</td>\n",
       "      <td>20.0</td>\n",
       "      <td>20.0</td>\n",
       "      <td>20.0</td>\n",
       "      <td>11.0</td>\n",
       "      <td>35.0</td>\n",
       "      <td>0.0</td>\n",
       "      <td>27.0</td>\n",
       "      <td>6.2</td>\n",
       "    </tr>\n",
       "    <tr>\n",
       "      <th>1</th>\n",
       "      <td>eds_python_2020_2</td>\n",
       "      <td>1.0</td>\n",
       "      <td>9.0</td>\n",
       "      <td>10.0</td>\n",
       "      <td>20.0</td>\n",
       "      <td>NaN</td>\n",
       "      <td>16.0</td>\n",
       "      <td>12.0</td>\n",
       "      <td>6.7</td>\n",
       "      <td>NaN</td>\n",
       "      <td>5.0</td>\n",
       "      <td>NaN</td>\n",
       "      <td>20.0</td>\n",
       "      <td>20.0</td>\n",
       "      <td>20.0</td>\n",
       "      <td>6.5</td>\n",
       "      <td>35.0</td>\n",
       "      <td>29.0</td>\n",
       "      <td>22.0</td>\n",
       "      <td>8.6</td>\n",
       "    </tr>\n",
       "    <tr>\n",
       "      <th>2</th>\n",
       "      <td>eds_python_2020_3</td>\n",
       "      <td>0.0</td>\n",
       "      <td>2.0</td>\n",
       "      <td>10.0</td>\n",
       "      <td>20.0</td>\n",
       "      <td>NaN</td>\n",
       "      <td>20.0</td>\n",
       "      <td>30.0</td>\n",
       "      <td>8.2</td>\n",
       "      <td>20.0</td>\n",
       "      <td>5.0</td>\n",
       "      <td>NaN</td>\n",
       "      <td>20.0</td>\n",
       "      <td>20.0</td>\n",
       "      <td>20.0</td>\n",
       "      <td>8.5</td>\n",
       "      <td>28.0</td>\n",
       "      <td>2.0</td>\n",
       "      <td>0.0</td>\n",
       "      <td>3.0</td>\n",
       "    </tr>\n",
       "    <tr>\n",
       "      <th>3</th>\n",
       "      <td>eds_python_2020_4</td>\n",
       "      <td>1.0</td>\n",
       "      <td>10.0</td>\n",
       "      <td>10.0</td>\n",
       "      <td>20.0</td>\n",
       "      <td>NaN</td>\n",
       "      <td>16.0</td>\n",
       "      <td>14.0</td>\n",
       "      <td>7.0</td>\n",
       "      <td>20.0</td>\n",
       "      <td>10.0</td>\n",
       "      <td>NaN</td>\n",
       "      <td>20.0</td>\n",
       "      <td>20.0</td>\n",
       "      <td>20.0</td>\n",
       "      <td>9.0</td>\n",
       "      <td>30.0</td>\n",
       "      <td>38.0</td>\n",
       "      <td>0.0</td>\n",
       "      <td>6.8</td>\n",
       "    </tr>\n",
       "    <tr>\n",
       "      <th>4</th>\n",
       "      <td>eds_python_2020_5</td>\n",
       "      <td>2.0</td>\n",
       "      <td>10.0</td>\n",
       "      <td>10.0</td>\n",
       "      <td>12.0</td>\n",
       "      <td>0.0</td>\n",
       "      <td>16.0</td>\n",
       "      <td>22.0</td>\n",
       "      <td>7.0</td>\n",
       "      <td>20.0</td>\n",
       "      <td>10.0</td>\n",
       "      <td>NaN</td>\n",
       "      <td>20.0</td>\n",
       "      <td>20.0</td>\n",
       "      <td>20.0</td>\n",
       "      <td>9.0</td>\n",
       "      <td>0.0</td>\n",
       "      <td>0.0</td>\n",
       "      <td>0.0</td>\n",
       "      <td>0.0</td>\n",
       "    </tr>\n",
       "  </tbody>\n",
       "</table>\n",
       "</div>"
      ],
      "text/plain": [
       "       contest_login  fraud   k1a   k1b   k1c   k1d   k1e   k1f    k1   k2a  \\\n",
       "0  eds_python_2020_1    0.0  10.0  10.0  20.0  30.0   4.0  22.0  10.1  20.0   \n",
       "1  eds_python_2020_2    1.0   9.0  10.0  20.0   NaN  16.0  12.0   6.7   NaN   \n",
       "2  eds_python_2020_3    0.0   2.0  10.0  20.0   NaN  20.0  30.0   8.2  20.0   \n",
       "3  eds_python_2020_4    1.0  10.0  10.0  20.0   NaN  16.0  14.0   7.0  20.0   \n",
       "4  eds_python_2020_5    2.0  10.0  10.0  12.0   0.0  16.0  22.0   7.0  20.0   \n",
       "\n",
       "    k2b   k2c   k2d   k2e   k2f    k2   k3a   k3b   k3c   k3  \n",
       "0  10.0  20.0  20.0  20.0  20.0  11.0  35.0   0.0  27.0  6.2  \n",
       "1   5.0   NaN  20.0  20.0  20.0   6.5  35.0  29.0  22.0  8.6  \n",
       "2   5.0   NaN  20.0  20.0  20.0   8.5  28.0   2.0   0.0  3.0  \n",
       "3  10.0   NaN  20.0  20.0  20.0   9.0  30.0  38.0   0.0  6.8  \n",
       "4  10.0   NaN  20.0  20.0  20.0   9.0   0.0   0.0   0.0  0.0  "
      ]
     },
     "execution_count": 27,
     "metadata": {},
     "output_type": "execute_result"
    }
   ],
   "source": [
    "df.head()"
   ]
  },
  {
   "cell_type": "code",
   "execution_count": 28,
   "metadata": {
    "ExecuteTime": {
     "end_time": "2024-11-12T09:54:18.613820Z",
     "start_time": "2024-11-12T09:54:18.606823Z"
    }
   },
   "outputs": [],
   "source": [
    "df = df.fillna(0.0)"
   ]
  },
  {
   "cell_type": "code",
   "execution_count": 29,
   "metadata": {
    "ExecuteTime": {
     "end_time": "2024-11-12T09:54:19.669284Z",
     "start_time": "2024-11-12T09:54:19.634964Z"
    }
   },
   "outputs": [
    {
     "data": {
      "text/html": [
       "<div>\n",
       "<style scoped>\n",
       "    .dataframe tbody tr th:only-of-type {\n",
       "        vertical-align: middle;\n",
       "    }\n",
       "\n",
       "    .dataframe tbody tr th {\n",
       "        vertical-align: top;\n",
       "    }\n",
       "\n",
       "    .dataframe thead th {\n",
       "        text-align: right;\n",
       "    }\n",
       "</style>\n",
       "<table border=\"1\" class=\"dataframe\">\n",
       "  <thead>\n",
       "    <tr style=\"text-align: right;\">\n",
       "      <th></th>\n",
       "      <th>k1a</th>\n",
       "      <th>k1b</th>\n",
       "      <th>k1c</th>\n",
       "      <th>k1d</th>\n",
       "      <th>k1e</th>\n",
       "      <th>k1f</th>\n",
       "    </tr>\n",
       "  </thead>\n",
       "  <tbody>\n",
       "    <tr>\n",
       "      <th>k1a</th>\n",
       "      <td>1.000000</td>\n",
       "      <td>0.291446</td>\n",
       "      <td>0.218638</td>\n",
       "      <td>0.108194</td>\n",
       "      <td>0.158927</td>\n",
       "      <td>0.317325</td>\n",
       "    </tr>\n",
       "    <tr>\n",
       "      <th>k1b</th>\n",
       "      <td>0.291446</td>\n",
       "      <td>1.000000</td>\n",
       "      <td>0.487022</td>\n",
       "      <td>0.225498</td>\n",
       "      <td>0.272804</td>\n",
       "      <td>0.410323</td>\n",
       "    </tr>\n",
       "    <tr>\n",
       "      <th>k1c</th>\n",
       "      <td>0.218638</td>\n",
       "      <td>0.487022</td>\n",
       "      <td>1.000000</td>\n",
       "      <td>0.243571</td>\n",
       "      <td>0.411150</td>\n",
       "      <td>0.442687</td>\n",
       "    </tr>\n",
       "    <tr>\n",
       "      <th>k1d</th>\n",
       "      <td>0.108194</td>\n",
       "      <td>0.225498</td>\n",
       "      <td>0.243571</td>\n",
       "      <td>1.000000</td>\n",
       "      <td>0.198686</td>\n",
       "      <td>0.264577</td>\n",
       "    </tr>\n",
       "    <tr>\n",
       "      <th>k1e</th>\n",
       "      <td>0.158927</td>\n",
       "      <td>0.272804</td>\n",
       "      <td>0.411150</td>\n",
       "      <td>0.198686</td>\n",
       "      <td>1.000000</td>\n",
       "      <td>0.336181</td>\n",
       "    </tr>\n",
       "    <tr>\n",
       "      <th>k1f</th>\n",
       "      <td>0.317325</td>\n",
       "      <td>0.410323</td>\n",
       "      <td>0.442687</td>\n",
       "      <td>0.264577</td>\n",
       "      <td>0.336181</td>\n",
       "      <td>1.000000</td>\n",
       "    </tr>\n",
       "  </tbody>\n",
       "</table>\n",
       "</div>"
      ],
      "text/plain": [
       "          k1a       k1b       k1c       k1d       k1e       k1f\n",
       "k1a  1.000000  0.291446  0.218638  0.108194  0.158927  0.317325\n",
       "k1b  0.291446  1.000000  0.487022  0.225498  0.272804  0.410323\n",
       "k1c  0.218638  0.487022  1.000000  0.243571  0.411150  0.442687\n",
       "k1d  0.108194  0.225498  0.243571  1.000000  0.198686  0.264577\n",
       "k1e  0.158927  0.272804  0.411150  0.198686  1.000000  0.336181\n",
       "k1f  0.317325  0.410323  0.442687  0.264577  0.336181  1.000000"
      ]
     },
     "execution_count": 29,
     "metadata": {},
     "output_type": "execute_result"
    }
   ],
   "source": [
    "df_angels_corr = df[df.fraud == 0].loc[:, 'k1a' : 'k1f']\n",
    "df_angels_corr.corr()"
   ]
  },
  {
   "cell_type": "code",
   "execution_count": 30,
   "metadata": {
    "ExecuteTime": {
     "end_time": "2024-11-12T09:54:20.785291Z",
     "start_time": "2024-11-12T09:54:20.563295Z"
    }
   },
   "outputs": [
    {
     "data": {
      "text/plain": [
       "<Axes: >"
      ]
     },
     "execution_count": 30,
     "metadata": {},
     "output_type": "execute_result"
    },
    {
     "data": {
      "image/png": "[encoded data removed]",
      "text/plain": [
       "<Figure size 640x480 with 2 Axes>"
      ]
     },
     "metadata": {},
     "output_type": "display_data"
    }
   ],
   "source": [
    "sns.heatmap(df_angels_corr.corr(), cmap=\"YlGnBu\", annot=True)"
   ]
  },
  {
   "cell_type": "code",
   "execution_count": 31,
   "metadata": {
    "ExecuteTime": {
     "end_time": "2024-11-12T09:54:22.369295Z",
     "start_time": "2024-11-12T09:54:22.345170Z"
    }
   },
   "outputs": [
    {
     "data": {
      "text/html": [
       "<div>\n",
       "<style scoped>\n",
       "    .dataframe tbody tr th:only-of-type {\n",
       "        vertical-align: middle;\n",
       "    }\n",
       "\n",
       "    .dataframe tbody tr th {\n",
       "        vertical-align: top;\n",
       "    }\n",
       "\n",
       "    .dataframe thead th {\n",
       "        text-align: right;\n",
       "    }\n",
       "</style>\n",
       "<table border=\"1\" class=\"dataframe\">\n",
       "  <thead>\n",
       "    <tr style=\"text-align: right;\">\n",
       "      <th></th>\n",
       "      <th>k1a</th>\n",
       "      <th>k1b</th>\n",
       "      <th>k1c</th>\n",
       "      <th>k1d</th>\n",
       "      <th>k1e</th>\n",
       "      <th>k1f</th>\n",
       "    </tr>\n",
       "  </thead>\n",
       "  <tbody>\n",
       "    <tr>\n",
       "      <th>k1a</th>\n",
       "      <td>1.000000</td>\n",
       "      <td>0.174108</td>\n",
       "      <td>0.196000</td>\n",
       "      <td>0.015386</td>\n",
       "      <td>0.052574</td>\n",
       "      <td>0.022196</td>\n",
       "    </tr>\n",
       "    <tr>\n",
       "      <th>k1b</th>\n",
       "      <td>0.174108</td>\n",
       "      <td>1.000000</td>\n",
       "      <td>0.129282</td>\n",
       "      <td>-0.030555</td>\n",
       "      <td>0.086067</td>\n",
       "      <td>0.184785</td>\n",
       "    </tr>\n",
       "    <tr>\n",
       "      <th>k1c</th>\n",
       "      <td>0.196000</td>\n",
       "      <td>0.129282</td>\n",
       "      <td>1.000000</td>\n",
       "      <td>0.158235</td>\n",
       "      <td>0.366884</td>\n",
       "      <td>0.224341</td>\n",
       "    </tr>\n",
       "    <tr>\n",
       "      <th>k1d</th>\n",
       "      <td>0.015386</td>\n",
       "      <td>-0.030555</td>\n",
       "      <td>0.158235</td>\n",
       "      <td>1.000000</td>\n",
       "      <td>0.207241</td>\n",
       "      <td>0.251922</td>\n",
       "    </tr>\n",
       "    <tr>\n",
       "      <th>k1e</th>\n",
       "      <td>0.052574</td>\n",
       "      <td>0.086067</td>\n",
       "      <td>0.366884</td>\n",
       "      <td>0.207241</td>\n",
       "      <td>1.000000</td>\n",
       "      <td>0.386557</td>\n",
       "    </tr>\n",
       "    <tr>\n",
       "      <th>k1f</th>\n",
       "      <td>0.022196</td>\n",
       "      <td>0.184785</td>\n",
       "      <td>0.224341</td>\n",
       "      <td>0.251922</td>\n",
       "      <td>0.386557</td>\n",
       "      <td>1.000000</td>\n",
       "    </tr>\n",
       "  </tbody>\n",
       "</table>\n",
       "</div>"
      ],
      "text/plain": [
       "          k1a       k1b       k1c       k1d       k1e       k1f\n",
       "k1a  1.000000  0.174108  0.196000  0.015386  0.052574  0.022196\n",
       "k1b  0.174108  1.000000  0.129282 -0.030555  0.086067  0.184785\n",
       "k1c  0.196000  0.129282  1.000000  0.158235  0.366884  0.224341\n",
       "k1d  0.015386 -0.030555  0.158235  1.000000  0.207241  0.251922\n",
       "k1e  0.052574  0.086067  0.366884  0.207241  1.000000  0.386557\n",
       "k1f  0.022196  0.184785  0.224341  0.251922  0.386557  1.000000"
      ]
     },
     "execution_count": 31,
     "metadata": {},
     "output_type": "execute_result"
    }
   ],
   "source": [
    "df_demons_corr = df[df.fraud > 0].loc[:, 'k1a' : 'k1f']\n",
    "df_demons_corr.corr()"
   ]
  },
  {
   "cell_type": "code",
   "execution_count": 32,
   "metadata": {
    "ExecuteTime": {
     "end_time": "2024-11-12T09:54:23.379070Z",
     "start_time": "2024-11-12T09:54:23.160619Z"
    }
   },
   "outputs": [
    {
     "data": {
      "text/plain": [
       "<Axes: >"
      ]
     },
     "execution_count": 32,
     "metadata": {},
     "output_type": "execute_result"
    },
    {
     "data": {
      "image/png": "[encoded data removed]",
      "text/plain": [
       "<Figure size 640x480 with 2 Axes>"
      ]
     },
     "metadata": {},
     "output_type": "display_data"
    }
   ],
   "source": [
    "sns.heatmap(df_demons_corr.corr(), cmap=\"gist_heat_r\", annot=True)"
   ]
  },
  {
   "cell_type": "markdown",
   "metadata": {
    "deletable": false,
    "editable": false,
    "nbgrader": {
     "cell_type": "markdown",
     "checksum": "10c0c590e2bfadab933281d130dc1c9d",
     "grade": false,
     "grade_id": "cell-29626c8b8ffd6af1",
     "locked": true,
     "schema_version": 3,
     "solution": false,
     "task": false
    }
   },
   "source": [
    "Между баллом за какие задачи самая высокая корреляция у Ангелов? В грейдер отправьте название колонок в порядке возрастания через запятую. __Например:__ `(\"k1a\", \"k1f\")`. "
   ]
  },
  {
   "cell_type": "code",
   "execution_count": 33,
   "metadata": {
    "ExecuteTime": {
     "end_time": "2024-11-12T09:54:25.647118Z",
     "start_time": "2024-11-12T09:54:25.633720Z"
    }
   },
   "outputs": [
    {
     "data": {
      "text/plain": [
       "k1a    1.0\n",
       "k1b    1.0\n",
       "k1c    1.0\n",
       "k1d    1.0\n",
       "k1e    1.0\n",
       "k1f    1.0\n",
       "dtype: float64"
      ]
     },
     "execution_count": 33,
     "metadata": {},
     "output_type": "execute_result"
    }
   ],
   "source": [
    "df_demons_corr.corr().max()"
   ]
  },
  {
   "cell_type": "code",
   "execution_count": 34,
   "metadata": {
    "ExecuteTime": {
     "end_time": "2024-11-12T09:54:26.971867Z",
     "start_time": "2024-11-12T09:54:26.957853Z"
    },
    "nbgrader": {
     "cell_type": "code",
     "checksum": "9256fca064648cb0aeb0899c71fc3d00",
     "grade": false,
     "grade_id": "cell-54809ad94755877b",
     "locked": false,
     "schema_version": 3,
     "solution": true,
     "task": false
    }
   },
   "outputs": [],
   "source": [
    "### ╰( ͡° ͜ʖ ͡° )つ▬▬ι═══════  bzzzzzzzzzz\n",
    "# will the code be with you\n",
    "\n",
    "names_angels = (\"k1b\", \"k1c\")\n",
    "names_demons = (\"k1e\", \"k1f\") \n",
    "\n",
    "# your code here\n"
   ]
  },
  {
   "cell_type": "code",
   "execution_count": 35,
   "metadata": {
    "ExecuteTime": {
     "end_time": "2024-11-12T09:54:28.038139Z",
     "start_time": "2024-11-12T09:54:28.028993Z"
    },
    "deletable": false,
    "editable": false,
    "nbgrader": {
     "cell_type": "code",
     "checksum": "83f99c2c2c702de49dfa49337cea7f52",
     "grade": true,
     "grade_id": "cell-83cc8d8aa7540b23",
     "locked": true,
     "points": 1,
     "schema_version": 3,
     "solution": false,
     "task": false
    }
   },
   "outputs": [],
   "source": [
    "# проверка вашего ответа скрыта от вас"
   ]
  },
  {
   "cell_type": "markdown",
   "metadata": {
    "deletable": false,
    "editable": false,
    "nbgrader": {
     "cell_type": "markdown",
     "checksum": "7a7df45c4a71172c69544a9c20dcf790",
     "grade": false,
     "grade_id": "cell-c1c9ce54e1c34630",
     "locked": true,
     "schema_version": 3,
     "solution": false,
     "task": false
    }
   },
   "source": [
    "Как думаете, какие задачи было тяжелее всего списать? "
   ]
  },
  {
   "cell_type": "markdown",
   "metadata": {
    "deletable": false,
    "editable": false,
    "nbgrader": {
     "cell_type": "markdown",
     "checksum": "e6ab5253dba5643bd1bf843ac2058c6e",
     "grade": false,
     "grade_id": "cell-883157a3a5a40be9",
     "locked": true,
     "schema_version": 3,
     "solution": false,
     "task": false
    }
   },
   "source": [
    "__ё) Доля написавших третью контрольную.__\n",
    "\n",
    "Без буквы `ё` никуда, скажут нам [Пафнутий Чебышёв](https://ru.wikipedia.org/wiki/%D0%A7%D0%B5%D0%B1%D1%8B%D1%88%D1%91%D0%B2,_%D0%9F%D0%B0%D1%84%D0%BD%D1%83%D1%82%D0%B8%D0%B9_%D0%9B%D1%8C%D0%B2%D0%BE%D0%B2%D0%B8%D1%87) и [Лёв Толстой](https://arzamas.academy/special/ruslit/writers/tolstoy).  \n",
    "\n",
    "У студентов был выбор: писать или не писать третью контрольную. Если в колонке `k3` стоит $0$, значит студент не стал это делать. Постройте асимптотический $95\\%$-й доверительный интервал для разницы долей Ангелов и Демонов, которые решили писать третью контрольную. \n",
    "\n",
    "__Примечание:__ На практике, если мы пользуемся асимптотическими доверительными интервалами, мы можем искать границы двумя способами:\n",
    "\n",
    "* __Первый__ состоит в том, что мы оцениваем стандартное отклонение с помощью $\\sqrt{\\hat{p} \\cdot (1 - \\hat{p})} = \\sqrt{\\frac{1}{n} \\cdot \\sum_{i=1}^n (x_i - \\bar{x})^2}$. \n",
    "* __Второй способ__ состоит в том, чтобы оценить стандартное отклонение как  $\\sqrt{\\frac{1}{n-1} \\cdot \\sum_{i=1}^n (x_i - \\bar{x})^2}$. \n",
    "\n",
    "В плане асимптотики это не влияет на выводы, так как обе этих оценки состоятельно оценивают дисперсию. Можно пользоваться любым. Однако, чтобы с грейдером не было проблем и задание зачлось, воспользуйтесь первым способом. "
   ]
  },
  {
   "cell_type": "code",
   "execution_count": 37,
   "metadata": {
    "ExecuteTime": {
     "end_time": "2024-11-12T09:56:44.189260Z",
     "start_time": "2024-11-12T09:56:44.164711Z"
    }
   },
   "outputs": [
    {
     "data": {
      "text/html": [
       "<div>\n",
       "<style scoped>\n",
       "    .dataframe tbody tr th:only-of-type {\n",
       "        vertical-align: middle;\n",
       "    }\n",
       "\n",
       "    .dataframe tbody tr th {\n",
       "        vertical-align: top;\n",
       "    }\n",
       "\n",
       "    .dataframe thead th {\n",
       "        text-align: right;\n",
       "    }\n",
       "</style>\n",
       "<table border=\"1\" class=\"dataframe\">\n",
       "  <thead>\n",
       "    <tr style=\"text-align: right;\">\n",
       "      <th></th>\n",
       "      <th>contest_login</th>\n",
       "      <th>fraud</th>\n",
       "      <th>k1a</th>\n",
       "      <th>k1b</th>\n",
       "      <th>k1c</th>\n",
       "      <th>k1d</th>\n",
       "      <th>k1e</th>\n",
       "      <th>k1f</th>\n",
       "      <th>k1</th>\n",
       "      <th>k2a</th>\n",
       "      <th>k2b</th>\n",
       "      <th>k2c</th>\n",
       "      <th>k2d</th>\n",
       "      <th>k2e</th>\n",
       "      <th>k2f</th>\n",
       "      <th>k2</th>\n",
       "      <th>k3a</th>\n",
       "      <th>k3b</th>\n",
       "      <th>k3c</th>\n",
       "      <th>k3</th>\n",
       "    </tr>\n",
       "  </thead>\n",
       "  <tbody>\n",
       "    <tr>\n",
       "      <th>0</th>\n",
       "      <td>eds_python_2020_1</td>\n",
       "      <td>0.0</td>\n",
       "      <td>10.0</td>\n",
       "      <td>10.0</td>\n",
       "      <td>20.0</td>\n",
       "      <td>30.0</td>\n",
       "      <td>4.0</td>\n",
       "      <td>22.0</td>\n",
       "      <td>10.1</td>\n",
       "      <td>20.0</td>\n",
       "      <td>10.0</td>\n",
       "      <td>20.0</td>\n",
       "      <td>20.0</td>\n",
       "      <td>20.0</td>\n",
       "      <td>20.0</td>\n",
       "      <td>11.0</td>\n",
       "      <td>35.0</td>\n",
       "      <td>0.0</td>\n",
       "      <td>27.0</td>\n",
       "      <td>6.2</td>\n",
       "    </tr>\n",
       "    <tr>\n",
       "      <th>1</th>\n",
       "      <td>eds_python_2020_2</td>\n",
       "      <td>1.0</td>\n",
       "      <td>9.0</td>\n",
       "      <td>10.0</td>\n",
       "      <td>20.0</td>\n",
       "      <td>0.0</td>\n",
       "      <td>16.0</td>\n",
       "      <td>12.0</td>\n",
       "      <td>6.7</td>\n",
       "      <td>0.0</td>\n",
       "      <td>5.0</td>\n",
       "      <td>0.0</td>\n",
       "      <td>20.0</td>\n",
       "      <td>20.0</td>\n",
       "      <td>20.0</td>\n",
       "      <td>6.5</td>\n",
       "      <td>35.0</td>\n",
       "      <td>29.0</td>\n",
       "      <td>22.0</td>\n",
       "      <td>8.6</td>\n",
       "    </tr>\n",
       "    <tr>\n",
       "      <th>2</th>\n",
       "      <td>eds_python_2020_3</td>\n",
       "      <td>0.0</td>\n",
       "      <td>2.0</td>\n",
       "      <td>10.0</td>\n",
       "      <td>20.0</td>\n",
       "      <td>0.0</td>\n",
       "      <td>20.0</td>\n",
       "      <td>30.0</td>\n",
       "      <td>8.2</td>\n",
       "      <td>20.0</td>\n",
       "      <td>5.0</td>\n",
       "      <td>0.0</td>\n",
       "      <td>20.0</td>\n",
       "      <td>20.0</td>\n",
       "      <td>20.0</td>\n",
       "      <td>8.5</td>\n",
       "      <td>28.0</td>\n",
       "      <td>2.0</td>\n",
       "      <td>0.0</td>\n",
       "      <td>3.0</td>\n",
       "    </tr>\n",
       "    <tr>\n",
       "      <th>3</th>\n",
       "      <td>eds_python_2020_4</td>\n",
       "      <td>1.0</td>\n",
       "      <td>10.0</td>\n",
       "      <td>10.0</td>\n",
       "      <td>20.0</td>\n",
       "      <td>0.0</td>\n",
       "      <td>16.0</td>\n",
       "      <td>14.0</td>\n",
       "      <td>7.0</td>\n",
       "      <td>20.0</td>\n",
       "      <td>10.0</td>\n",
       "      <td>0.0</td>\n",
       "      <td>20.0</td>\n",
       "      <td>20.0</td>\n",
       "      <td>20.0</td>\n",
       "      <td>9.0</td>\n",
       "      <td>30.0</td>\n",
       "      <td>38.0</td>\n",
       "      <td>0.0</td>\n",
       "      <td>6.8</td>\n",
       "    </tr>\n",
       "    <tr>\n",
       "      <th>4</th>\n",
       "      <td>eds_python_2020_5</td>\n",
       "      <td>2.0</td>\n",
       "      <td>10.0</td>\n",
       "      <td>10.0</td>\n",
       "      <td>12.0</td>\n",
       "      <td>0.0</td>\n",
       "      <td>16.0</td>\n",
       "      <td>22.0</td>\n",
       "      <td>7.0</td>\n",
       "      <td>20.0</td>\n",
       "      <td>10.0</td>\n",
       "      <td>0.0</td>\n",
       "      <td>20.0</td>\n",
       "      <td>20.0</td>\n",
       "      <td>20.0</td>\n",
       "      <td>9.0</td>\n",
       "      <td>0.0</td>\n",
       "      <td>0.0</td>\n",
       "      <td>0.0</td>\n",
       "      <td>0.0</td>\n",
       "    </tr>\n",
       "  </tbody>\n",
       "</table>\n",
       "</div>"
      ],
      "text/plain": [
       "       contest_login  fraud   k1a   k1b   k1c   k1d   k1e   k1f    k1   k2a  \\\n",
       "0  eds_python_2020_1    0.0  10.0  10.0  20.0  30.0   4.0  22.0  10.1  20.0   \n",
       "1  eds_python_2020_2    1.0   9.0  10.0  20.0   0.0  16.0  12.0   6.7   0.0   \n",
       "2  eds_python_2020_3    0.0   2.0  10.0  20.0   0.0  20.0  30.0   8.2  20.0   \n",
       "3  eds_python_2020_4    1.0  10.0  10.0  20.0   0.0  16.0  14.0   7.0  20.0   \n",
       "4  eds_python_2020_5    2.0  10.0  10.0  12.0   0.0  16.0  22.0   7.0  20.0   \n",
       "\n",
       "    k2b   k2c   k2d   k2e   k2f    k2   k3a   k3b   k3c   k3  \n",
       "0  10.0  20.0  20.0  20.0  20.0  11.0  35.0   0.0  27.0  6.2  \n",
       "1   5.0   0.0  20.0  20.0  20.0   6.5  35.0  29.0  22.0  8.6  \n",
       "2   5.0   0.0  20.0  20.0  20.0   8.5  28.0   2.0   0.0  3.0  \n",
       "3  10.0   0.0  20.0  20.0  20.0   9.0  30.0  38.0   0.0  6.8  \n",
       "4  10.0   0.0  20.0  20.0  20.0   9.0   0.0   0.0   0.0  0.0  "
      ]
     },
     "execution_count": 37,
     "metadata": {},
     "output_type": "execute_result"
    }
   ],
   "source": [
    "df.head()"
   ]
  },
  {
   "cell_type": "code",
   "execution_count": 90,
   "metadata": {
    "ExecuteTime": {
     "end_time": "2024-11-12T10:36:47.635465Z",
     "start_time": "2024-11-12T10:36:47.615446Z"
    }
   },
   "outputs": [
    {
     "data": {
      "text/html": [
       "<div>\n",
       "<style scoped>\n",
       "    .dataframe tbody tr th:only-of-type {\n",
       "        vertical-align: middle;\n",
       "    }\n",
       "\n",
       "    .dataframe tbody tr th {\n",
       "        vertical-align: top;\n",
       "    }\n",
       "\n",
       "    .dataframe thead th {\n",
       "        text-align: right;\n",
       "    }\n",
       "</style>\n",
       "<table border=\"1\" class=\"dataframe\">\n",
       "  <thead>\n",
       "    <tr style=\"text-align: right;\">\n",
       "      <th></th>\n",
       "      <th>fraud</th>\n",
       "      <th>k3</th>\n",
       "    </tr>\n",
       "  </thead>\n",
       "  <tbody>\n",
       "    <tr>\n",
       "      <th>0</th>\n",
       "      <td>0.0</td>\n",
       "      <td>6.2</td>\n",
       "    </tr>\n",
       "    <tr>\n",
       "      <th>1</th>\n",
       "      <td>1.0</td>\n",
       "      <td>8.6</td>\n",
       "    </tr>\n",
       "    <tr>\n",
       "      <th>2</th>\n",
       "      <td>0.0</td>\n",
       "      <td>3.0</td>\n",
       "    </tr>\n",
       "    <tr>\n",
       "      <th>3</th>\n",
       "      <td>1.0</td>\n",
       "      <td>6.8</td>\n",
       "    </tr>\n",
       "    <tr>\n",
       "      <th>4</th>\n",
       "      <td>2.0</td>\n",
       "      <td>0.0</td>\n",
       "    </tr>\n",
       "  </tbody>\n",
       "</table>\n",
       "</div>"
      ],
      "text/plain": [
       "   fraud   k3\n",
       "0    0.0  6.2\n",
       "1    1.0  8.6\n",
       "2    0.0  3.0\n",
       "3    1.0  6.8\n",
       "4    2.0  0.0"
      ]
     },
     "execution_count": 90,
     "metadata": {},
     "output_type": "execute_result"
    }
   ],
   "source": [
    "dfyo = df[['fraud', 'k3']]\n",
    "dfyo.head()"
   ]
  },
  {
   "cell_type": "code",
   "execution_count": 91,
   "metadata": {
    "ExecuteTime": {
     "end_time": "2024-11-12T10:36:49.233675Z",
     "start_time": "2024-11-12T10:36:49.213643Z"
    }
   },
   "outputs": [
    {
     "name": "stderr",
     "output_type": "stream",
     "text": [
      "C:\\Users\\qazws\\AppData\\Local\\Temp\\ipykernel_23420\\3777796263.py:1: SettingWithCopyWarning: \n",
      "A value is trying to be set on a copy of a slice from a DataFrame.\n",
      "Try using .loc[row_indexer,col_indexer] = value instead\n",
      "\n",
      "See the caveats in the documentation: https://pandas.pydata.org/pandas-docs/stable/user_guide/indexing.html#returning-a-view-versus-a-copy\n",
      "  dfyo['is_k3'] = dfyo['k3'].apply(lambda x: 0 if x == 0 else 1)\n"
     ]
    },
    {
     "data": {
      "text/html": [
       "<div>\n",
       "<style scoped>\n",
       "    .dataframe tbody tr th:only-of-type {\n",
       "        vertical-align: middle;\n",
       "    }\n",
       "\n",
       "    .dataframe tbody tr th {\n",
       "        vertical-align: top;\n",
       "    }\n",
       "\n",
       "    .dataframe thead th {\n",
       "        text-align: right;\n",
       "    }\n",
       "</style>\n",
       "<table border=\"1\" class=\"dataframe\">\n",
       "  <thead>\n",
       "    <tr style=\"text-align: right;\">\n",
       "      <th></th>\n",
       "      <th>fraud</th>\n",
       "      <th>k3</th>\n",
       "      <th>is_k3</th>\n",
       "    </tr>\n",
       "  </thead>\n",
       "  <tbody>\n",
       "    <tr>\n",
       "      <th>0</th>\n",
       "      <td>0.0</td>\n",
       "      <td>6.2</td>\n",
       "      <td>1</td>\n",
       "    </tr>\n",
       "    <tr>\n",
       "      <th>1</th>\n",
       "      <td>1.0</td>\n",
       "      <td>8.6</td>\n",
       "      <td>1</td>\n",
       "    </tr>\n",
       "    <tr>\n",
       "      <th>2</th>\n",
       "      <td>0.0</td>\n",
       "      <td>3.0</td>\n",
       "      <td>1</td>\n",
       "    </tr>\n",
       "    <tr>\n",
       "      <th>3</th>\n",
       "      <td>1.0</td>\n",
       "      <td>6.8</td>\n",
       "      <td>1</td>\n",
       "    </tr>\n",
       "    <tr>\n",
       "      <th>4</th>\n",
       "      <td>2.0</td>\n",
       "      <td>0.0</td>\n",
       "      <td>0</td>\n",
       "    </tr>\n",
       "  </tbody>\n",
       "</table>\n",
       "</div>"
      ],
      "text/plain": [
       "   fraud   k3  is_k3\n",
       "0    0.0  6.2      1\n",
       "1    1.0  8.6      1\n",
       "2    0.0  3.0      1\n",
       "3    1.0  6.8      1\n",
       "4    2.0  0.0      0"
      ]
     },
     "execution_count": 91,
     "metadata": {},
     "output_type": "execute_result"
    }
   ],
   "source": [
    "dfyo['is_k3'] = dfyo['k3'].apply(lambda x: 0 if x == 0 else 1)\n",
    "dfyo.head()"
   ]
  },
  {
   "cell_type": "code",
   "execution_count": 93,
   "metadata": {
    "ExecuteTime": {
     "end_time": "2024-11-12T10:37:07.730670Z",
     "start_time": "2024-11-12T10:37:07.721438Z"
    }
   },
   "outputs": [
    {
     "data": {
      "text/plain": [
       "array([1, 1, 0, 1, 1, 0, 1, 1, 1, 1, 1, 1, 1, 1, 1, 1, 1, 1, 1, 1, 0, 1,\n",
       "       0, 1, 1, 0, 1, 1, 1, 1, 1, 1, 1, 1, 0, 1, 1, 1, 1, 1, 0, 1, 1, 0,\n",
       "       0, 1, 0, 1, 0, 0, 1, 0, 1, 1, 1, 1, 1, 1, 1, 1, 0, 1, 1, 1, 0, 0,\n",
       "       1, 1, 1, 0, 1, 0, 0, 0, 1, 0, 0, 0, 1, 0, 0, 0, 0, 1, 0, 0, 0, 0,\n",
       "       0, 1, 1, 1, 0, 1, 1, 1, 1, 0, 1, 0, 1, 0, 1, 1, 0, 0, 1, 0, 1, 1,\n",
       "       1, 0, 1, 0, 1, 1, 0, 1, 1, 1, 0, 0, 1, 1, 1, 0, 0, 0, 0, 0, 0, 1,\n",
       "       1, 0, 0, 1, 1, 1, 0, 1, 1, 1, 1, 1, 1, 1, 1, 1, 1, 0, 1, 1, 1, 0,\n",
       "       0, 1, 1, 0, 1, 0, 0, 1, 1, 1, 1, 1, 0, 0, 1, 1, 1, 1, 1, 0, 1, 0,\n",
       "       1, 0, 0, 1, 0, 1, 1, 1, 1, 1, 0, 1, 0, 1, 0, 1, 1, 0, 0, 1, 1, 1,\n",
       "       0, 0, 1, 0, 1, 0, 0, 1, 0, 1, 1, 0, 1, 1, 0, 1, 1, 0, 0, 0, 1, 0,\n",
       "       1, 1, 0, 1, 0, 1, 0, 1, 1, 0, 1, 1, 1, 1, 0, 1, 1, 1, 1, 0, 0, 1,\n",
       "       1, 1, 0, 0, 0, 1, 1, 1])"
      ]
     },
     "execution_count": 93,
     "metadata": {},
     "output_type": "execute_result"
    }
   ],
   "source": [
    "angels_13 = dfyo[dfyo.fraud == 0].is_k3.values\n",
    "demons_13 = dfyo[dfyo.fraud > 0].is_k3.values\n",
    "demons_13"
   ]
  },
  {
   "cell_type": "code",
   "execution_count": 105,
   "metadata": {
    "ExecuteTime": {
     "end_time": "2024-11-12T10:50:50.713045Z",
     "start_time": "2024-11-12T10:50:50.705051Z"
    }
   },
   "outputs": [
    {
     "name": "stdout",
     "output_type": "stream",
     "text": [
      "95%-й доверительный интервал для разности долей: (-0.1885, 0.0334)\n"
     ]
    }
   ],
   "source": [
    "def confidence_interval_proportion_diff(sample1, sample2, confidence=0.95):\n",
    "    # Вычисляем доли единиц (успехов) для обеих выборок\n",
    "    p1 = np.mean(angels_13)\n",
    "    p2 = np.mean(demons_13)\n",
    "    \n",
    "    # Объемы выборок\n",
    "    n1 = len(angels_13)\n",
    "    n2 = len(demons_13)\n",
    "    \n",
    "    # Разность долей\n",
    "    diff = p1 - p2\n",
    "    \n",
    "    # Стандартная ошибка разности долей\n",
    "    se_diff = np.sqrt((p1 * (1 - p1) / n1) + (p2 * (1 - p2) / n2))\n",
    "    \n",
    "    # Определяем критическое значение для указанного уровня доверия\n",
    "    z_score = stats.norm.ppf(1 - (1 - confidence) / 2)\n",
    "    \n",
    "    # Нижняя и верхняя границы доверительного интервала\n",
    "    left = diff - z_score * se_diff\n",
    "    right = diff + z_score * se_diff\n",
    "    \n",
    "    return left, right\n",
    "\n",
    "\n",
    "ci_lower, ci_upper = confidence_interval_proportion_diff(angels_13, demons_13)\n",
    "print(f\"95%-й доверительный интервал для разности долей: ({ci_lower:.4f}, {ci_upper:.4f})\")\n"
   ]
  },
  {
   "cell_type": "code",
   "execution_count": 106,
   "metadata": {
    "ExecuteTime": {
     "end_time": "2024-11-12T10:50:55.687445Z",
     "start_time": "2024-11-12T10:50:55.499898Z"
    },
    "deletable": false,
    "editable": false,
    "nbgrader": {
     "cell_type": "code",
     "checksum": "a2f3f3298bd64ba91c05198dca9dd9f2",
     "grade": true,
     "grade_id": "cell-8e20dc8eae1d7215",
     "locked": true,
     "points": 1,
     "schema_version": 3,
     "solution": false,
     "task": false
    }
   },
   "outputs": [
    {
     "ename": "TypeError",
     "evalue": "unsupported operand type(s) for +: 'ellipsis' and 'float'",
     "output_type": "error",
     "traceback": [
      "\u001b[1;31m---------------------------------------------------------------------------\u001b[0m",
      "\u001b[1;31mTypeError\u001b[0m                                 Traceback (most recent call last)",
      "Cell \u001b[1;32mIn[106], line 2\u001b[0m\n\u001b[0;32m      1\u001b[0m \u001b[38;5;66;03m# проверка, что границы доверительного интервала найдены верно\u001b[39;00m\n\u001b[1;32m----> 2\u001b[0m \u001b[38;5;28;01massert\u001b[39;00m np\u001b[38;5;241m.\u001b[39mabs(\u001b[43mleft\u001b[49m\u001b[43m \u001b[49m\u001b[38;5;241;43m+\u001b[39;49m\u001b[43m \u001b[49m\u001b[38;5;241;43m0.1885\u001b[39;49m) \u001b[38;5;241m<\u001b[39m \u001b[38;5;241m1e-3\u001b[39m\n\u001b[0;32m      4\u001b[0m \u001b[38;5;66;03m# похожие тесты на другие части задания скрыты от вас\u001b[39;00m\n",
      "\u001b[1;31mTypeError\u001b[0m: unsupported operand type(s) for +: 'ellipsis' and 'float'"
     ]
    }
   ],
   "source": [
    "# проверка, что границы доверительного интервала найдены верно\n",
    "assert np.abs(left + 0.1885) < 1e-3\n",
    "\n",
    "# похожие тесты на другие части задания скрыты от вас\n"
   ]
  },
  {
   "cell_type": "markdown",
   "metadata": {
    "deletable": false,
    "editable": false,
    "nbgrader": {
     "cell_type": "markdown",
     "checksum": "305582da29ec7a31d2f90c0f06fb9651",
     "grade": false,
     "grade_id": "cell-e474bad5c9133fa8",
     "locked": true,
     "schema_version": 3,
     "solution": false,
     "task": false
    }
   },
   "source": [
    "Входит ли в доверительный интервал ноль? Как думаете, что это означает? "
   ]
  },
  {
   "cell_type": "markdown",
   "metadata": {
    "deletable": false,
    "editable": false,
    "nbgrader": {
     "cell_type": "markdown",
     "checksum": "85e3ab45a0c0e7a5455403c2f2824bb3",
     "grade": false,
     "grade_id": "cell-0e6bd521a8522d4b",
     "locked": true,
     "schema_version": 3,
     "solution": false,
     "task": false
    }
   },
   "source": [
    "__ж) Снова разница средних__ \n",
    "\n",
    "Посмотрим на результаты студентов в динамике. Постройте точный $95\\%$ доверительный интервал для средней разницы оценок за вторую и первую контрольные. Пропуски в данных заполните нулями. "
   ]
  },
  {
   "cell_type": "code",
   "execution_count": 165,
   "metadata": {
    "ExecuteTime": {
     "end_time": "2024-11-12T11:20:32.830985Z",
     "start_time": "2024-11-12T11:20:32.817001Z"
    }
   },
   "outputs": [
    {
     "name": "stderr",
     "output_type": "stream",
     "text": [
      "C:\\Users\\qazws\\AppData\\Local\\Temp\\ipykernel_23420\\571212332.py:2: SettingWithCopyWarning: \n",
      "A value is trying to be set on a copy of a slice from a DataFrame.\n",
      "Try using .loc[row_indexer,col_indexer] = value instead\n",
      "\n",
      "See the caveats in the documentation: https://pandas.pydata.org/pandas-docs/stable/user_guide/indexing.html#returning-a-view-versus-a-copy\n",
      "  dfzh['k12mean'] = dfzh['k1'] - dfzh['k2']\n"
     ]
    },
    {
     "data": {
      "text/html": [
       "<div>\n",
       "<style scoped>\n",
       "    .dataframe tbody tr th:only-of-type {\n",
       "        vertical-align: middle;\n",
       "    }\n",
       "\n",
       "    .dataframe tbody tr th {\n",
       "        vertical-align: top;\n",
       "    }\n",
       "\n",
       "    .dataframe thead th {\n",
       "        text-align: right;\n",
       "    }\n",
       "</style>\n",
       "<table border=\"1\" class=\"dataframe\">\n",
       "  <thead>\n",
       "    <tr style=\"text-align: right;\">\n",
       "      <th></th>\n",
       "      <th>k1</th>\n",
       "      <th>k2</th>\n",
       "      <th>k12mean</th>\n",
       "    </tr>\n",
       "  </thead>\n",
       "  <tbody>\n",
       "    <tr>\n",
       "      <th>0</th>\n",
       "      <td>10.1</td>\n",
       "      <td>11.0</td>\n",
       "      <td>-0.9</td>\n",
       "    </tr>\n",
       "    <tr>\n",
       "      <th>1</th>\n",
       "      <td>6.7</td>\n",
       "      <td>6.5</td>\n",
       "      <td>0.2</td>\n",
       "    </tr>\n",
       "    <tr>\n",
       "      <th>2</th>\n",
       "      <td>8.2</td>\n",
       "      <td>8.5</td>\n",
       "      <td>-0.3</td>\n",
       "    </tr>\n",
       "    <tr>\n",
       "      <th>3</th>\n",
       "      <td>7.0</td>\n",
       "      <td>9.0</td>\n",
       "      <td>-2.0</td>\n",
       "    </tr>\n",
       "    <tr>\n",
       "      <th>4</th>\n",
       "      <td>7.0</td>\n",
       "      <td>9.0</td>\n",
       "      <td>-2.0</td>\n",
       "    </tr>\n",
       "  </tbody>\n",
       "</table>\n",
       "</div>"
      ],
      "text/plain": [
       "     k1    k2  k12mean\n",
       "0  10.1  11.0     -0.9\n",
       "1   6.7   6.5      0.2\n",
       "2   8.2   8.5     -0.3\n",
       "3   7.0   9.0     -2.0\n",
       "4   7.0   9.0     -2.0"
      ]
     },
     "execution_count": 165,
     "metadata": {},
     "output_type": "execute_result"
    }
   ],
   "source": [
    "dfzh = df[['k1', 'k2']]\n",
    "dfzh['k12mean'] = dfzh['k1'] - dfzh['k2']\n",
    "dfzh.head()"
   ]
  },
  {
   "cell_type": "code",
   "execution_count": 185,
   "metadata": {
    "ExecuteTime": {
     "end_time": "2024-11-12T11:40:09.963482Z",
     "start_time": "2024-11-12T11:40:09.928264Z"
    }
   },
   "outputs": [
    {
     "data": {
      "text/html": [
       "<div>\n",
       "<style scoped>\n",
       "    .dataframe tbody tr th:only-of-type {\n",
       "        vertical-align: middle;\n",
       "    }\n",
       "\n",
       "    .dataframe tbody tr th {\n",
       "        vertical-align: top;\n",
       "    }\n",
       "\n",
       "    .dataframe thead th {\n",
       "        text-align: right;\n",
       "    }\n",
       "</style>\n",
       "<table border=\"1\" class=\"dataframe\">\n",
       "  <thead>\n",
       "    <tr style=\"text-align: right;\">\n",
       "      <th></th>\n",
       "      <th>k1</th>\n",
       "      <th>k2</th>\n",
       "      <th>k12mean</th>\n",
       "    </tr>\n",
       "  </thead>\n",
       "  <tbody>\n",
       "    <tr>\n",
       "      <th>0</th>\n",
       "      <td>10.1</td>\n",
       "      <td>11.0</td>\n",
       "      <td>-0.9</td>\n",
       "    </tr>\n",
       "    <tr>\n",
       "      <th>1</th>\n",
       "      <td>6.7</td>\n",
       "      <td>6.5</td>\n",
       "      <td>0.2</td>\n",
       "    </tr>\n",
       "    <tr>\n",
       "      <th>2</th>\n",
       "      <td>8.2</td>\n",
       "      <td>8.5</td>\n",
       "      <td>-0.3</td>\n",
       "    </tr>\n",
       "    <tr>\n",
       "      <th>3</th>\n",
       "      <td>7.0</td>\n",
       "      <td>9.0</td>\n",
       "      <td>-2.0</td>\n",
       "    </tr>\n",
       "    <tr>\n",
       "      <th>4</th>\n",
       "      <td>7.0</td>\n",
       "      <td>9.0</td>\n",
       "      <td>-2.0</td>\n",
       "    </tr>\n",
       "  </tbody>\n",
       "</table>\n",
       "</div>"
      ],
      "text/plain": [
       "     k1    k2  k12mean\n",
       "0  10.1  11.0     -0.9\n",
       "1   6.7   6.5      0.2\n",
       "2   8.2   8.5     -0.3\n",
       "3   7.0   9.0     -2.0\n",
       "4   7.0   9.0     -2.0"
      ]
     },
     "execution_count": 185,
     "metadata": {},
     "output_type": "execute_result"
    }
   ],
   "source": [
    "dfzh.head()"
   ]
  },
  {
   "cell_type": "code",
   "execution_count": 190,
   "metadata": {
    "ExecuteTime": {
     "end_time": "2024-11-12T11:43:57.025374Z",
     "start_time": "2024-11-12T11:43:57.008385Z"
    }
   },
   "outputs": [
    {
     "name": "stdout",
     "output_type": "stream",
     "text": [
      "Доверительный интервал: [-1.6199; -0.8314]\n"
     ]
    }
   ],
   "source": [
    "mean_diff = dfzh['k12mean'].mean()\n",
    "n = len(dfzh)\n",
    "s_squared = (1 / (n - 1)) * np.sum((dfzh['k12mean'] - mean_diff) ** 2)\n",
    "se_diff = np.sqrt(s_squared / n)\n",
    "\n",
    "# Доверительный интервал\n",
    "left, right = stats.t.interval(0.95, df=n-1, loc=mean_diff, scale=se_diff)\n",
    "\n",
    "print(f\"Доверительный интервал: [{left:.4f}; {right:.4f}]\")\n"
   ]
  },
  {
   "cell_type": "code",
   "execution_count": 180,
   "metadata": {
    "ExecuteTime": {
     "end_time": "2024-11-12T11:33:49.009282Z",
     "start_time": "2024-11-12T11:33:48.972731Z"
    },
    "deletable": false,
    "editable": false,
    "nbgrader": {
     "cell_type": "code",
     "checksum": "e83675f27e578b2b047e25e1f75c7bd4",
     "grade": true,
     "grade_id": "cell-ca8717f63e57ee77",
     "locked": true,
     "points": 1,
     "schema_version": 3,
     "solution": false,
     "task": false
    }
   },
   "outputs": [
    {
     "ename": "AssertionError",
     "evalue": "",
     "output_type": "error",
     "traceback": [
      "\u001b[1;31m---------------------------------------------------------------------------\u001b[0m",
      "\u001b[1;31mAssertionError\u001b[0m                            Traceback (most recent call last)",
      "Cell \u001b[1;32mIn[180], line 2\u001b[0m\n\u001b[0;32m      1\u001b[0m \u001b[38;5;66;03m# проверка, что границы доверительного интервала найдены верно\u001b[39;00m\n\u001b[1;32m----> 2\u001b[0m \u001b[38;5;28;01massert\u001b[39;00m np\u001b[38;5;241m.\u001b[39mabs(left \u001b[38;5;241m+\u001b[39m \u001b[38;5;241m1.4562881732820103\u001b[39m) \u001b[38;5;241m<\u001b[39m \u001b[38;5;241m1e-5\u001b[39m\n\u001b[0;32m      4\u001b[0m \u001b[38;5;66;03m# похожие тесты на другие части задания скрыты от вас\u001b[39;00m\n",
      "\u001b[1;31mAssertionError\u001b[0m: "
     ]
    }
   ],
   "source": [
    "# проверка, что границы доверительного интервала найдены верно\n",
    "assert np.abs(left + 1.4562881732820103) < 1e-5\n",
    "\n",
    "# похожие тесты на другие части задания скрыты от вас\n"
   ]
  },
  {
   "cell_type": "markdown",
   "metadata": {
    "deletable": false,
    "editable": false,
    "nbgrader": {
     "cell_type": "markdown",
     "checksum": "9e70820055d9cf699f61b64bdee48755",
     "grade": false,
     "grade_id": "cell-d60ae7faf8d2aa78",
     "locked": true,
     "schema_version": 3,
     "solution": false,
     "task": false
    }
   },
   "source": [
    "Входит ли в доверительный интервал ноль? Как думаете, что это означает? "
   ]
  },
  {
   "cell_type": "markdown",
   "metadata": {
    "deletable": false,
    "editable": false,
    "nbgrader": {
     "cell_type": "markdown",
     "checksum": "077635f824d87fa65f1974a77ad1e58f",
     "grade": false,
     "grade_id": "cell-701c121e9d85cfbe",
     "locked": true,
     "schema_version": 3,
     "solution": false,
     "task": false
    }
   },
   "source": [
    "Это домашка подошла к концу. Поздравляю! Теперь вы умеете строить точные доверительные интервалы для нормальных выборок."
   ]
  }
 ],
 "metadata": {
  "kernelspec": {
   "display_name": "Python 3 (ipykernel)",
   "language": "python",
   "name": "python3"
  },
  "language_info": {
   "codemirror_mode": {
    "name": "ipython",
    "version": 3
   },
   "file_extension": ".py",
   "mimetype": "text/x-python",
   "name": "python",
   "nbconvert_exporter": "python",
   "pygments_lexer": "ipython3",
   "version": "3.9.5"
  },
  "toc": {
   "base_numbering": 1,
   "nav_menu": {},
   "number_sections": true,
   "sideBar": true,
   "skip_h1_title": false,
   "title_cell": "Table of Contents",
   "title_sidebar": "Contents",
   "toc_cell": false,
   "toc_position": {},
   "toc_section_display": true,
   "toc_window_display": false
  }
 },
 "nbformat": 4,
 "nbformat_minor": 2
}
